{
 "cells": [
  {
   "cell_type": "markdown",
   "id": "0b7db07b-2f5c-429d-803a-915260efb172",
   "metadata": {},
   "source": [
    "# Modelo"
   ]
  },
  {
   "cell_type": "markdown",
   "id": "73cd40f2",
   "metadata": {},
   "source": [
    "- [Cargue de datos](#Cargue-Datos)\n",
    "- [Reglas establecidas](#Reglas)\n",
    "- Modelo\n",
    "    - [Regresión Logistica](#Regresion-Logistica)\n",
    "    - [RandomForest](#RandomForest)\n",
    "- [Justicia](#Justicia)\n",
    "    - [Genero](#Genero)\n",
    "    - [Ciudad Residencia](#Ciudad-Residencia)\n",
    "    - [Estrato](#Estrato)\n",
    "- [Selección Modelo](#Seleccion-Modelo)\n",
    "    - Generar joblib"
   ]
  },
  {
   "cell_type": "markdown",
   "id": "eafbe8ef-e3eb-4652-96ff-f3c2c08fbf24",
   "metadata": {},
   "source": [
    "## Librería"
   ]
  },
  {
   "cell_type": "code",
   "execution_count": 4,
   "id": "6d059779-ff68-431d-904d-4d1107a8ed68",
   "metadata": {},
   "outputs": [],
   "source": [
    "import pandas as pd\n",
    "import numpy as np\n",
    "import matplotlib.pyplot as plt\n",
    "from matplotlib.ticker import FuncFormatter, FormatStrFormatter\n",
    "\n",
    "import seaborn as sns\n",
    "import plotly.express as px\n",
    "import plotly.graph_objects as go\n",
    "import plotly.figure_factory as ff\n",
    "from sklearn.preprocessing import LabelEncoder # Import LabelEncoder\n",
    "\n",
    "from sklearn.model_selection import train_test_split\n",
    "from sklearn.preprocessing import StandardScaler\n",
    "from imblearn.over_sampling import SMOTE\n",
    "from sklearn.ensemble import RandomForestClassifier\n",
    "from sklearn.metrics import ConfusionMatrixDisplay,accuracy_score, confusion_matrix, classification_report,mean_absolute_error, mean_squared_error, r2_score,roc_curve, auc, roc_auc_score, roc_curve\n",
    "from sklearn.linear_model import LinearRegression,LogisticRegression\n",
    "\n",
    "import joblib\n",
    "import warnings\n",
    "import sys\n",
    "import os\n",
    "import random\n",
    "\n",
    "# Imprimir el texto en formato Markdown\n",
    "from IPython.display import Markdown\n"
   ]
  },
  {
   "cell_type": "code",
   "execution_count": 5,
   "id": "e1702b1c-73b2-43e2-927e-40960ba4d423",
   "metadata": {},
   "outputs": [],
   "source": [
    "# configuración\n",
    "warnings.filterwarnings('ignore')\n",
    "\n",
    "pd.set_option(\"display.max_columns\", None)\n",
    "pd.set_option(\"display.max_rows\", 100)\n",
    "pd.set_option('display.max_colwidth', 128)\n",
    "pd.set_option('display.float_format', '{:.2f}'.format)  # 2 decimales\n",
    "pd.set_option('expand_frame_repr', False)\n",
    "np.set_printoptions(threshold=sys.maxsize)"
   ]
  },
  {
   "cell_type": "code",
   "execution_count": 6,
   "id": "0400125d-38b9-46d9-a67b-12c01ab33753",
   "metadata": {},
   "outputs": [],
   "source": [
    "# Establecer la semilla general\n",
    "seed_value = 42\n",
    "random.seed(seed_value)\n",
    "np.random.seed(seed_value)"
   ]
  },
  {
   "cell_type": "code",
   "execution_count": 7,
   "id": "df874f8b-9c76-4979-be84-f5acdea0e733",
   "metadata": {},
   "outputs": [],
   "source": [
    "# Función para formatear a dos decimales\n",
    "def decimal_formatter(x, _):\n",
    "    return f\"{x:,.2f}\" \n",
    "\n",
    "def decimal_formatter2(x):\n",
    "    return f\"{x:,.2f}\" "
   ]
  },
  {
   "cell_type": "code",
   "execution_count": 8,
   "id": "db87c3ef-acae-4236-8d7d-df51cfe8fe46",
   "metadata": {},
   "outputs": [],
   "source": [
    "def calculate_target(row):\n",
    "    \"\"\"\n",
    "    Función para definir el valor de target de acuerdo a las reglas\n",
    "    \n",
    "    :param \n",
    "        row: Columna de la cual se revisa el target\n",
    "    :return \n",
    "        target: Valor 0, si corresponde a deserción; Valor 1 si mantiene sus estudios\n",
    "    \"\"\"\n",
    "    target=0\n",
    "    if (row['SITUACION_ACTUAL'] == 'EXCLUIDO NO RENOVACION DE MATRICULA' or row[\"SITUACION_ACTUAL\"]=='RETIRO DEFINITIVO' or row[\"SITUACION_ACTUAL\"]=='EXCLUIDO CANCELACION SEMESTRE' ) and  (row['CATEGORIA_ACTUAL'] != \"CONTINUIDAD ACADEMICA - EGRESADO\") :\n",
    "        target=0\n",
    "    else:\n",
    "        target=1\n",
    "    \n",
    "    return target"
   ]
  },
  {
   "cell_type": "markdown",
   "id": "8168fddb",
   "metadata": {},
   "source": [
    "## Cargue Datos\n",
    "([Volver al Inicio](#Modelo))"
   ]
  },
  {
   "cell_type": "code",
   "execution_count": 10,
   "id": "5aa3e835-2453-412d-86f0-ae71afc20563",
   "metadata": {},
   "outputs": [],
   "source": [
    "# Carga de datos\n",
    "data = pd.read_csv('../stage/clean.csv', sep=\",\", encoding='utf-8')"
   ]
  },
  {
   "cell_type": "code",
   "execution_count": 11,
   "id": "24fddbe9-6a51-4931-bb2d-c3eb4a421ef8",
   "metadata": {},
   "outputs": [
    {
     "data": {
      "text/html": [
       "<div>\n",
       "<style scoped>\n",
       "    .dataframe tbody tr th:only-of-type {\n",
       "        vertical-align: middle;\n",
       "    }\n",
       "\n",
       "    .dataframe tbody tr th {\n",
       "        vertical-align: top;\n",
       "    }\n",
       "\n",
       "    .dataframe thead th {\n",
       "        text-align: right;\n",
       "    }\n",
       "</style>\n",
       "<table border=\"1\" class=\"dataframe\">\n",
       "  <thead>\n",
       "    <tr style=\"text-align: right;\">\n",
       "      <th></th>\n",
       "      <th>ESTRATO</th>\n",
       "      <th>SEMESTRE</th>\n",
       "      <th>PROMEDIOSEMESTRE</th>\n",
       "      <th>EDAD2</th>\n",
       "      <th>PROGRAMA</th>\n",
       "      <th>GENERO</th>\n",
       "      <th>CIUDADRESIDENCIA</th>\n",
       "      <th>CIUDADNACIMIENTO</th>\n",
       "      <th>target</th>\n",
       "    </tr>\n",
       "  </thead>\n",
       "  <tbody>\n",
       "    <tr>\n",
       "      <th>0</th>\n",
       "      <td>3.00</td>\n",
       "      <td>8</td>\n",
       "      <td>3.90</td>\n",
       "      <td>22</td>\n",
       "      <td>4</td>\n",
       "      <td>1</td>\n",
       "      <td>23</td>\n",
       "      <td>47</td>\n",
       "      <td>1</td>\n",
       "    </tr>\n",
       "    <tr>\n",
       "      <th>1</th>\n",
       "      <td>3.00</td>\n",
       "      <td>8</td>\n",
       "      <td>4.50</td>\n",
       "      <td>27</td>\n",
       "      <td>4</td>\n",
       "      <td>0</td>\n",
       "      <td>23</td>\n",
       "      <td>47</td>\n",
       "      <td>1</td>\n",
       "    </tr>\n",
       "    <tr>\n",
       "      <th>2</th>\n",
       "      <td>3.00</td>\n",
       "      <td>8</td>\n",
       "      <td>4.00</td>\n",
       "      <td>22</td>\n",
       "      <td>4</td>\n",
       "      <td>0</td>\n",
       "      <td>23</td>\n",
       "      <td>119</td>\n",
       "      <td>1</td>\n",
       "    </tr>\n",
       "    <tr>\n",
       "      <th>3</th>\n",
       "      <td>3.00</td>\n",
       "      <td>8</td>\n",
       "      <td>4.80</td>\n",
       "      <td>26</td>\n",
       "      <td>4</td>\n",
       "      <td>0</td>\n",
       "      <td>23</td>\n",
       "      <td>47</td>\n",
       "      <td>1</td>\n",
       "    </tr>\n",
       "    <tr>\n",
       "      <th>4</th>\n",
       "      <td>3.00</td>\n",
       "      <td>7</td>\n",
       "      <td>4.20</td>\n",
       "      <td>28</td>\n",
       "      <td>4</td>\n",
       "      <td>0</td>\n",
       "      <td>23</td>\n",
       "      <td>47</td>\n",
       "      <td>1</td>\n",
       "    </tr>\n",
       "  </tbody>\n",
       "</table>\n",
       "</div>"
      ],
      "text/plain": [
       "   ESTRATO  SEMESTRE  PROMEDIOSEMESTRE  EDAD2  PROGRAMA  GENERO  CIUDADRESIDENCIA  CIUDADNACIMIENTO  target\n",
       "0     3.00         8              3.90     22         4       1                23                47       1\n",
       "1     3.00         8              4.50     27         4       0                23                47       1\n",
       "2     3.00         8              4.00     22         4       0                23               119       1\n",
       "3     3.00         8              4.80     26         4       0                23                47       1\n",
       "4     3.00         7              4.20     28         4       0                23                47       1"
      ]
     },
     "execution_count": 11,
     "metadata": {},
     "output_type": "execute_result"
    }
   ],
   "source": [
    "# Visualización de datos\n",
    "data.head()"
   ]
  },
  {
   "cell_type": "code",
   "execution_count": 12,
   "id": "4f6c042e",
   "metadata": {},
   "outputs": [
    {
     "data": {
      "text/html": [
       "<div>\n",
       "<style scoped>\n",
       "    .dataframe tbody tr th:only-of-type {\n",
       "        vertical-align: middle;\n",
       "    }\n",
       "\n",
       "    .dataframe tbody tr th {\n",
       "        vertical-align: top;\n",
       "    }\n",
       "\n",
       "    .dataframe thead th {\n",
       "        text-align: right;\n",
       "    }\n",
       "</style>\n",
       "<table border=\"1\" class=\"dataframe\">\n",
       "  <thead>\n",
       "    <tr style=\"text-align: right;\">\n",
       "      <th></th>\n",
       "      <th>ESTRATO</th>\n",
       "      <th>SEMESTRE</th>\n",
       "      <th>PROMEDIOSEMESTRE</th>\n",
       "      <th>EDAD2</th>\n",
       "      <th>PROGRAMA</th>\n",
       "      <th>GENERO</th>\n",
       "      <th>CIUDADRESIDENCIA</th>\n",
       "      <th>CIUDADNACIMIENTO</th>\n",
       "      <th>target</th>\n",
       "    </tr>\n",
       "  </thead>\n",
       "  <tbody>\n",
       "    <tr>\n",
       "      <th>0</th>\n",
       "      <td>3.00</td>\n",
       "      <td>8</td>\n",
       "      <td>3.90</td>\n",
       "      <td>22</td>\n",
       "      <td>4</td>\n",
       "      <td>1</td>\n",
       "      <td>23</td>\n",
       "      <td>47</td>\n",
       "      <td>1</td>\n",
       "    </tr>\n",
       "    <tr>\n",
       "      <th>1</th>\n",
       "      <td>3.00</td>\n",
       "      <td>8</td>\n",
       "      <td>4.50</td>\n",
       "      <td>27</td>\n",
       "      <td>4</td>\n",
       "      <td>0</td>\n",
       "      <td>23</td>\n",
       "      <td>47</td>\n",
       "      <td>1</td>\n",
       "    </tr>\n",
       "    <tr>\n",
       "      <th>2</th>\n",
       "      <td>3.00</td>\n",
       "      <td>8</td>\n",
       "      <td>4.00</td>\n",
       "      <td>22</td>\n",
       "      <td>4</td>\n",
       "      <td>0</td>\n",
       "      <td>23</td>\n",
       "      <td>119</td>\n",
       "      <td>1</td>\n",
       "    </tr>\n",
       "    <tr>\n",
       "      <th>3</th>\n",
       "      <td>3.00</td>\n",
       "      <td>8</td>\n",
       "      <td>4.80</td>\n",
       "      <td>26</td>\n",
       "      <td>4</td>\n",
       "      <td>0</td>\n",
       "      <td>23</td>\n",
       "      <td>47</td>\n",
       "      <td>1</td>\n",
       "    </tr>\n",
       "    <tr>\n",
       "      <th>4</th>\n",
       "      <td>3.00</td>\n",
       "      <td>7</td>\n",
       "      <td>4.20</td>\n",
       "      <td>28</td>\n",
       "      <td>4</td>\n",
       "      <td>0</td>\n",
       "      <td>23</td>\n",
       "      <td>47</td>\n",
       "      <td>1</td>\n",
       "    </tr>\n",
       "  </tbody>\n",
       "</table>\n",
       "</div>"
      ],
      "text/plain": [
       "   ESTRATO  SEMESTRE  PROMEDIOSEMESTRE  EDAD2  PROGRAMA  GENERO  CIUDADRESIDENCIA  CIUDADNACIMIENTO  target\n",
       "0     3.00         8              3.90     22         4       1                23                47       1\n",
       "1     3.00         8              4.50     27         4       0                23                47       1\n",
       "2     3.00         8              4.00     22         4       0                23               119       1\n",
       "3     3.00         8              4.80     26         4       0                23                47       1\n",
       "4     3.00         7              4.20     28         4       0                23                47       1"
      ]
     },
     "execution_count": 12,
     "metadata": {},
     "output_type": "execute_result"
    }
   ],
   "source": [
    "# Visualización de datos\n",
    "data.head()"
   ]
  },
  {
   "cell_type": "code",
   "execution_count": 13,
   "id": "8f93137d-ef22-40fd-8102-c516de11ac05",
   "metadata": {},
   "outputs": [
    {
     "name": "stdout",
     "output_type": "stream",
     "text": [
      "Dimensiones del dataset data : 9096 registros, 9 columnas\n"
     ]
    }
   ],
   "source": [
    "# dimension datasets\n",
    "print(f'Dimensiones del dataset data : {data.shape[0]} registros, {data.shape[1]} columnas')"
   ]
  },
  {
   "cell_type": "code",
   "execution_count": 14,
   "id": "a5aa3c0d-ecb1-483d-94ec-60a2b9e9c536",
   "metadata": {},
   "outputs": [
    {
     "data": {
      "text/html": [
       "<div>\n",
       "<style scoped>\n",
       "    .dataframe tbody tr th:only-of-type {\n",
       "        vertical-align: middle;\n",
       "    }\n",
       "\n",
       "    .dataframe tbody tr th {\n",
       "        vertical-align: top;\n",
       "    }\n",
       "\n",
       "    .dataframe thead th {\n",
       "        text-align: right;\n",
       "    }\n",
       "</style>\n",
       "<table border=\"1\" class=\"dataframe\">\n",
       "  <thead>\n",
       "    <tr style=\"text-align: right;\">\n",
       "      <th></th>\n",
       "      <th>nulos</th>\n",
       "      <th>tipo_dato</th>\n",
       "    </tr>\n",
       "  </thead>\n",
       "  <tbody>\n",
       "    <tr>\n",
       "      <th>ESTRATO</th>\n",
       "      <td>6</td>\n",
       "      <td>float64</td>\n",
       "    </tr>\n",
       "    <tr>\n",
       "      <th>SEMESTRE</th>\n",
       "      <td>0</td>\n",
       "      <td>int64</td>\n",
       "    </tr>\n",
       "    <tr>\n",
       "      <th>PROMEDIOSEMESTRE</th>\n",
       "      <td>0</td>\n",
       "      <td>float64</td>\n",
       "    </tr>\n",
       "    <tr>\n",
       "      <th>EDAD2</th>\n",
       "      <td>0</td>\n",
       "      <td>int64</td>\n",
       "    </tr>\n",
       "    <tr>\n",
       "      <th>PROGRAMA</th>\n",
       "      <td>0</td>\n",
       "      <td>int64</td>\n",
       "    </tr>\n",
       "    <tr>\n",
       "      <th>GENERO</th>\n",
       "      <td>0</td>\n",
       "      <td>int64</td>\n",
       "    </tr>\n",
       "    <tr>\n",
       "      <th>CIUDADRESIDENCIA</th>\n",
       "      <td>0</td>\n",
       "      <td>int64</td>\n",
       "    </tr>\n",
       "    <tr>\n",
       "      <th>CIUDADNACIMIENTO</th>\n",
       "      <td>0</td>\n",
       "      <td>int64</td>\n",
       "    </tr>\n",
       "    <tr>\n",
       "      <th>target</th>\n",
       "      <td>0</td>\n",
       "      <td>int64</td>\n",
       "    </tr>\n",
       "  </tbody>\n",
       "</table>\n",
       "</div>"
      ],
      "text/plain": [
       "                  nulos tipo_dato\n",
       "ESTRATO               6   float64\n",
       "SEMESTRE              0     int64\n",
       "PROMEDIOSEMESTRE      0   float64\n",
       "EDAD2                 0     int64\n",
       "PROGRAMA              0     int64\n",
       "GENERO                0     int64\n",
       "CIUDADRESIDENCIA      0     int64\n",
       "CIUDADNACIMIENTO      0     int64\n",
       "target                0     int64"
      ]
     },
     "execution_count": 14,
     "metadata": {},
     "output_type": "execute_result"
    }
   ],
   "source": [
    "# Revisón de campos vacíos/nulos\n",
    "nulos_y_tipos = pd.DataFrame({\n",
    "    'nulos': data.isnull().sum(),\n",
    "    'tipo_dato': data.dtypes\n",
    "})\n",
    "nulos_y_tipos"
   ]
  },
  {
   "cell_type": "code",
   "execution_count": 15,
   "id": "fe662e38-9cbe-427a-9a99-db753563036d",
   "metadata": {},
   "outputs": [
    {
     "data": {
      "text/html": [
       "<div>\n",
       "<style scoped>\n",
       "    .dataframe tbody tr th:only-of-type {\n",
       "        vertical-align: middle;\n",
       "    }\n",
       "\n",
       "    .dataframe tbody tr th {\n",
       "        vertical-align: top;\n",
       "    }\n",
       "\n",
       "    .dataframe thead th {\n",
       "        text-align: right;\n",
       "    }\n",
       "</style>\n",
       "<table border=\"1\" class=\"dataframe\">\n",
       "  <thead>\n",
       "    <tr style=\"text-align: right;\">\n",
       "      <th></th>\n",
       "      <th>ESTRATO</th>\n",
       "      <th>SEMESTRE</th>\n",
       "      <th>PROMEDIOSEMESTRE</th>\n",
       "      <th>EDAD2</th>\n",
       "      <th>PROGRAMA</th>\n",
       "      <th>GENERO</th>\n",
       "      <th>CIUDADRESIDENCIA</th>\n",
       "      <th>CIUDADNACIMIENTO</th>\n",
       "      <th>target</th>\n",
       "    </tr>\n",
       "  </thead>\n",
       "  <tbody>\n",
       "    <tr>\n",
       "      <th>count</th>\n",
       "      <td>9090.00</td>\n",
       "      <td>9096.00</td>\n",
       "      <td>9096.00</td>\n",
       "      <td>9096.00</td>\n",
       "      <td>9096.00</td>\n",
       "      <td>9096.00</td>\n",
       "      <td>9096.00</td>\n",
       "      <td>9096.00</td>\n",
       "      <td>9096.00</td>\n",
       "    </tr>\n",
       "    <tr>\n",
       "      <th>mean</th>\n",
       "      <td>2.30</td>\n",
       "      <td>5.34</td>\n",
       "      <td>3.71</td>\n",
       "      <td>23.90</td>\n",
       "      <td>2.45</td>\n",
       "      <td>0.58</td>\n",
       "      <td>48.96</td>\n",
       "      <td>91.70</td>\n",
       "      <td>0.86</td>\n",
       "    </tr>\n",
       "    <tr>\n",
       "      <th>std</th>\n",
       "      <td>0.98</td>\n",
       "      <td>2.99</td>\n",
       "      <td>1.01</td>\n",
       "      <td>5.62</td>\n",
       "      <td>2.00</td>\n",
       "      <td>0.49</td>\n",
       "      <td>45.62</td>\n",
       "      <td>76.14</td>\n",
       "      <td>0.34</td>\n",
       "    </tr>\n",
       "    <tr>\n",
       "      <th>min</th>\n",
       "      <td>1.00</td>\n",
       "      <td>1.00</td>\n",
       "      <td>0.00</td>\n",
       "      <td>15.00</td>\n",
       "      <td>0.00</td>\n",
       "      <td>0.00</td>\n",
       "      <td>0.00</td>\n",
       "      <td>0.00</td>\n",
       "      <td>0.00</td>\n",
       "    </tr>\n",
       "    <tr>\n",
       "      <th>25%</th>\n",
       "      <td>2.00</td>\n",
       "      <td>2.00</td>\n",
       "      <td>3.40</td>\n",
       "      <td>21.00</td>\n",
       "      <td>1.00</td>\n",
       "      <td>0.00</td>\n",
       "      <td>23.00</td>\n",
       "      <td>47.00</td>\n",
       "      <td>1.00</td>\n",
       "    </tr>\n",
       "    <tr>\n",
       "      <th>50%</th>\n",
       "      <td>2.00</td>\n",
       "      <td>6.00</td>\n",
       "      <td>4.00</td>\n",
       "      <td>23.00</td>\n",
       "      <td>2.00</td>\n",
       "      <td>1.00</td>\n",
       "      <td>23.00</td>\n",
       "      <td>47.00</td>\n",
       "      <td>1.00</td>\n",
       "    </tr>\n",
       "    <tr>\n",
       "      <th>75%</th>\n",
       "      <td>3.00</td>\n",
       "      <td>8.00</td>\n",
       "      <td>4.40</td>\n",
       "      <td>25.00</td>\n",
       "      <td>4.00</td>\n",
       "      <td>1.00</td>\n",
       "      <td>70.00</td>\n",
       "      <td>126.00</td>\n",
       "      <td>1.00</td>\n",
       "    </tr>\n",
       "    <tr>\n",
       "      <th>max</th>\n",
       "      <td>6.00</td>\n",
       "      <td>10.00</td>\n",
       "      <td>5.00</td>\n",
       "      <td>66.00</td>\n",
       "      <td>7.00</td>\n",
       "      <td>1.00</td>\n",
       "      <td>174.00</td>\n",
       "      <td>294.00</td>\n",
       "      <td>1.00</td>\n",
       "    </tr>\n",
       "  </tbody>\n",
       "</table>\n",
       "</div>"
      ],
      "text/plain": [
       "       ESTRATO  SEMESTRE  PROMEDIOSEMESTRE   EDAD2  PROGRAMA  GENERO  CIUDADRESIDENCIA  CIUDADNACIMIENTO  target\n",
       "count  9090.00   9096.00           9096.00 9096.00   9096.00 9096.00           9096.00           9096.00 9096.00\n",
       "mean      2.30      5.34              3.71   23.90      2.45    0.58             48.96             91.70    0.86\n",
       "std       0.98      2.99              1.01    5.62      2.00    0.49             45.62             76.14    0.34\n",
       "min       1.00      1.00              0.00   15.00      0.00    0.00              0.00              0.00    0.00\n",
       "25%       2.00      2.00              3.40   21.00      1.00    0.00             23.00             47.00    1.00\n",
       "50%       2.00      6.00              4.00   23.00      2.00    1.00             23.00             47.00    1.00\n",
       "75%       3.00      8.00              4.40   25.00      4.00    1.00             70.00            126.00    1.00\n",
       "max       6.00     10.00              5.00   66.00      7.00    1.00            174.00            294.00    1.00"
      ]
     },
     "execution_count": 15,
     "metadata": {},
     "output_type": "execute_result"
    }
   ],
   "source": [
    "# Estadisticas del dataset\n",
    "data.describe(include='all')"
   ]
  },
  {
   "cell_type": "code",
   "execution_count": 16,
   "id": "c6001d61-4a01-4a76-b235-d6fe528bcd49",
   "metadata": {},
   "outputs": [
    {
     "data": {
      "text/html": [
       "<div>\n",
       "<style scoped>\n",
       "    .dataframe tbody tr th:only-of-type {\n",
       "        vertical-align: middle;\n",
       "    }\n",
       "\n",
       "    .dataframe tbody tr th {\n",
       "        vertical-align: top;\n",
       "    }\n",
       "\n",
       "    .dataframe thead th {\n",
       "        text-align: right;\n",
       "    }\n",
       "</style>\n",
       "<table border=\"1\" class=\"dataframe\">\n",
       "  <thead>\n",
       "    <tr style=\"text-align: right;\">\n",
       "      <th></th>\n",
       "      <th>nulos</th>\n",
       "      <th>tipo_dato</th>\n",
       "    </tr>\n",
       "  </thead>\n",
       "  <tbody>\n",
       "    <tr>\n",
       "      <th>ESTRATO</th>\n",
       "      <td>0</td>\n",
       "      <td>float64</td>\n",
       "    </tr>\n",
       "    <tr>\n",
       "      <th>SEMESTRE</th>\n",
       "      <td>0</td>\n",
       "      <td>int64</td>\n",
       "    </tr>\n",
       "    <tr>\n",
       "      <th>PROMEDIOSEMESTRE</th>\n",
       "      <td>0</td>\n",
       "      <td>float64</td>\n",
       "    </tr>\n",
       "    <tr>\n",
       "      <th>EDAD2</th>\n",
       "      <td>0</td>\n",
       "      <td>int64</td>\n",
       "    </tr>\n",
       "    <tr>\n",
       "      <th>PROGRAMA</th>\n",
       "      <td>0</td>\n",
       "      <td>int64</td>\n",
       "    </tr>\n",
       "    <tr>\n",
       "      <th>GENERO</th>\n",
       "      <td>0</td>\n",
       "      <td>int64</td>\n",
       "    </tr>\n",
       "    <tr>\n",
       "      <th>CIUDADRESIDENCIA</th>\n",
       "      <td>0</td>\n",
       "      <td>int64</td>\n",
       "    </tr>\n",
       "    <tr>\n",
       "      <th>CIUDADNACIMIENTO</th>\n",
       "      <td>0</td>\n",
       "      <td>int64</td>\n",
       "    </tr>\n",
       "    <tr>\n",
       "      <th>target</th>\n",
       "      <td>0</td>\n",
       "      <td>int64</td>\n",
       "    </tr>\n",
       "  </tbody>\n",
       "</table>\n",
       "</div>"
      ],
      "text/plain": [
       "                  nulos tipo_dato\n",
       "ESTRATO               0   float64\n",
       "SEMESTRE              0     int64\n",
       "PROMEDIOSEMESTRE      0   float64\n",
       "EDAD2                 0     int64\n",
       "PROGRAMA              0     int64\n",
       "GENERO                0     int64\n",
       "CIUDADRESIDENCIA      0     int64\n",
       "CIUDADNACIMIENTO      0     int64\n",
       "target                0     int64"
      ]
     },
     "execution_count": 16,
     "metadata": {},
     "output_type": "execute_result"
    }
   ],
   "source": [
    "data = data.dropna()\n",
    "# Revisón de campos vacíos/nulos\n",
    "nulos_y_tipos = pd.DataFrame({\n",
    "    'nulos': data.isnull().sum(),\n",
    "    'tipo_dato': data.dtypes\n",
    "})\n",
    "nulos_y_tipos"
   ]
  },
  {
   "cell_type": "code",
   "execution_count": 17,
   "id": "779cac0e",
   "metadata": {},
   "outputs": [
    {
     "data": {
      "text/plain": [
       "0"
      ]
     },
     "execution_count": 17,
     "metadata": {},
     "output_type": "execute_result"
    }
   ],
   "source": [
    "data.duplicated().sum()"
   ]
  },
  {
   "cell_type": "markdown",
   "id": "60369e13",
   "metadata": {},
   "source": [
    "## Reglas\n",
    "([Volver al Inicio](#Modelo))"
   ]
  },
  {
   "cell_type": "markdown",
   "id": "497be718-f286-4162-a039-540a16d8d4c6",
   "metadata": {},
   "source": [
    "Como parte de reglas establecidas, se menciona que se deben excluir el nivel de formación `Especialización`"
   ]
  },
  {
   "cell_type": "markdown",
   "id": "4eb74463",
   "metadata": {},
   "source": [
    "Así mismo, de acuerdo con ENDEPORTE la forma de clasificar la deserción corresponde a lo siguiente:\n",
    "\n",
    "![Reglas de Deserción](../../docs/regla.png)"
   ]
  },
  {
   "cell_type": "markdown",
   "id": "94d3e5d9-ce1c-4edc-b5da-7245d6e49283",
   "metadata": {},
   "source": [
    "Con base a lo anterior, se procede a calcular la columna `target` correspondiente a la deserción con la cual:\n",
    "- Valor `0` corresponde a estudiantes que desertan\n",
    "- Valor `1` corresponde a estudiantes que permanecen en sus estudios\n",
    "\n",
    "\n"
   ]
  },
  {
   "cell_type": "code",
   "execution_count": null,
   "id": "dbf253cd-7b38-4592-86a9-ba18c8addcef",
   "metadata": {},
   "outputs": [],
   "source": []
  },
  {
   "cell_type": "code",
   "execution_count": 22,
   "id": "bfbaf62d-e72e-4114-a466-e5181fa99a9e",
   "metadata": {},
   "outputs": [
    {
     "data": {
      "text/html": [
       "<div>\n",
       "<style scoped>\n",
       "    .dataframe tbody tr th:only-of-type {\n",
       "        vertical-align: middle;\n",
       "    }\n",
       "\n",
       "    .dataframe tbody tr th {\n",
       "        vertical-align: top;\n",
       "    }\n",
       "\n",
       "    .dataframe thead th {\n",
       "        text-align: right;\n",
       "    }\n",
       "</style>\n",
       "<table border=\"1\" class=\"dataframe\">\n",
       "  <thead>\n",
       "    <tr style=\"text-align: right;\">\n",
       "      <th></th>\n",
       "      <th>ESTRATO</th>\n",
       "      <th>SEMESTRE</th>\n",
       "      <th>PROMEDIOSEMESTRE</th>\n",
       "      <th>EDAD2</th>\n",
       "      <th>PROGRAMA</th>\n",
       "      <th>GENERO</th>\n",
       "      <th>CIUDADRESIDENCIA</th>\n",
       "      <th>CIUDADNACIMIENTO</th>\n",
       "      <th>target</th>\n",
       "    </tr>\n",
       "  </thead>\n",
       "  <tbody>\n",
       "    <tr>\n",
       "      <th>0</th>\n",
       "      <td>3.00</td>\n",
       "      <td>8</td>\n",
       "      <td>3.90</td>\n",
       "      <td>22</td>\n",
       "      <td>4</td>\n",
       "      <td>1</td>\n",
       "      <td>23</td>\n",
       "      <td>47</td>\n",
       "      <td>1</td>\n",
       "    </tr>\n",
       "    <tr>\n",
       "      <th>1</th>\n",
       "      <td>3.00</td>\n",
       "      <td>8</td>\n",
       "      <td>4.50</td>\n",
       "      <td>27</td>\n",
       "      <td>4</td>\n",
       "      <td>0</td>\n",
       "      <td>23</td>\n",
       "      <td>47</td>\n",
       "      <td>1</td>\n",
       "    </tr>\n",
       "    <tr>\n",
       "      <th>2</th>\n",
       "      <td>3.00</td>\n",
       "      <td>8</td>\n",
       "      <td>4.00</td>\n",
       "      <td>22</td>\n",
       "      <td>4</td>\n",
       "      <td>0</td>\n",
       "      <td>23</td>\n",
       "      <td>119</td>\n",
       "      <td>1</td>\n",
       "    </tr>\n",
       "    <tr>\n",
       "      <th>3</th>\n",
       "      <td>3.00</td>\n",
       "      <td>8</td>\n",
       "      <td>4.80</td>\n",
       "      <td>26</td>\n",
       "      <td>4</td>\n",
       "      <td>0</td>\n",
       "      <td>23</td>\n",
       "      <td>47</td>\n",
       "      <td>1</td>\n",
       "    </tr>\n",
       "    <tr>\n",
       "      <th>4</th>\n",
       "      <td>3.00</td>\n",
       "      <td>7</td>\n",
       "      <td>4.20</td>\n",
       "      <td>28</td>\n",
       "      <td>4</td>\n",
       "      <td>0</td>\n",
       "      <td>23</td>\n",
       "      <td>47</td>\n",
       "      <td>1</td>\n",
       "    </tr>\n",
       "  </tbody>\n",
       "</table>\n",
       "</div>"
      ],
      "text/plain": [
       "   ESTRATO  SEMESTRE  PROMEDIOSEMESTRE  EDAD2  PROGRAMA  GENERO  CIUDADRESIDENCIA  CIUDADNACIMIENTO  target\n",
       "0     3.00         8              3.90     22         4       1                23                47       1\n",
       "1     3.00         8              4.50     27         4       0                23                47       1\n",
       "2     3.00         8              4.00     22         4       0                23               119       1\n",
       "3     3.00         8              4.80     26         4       0                23                47       1\n",
       "4     3.00         7              4.20     28         4       0                23                47       1"
      ]
     },
     "execution_count": 22,
     "metadata": {},
     "output_type": "execute_result"
    }
   ],
   "source": [
    "data.head()"
   ]
  },
  {
   "cell_type": "code",
   "execution_count": 23,
   "id": "5db4b933-ca0b-4616-bbf3-b4703fcbcdb8",
   "metadata": {},
   "outputs": [],
   "source": [
    "df = data.copy()"
   ]
  },
  {
   "cell_type": "markdown",
   "id": "5e18dc60-b3cf-4b5b-9769-c48eb133cb9d",
   "metadata": {},
   "source": [
    "## Regresion Logistica\n",
    "([Volver al Inicio](#Modelo))"
   ]
  },
  {
   "cell_type": "code",
   "execution_count": 25,
   "id": "a6482bc3-5c81-4392-90ec-b4a75baad4a9",
   "metadata": {},
   "outputs": [],
   "source": [
    "# Separar las características (X) y la variable objetivo (y)\n",
    "X = df.drop(columns=['target'])  # Excluir la columna target\n",
    "y = df['target']  # Variable objetivo\n",
    "\n",
    "# Dividir el conjunto en train + validation (80%) y test (20%)\n",
    "X_train, X_test, y_train, y_test = train_test_split(X, y, test_size=0.2, random_state=seed_value, stratify=y)\n",
    "\n",
    "# Dividir el conjunto de train en train (80% de train) y validation (20% de train)\n",
    "X_train, X_val, y_train, y_val = train_test_split(X_train, y_train, test_size=0.2, random_state=seed_value, stratify=y_train)"
   ]
  },
  {
   "cell_type": "code",
   "execution_count": 26,
   "id": "6982cf13-f354-4bbc-929d-f64e9203e027",
   "metadata": {},
   "outputs": [
    {
     "name": "stdout",
     "output_type": "stream",
     "text": [
      "Tamaño del conjunto de entrenamiento: 5817\n",
      "Tamaño del conjunto de validación: 1455\n",
      "Tamaño del conjunto de prueba: 1818\n"
     ]
    }
   ],
   "source": [
    "# Confirmar las proporciones\n",
    "print(f\"Tamaño del conjunto de entrenamiento: {X_train.shape[0]}\")\n",
    "print(f\"Tamaño del conjunto de validación: {X_val.shape[0]}\")\n",
    "print(f\"Tamaño del conjunto de prueba: {X_test.shape[0]}\")"
   ]
  },
  {
   "cell_type": "code",
   "execution_count": 27,
   "id": "9ddab161-7d3e-44ab-af49-5d5f0b302941",
   "metadata": {},
   "outputs": [
    {
     "name": "stdout",
     "output_type": "stream",
     "text": [
      "Distribución después de SMOTE para Random Forest (Train):\n",
      "target\n",
      "1   50.00\n",
      "0   50.00\n",
      "Name: proportion, dtype: float64\n",
      "\n",
      "Distribución después de SMOTE para Regresión Logística (Train):\n",
      "target\n",
      "1   50.00\n",
      "0   50.00\n",
      "Name: proportion, dtype: float64\n",
      "\n",
      "Conjuntos de datos preparados para Random Forest y Regresión Logística.\n"
     ]
    }
   ],
   "source": [
    "# Crear escalador y SMOTE\n",
    "scaler = StandardScaler()\n",
    "smote = SMOTE(random_state=seed_value)\n",
    "\n",
    "# --- Random Forest (sin escalado, pero con SMOTE) ---\n",
    "x_rf_train, y_rf_train = smote.fit_resample(X_train, y_train)\n",
    "x_rf_val, y_rf_val = X_val, y_val  # Sin escalado\n",
    "x_rf_test, y_rf_test = X_test, y_test  # Sin escalado\n",
    "\n",
    "# --- Regresión Logística (con escalado y SMOTE) ---\n",
    "# Escalado en train, validation y test\n",
    "x_lr_train_scaled = scaler.fit_transform(X_train)\n",
    "x_lr_val_scaled = scaler.transform(X_val)\n",
    "x_lr_test_scaled = scaler.transform(X_test)\n",
    "\n",
    "# Aplicar SMOTE al conjunto de entrenamiento escalado\n",
    "x_lr_train, y_lr_train = smote.fit_resample(x_lr_train_scaled, y_train)\n",
    "\n",
    "# Guardar conjuntos de validación y prueba escalados\n",
    "x_lr_val, y_lr_val = x_lr_val_scaled, y_val\n",
    "x_lr_test, y_lr_test = x_lr_test_scaled, y_test\n",
    "\n",
    "# Confirmar distribuciones después de SMOTE\n",
    "print(\"Distribución después de SMOTE para Random Forest (Train):\")\n",
    "print(pd.Series(y_rf_train).value_counts(normalize=True) * 100)\n",
    "print(\"\\nDistribución después de SMOTE para Regresión Logística (Train):\")\n",
    "print(pd.Series(y_lr_train).value_counts(normalize=True) * 100)\n",
    "\n",
    "print(\"\\nConjuntos de datos preparados para Random Forest y Regresión Logística.\")"
   ]
  },
  {
   "cell_type": "code",
   "execution_count": 28,
   "id": "eaa5deb0-5da0-4c86-a617-65d56187d29d",
   "metadata": {},
   "outputs": [
    {
     "name": "stdout",
     "output_type": "stream",
     "text": [
      "target\n",
      "1   0.86\n",
      "0   0.14\n",
      "Name: proportion, dtype: float64\n"
     ]
    }
   ],
   "source": [
    "# Verificar la distribución de la variable target en el conjunto original\n",
    "print(data['target'].value_counts(normalize=True))"
   ]
  },
  {
   "cell_type": "code",
   "execution_count": 29,
   "id": "2b5a72c7-e783-48bb-b6bb-461d992ec63c",
   "metadata": {},
   "outputs": [],
   "source": [
    "regression = LogisticRegression()"
   ]
  },
  {
   "cell_type": "code",
   "execution_count": 30,
   "id": "2ad7d803-240c-4889-9eef-b769160d00b9",
   "metadata": {},
   "outputs": [
    {
     "data": {
      "text/html": [
       "<style>#sk-container-id-1 {\n",
       "  /* Definition of color scheme common for light and dark mode */\n",
       "  --sklearn-color-text: black;\n",
       "  --sklearn-color-line: gray;\n",
       "  /* Definition of color scheme for unfitted estimators */\n",
       "  --sklearn-color-unfitted-level-0: #fff5e6;\n",
       "  --sklearn-color-unfitted-level-1: #f6e4d2;\n",
       "  --sklearn-color-unfitted-level-2: #ffe0b3;\n",
       "  --sklearn-color-unfitted-level-3: chocolate;\n",
       "  /* Definition of color scheme for fitted estimators */\n",
       "  --sklearn-color-fitted-level-0: #f0f8ff;\n",
       "  --sklearn-color-fitted-level-1: #d4ebff;\n",
       "  --sklearn-color-fitted-level-2: #b3dbfd;\n",
       "  --sklearn-color-fitted-level-3: cornflowerblue;\n",
       "\n",
       "  /* Specific color for light theme */\n",
       "  --sklearn-color-text-on-default-background: var(--sg-text-color, var(--theme-code-foreground, var(--jp-content-font-color1, black)));\n",
       "  --sklearn-color-background: var(--sg-background-color, var(--theme-background, var(--jp-layout-color0, white)));\n",
       "  --sklearn-color-border-box: var(--sg-text-color, var(--theme-code-foreground, var(--jp-content-font-color1, black)));\n",
       "  --sklearn-color-icon: #696969;\n",
       "\n",
       "  @media (prefers-color-scheme: dark) {\n",
       "    /* Redefinition of color scheme for dark theme */\n",
       "    --sklearn-color-text-on-default-background: var(--sg-text-color, var(--theme-code-foreground, var(--jp-content-font-color1, white)));\n",
       "    --sklearn-color-background: var(--sg-background-color, var(--theme-background, var(--jp-layout-color0, #111)));\n",
       "    --sklearn-color-border-box: var(--sg-text-color, var(--theme-code-foreground, var(--jp-content-font-color1, white)));\n",
       "    --sklearn-color-icon: #878787;\n",
       "  }\n",
       "}\n",
       "\n",
       "#sk-container-id-1 {\n",
       "  color: var(--sklearn-color-text);\n",
       "}\n",
       "\n",
       "#sk-container-id-1 pre {\n",
       "  padding: 0;\n",
       "}\n",
       "\n",
       "#sk-container-id-1 input.sk-hidden--visually {\n",
       "  border: 0;\n",
       "  clip: rect(1px 1px 1px 1px);\n",
       "  clip: rect(1px, 1px, 1px, 1px);\n",
       "  height: 1px;\n",
       "  margin: -1px;\n",
       "  overflow: hidden;\n",
       "  padding: 0;\n",
       "  position: absolute;\n",
       "  width: 1px;\n",
       "}\n",
       "\n",
       "#sk-container-id-1 div.sk-dashed-wrapped {\n",
       "  border: 1px dashed var(--sklearn-color-line);\n",
       "  margin: 0 0.4em 0.5em 0.4em;\n",
       "  box-sizing: border-box;\n",
       "  padding-bottom: 0.4em;\n",
       "  background-color: var(--sklearn-color-background);\n",
       "}\n",
       "\n",
       "#sk-container-id-1 div.sk-container {\n",
       "  /* jupyter's `normalize.less` sets `[hidden] { display: none; }`\n",
       "     but bootstrap.min.css set `[hidden] { display: none !important; }`\n",
       "     so we also need the `!important` here to be able to override the\n",
       "     default hidden behavior on the sphinx rendered scikit-learn.org.\n",
       "     See: https://github.com/scikit-learn/scikit-learn/issues/21755 */\n",
       "  display: inline-block !important;\n",
       "  position: relative;\n",
       "}\n",
       "\n",
       "#sk-container-id-1 div.sk-text-repr-fallback {\n",
       "  display: none;\n",
       "}\n",
       "\n",
       "div.sk-parallel-item,\n",
       "div.sk-serial,\n",
       "div.sk-item {\n",
       "  /* draw centered vertical line to link estimators */\n",
       "  background-image: linear-gradient(var(--sklearn-color-text-on-default-background), var(--sklearn-color-text-on-default-background));\n",
       "  background-size: 2px 100%;\n",
       "  background-repeat: no-repeat;\n",
       "  background-position: center center;\n",
       "}\n",
       "\n",
       "/* Parallel-specific style estimator block */\n",
       "\n",
       "#sk-container-id-1 div.sk-parallel-item::after {\n",
       "  content: \"\";\n",
       "  width: 100%;\n",
       "  border-bottom: 2px solid var(--sklearn-color-text-on-default-background);\n",
       "  flex-grow: 1;\n",
       "}\n",
       "\n",
       "#sk-container-id-1 div.sk-parallel {\n",
       "  display: flex;\n",
       "  align-items: stretch;\n",
       "  justify-content: center;\n",
       "  background-color: var(--sklearn-color-background);\n",
       "  position: relative;\n",
       "}\n",
       "\n",
       "#sk-container-id-1 div.sk-parallel-item {\n",
       "  display: flex;\n",
       "  flex-direction: column;\n",
       "}\n",
       "\n",
       "#sk-container-id-1 div.sk-parallel-item:first-child::after {\n",
       "  align-self: flex-end;\n",
       "  width: 50%;\n",
       "}\n",
       "\n",
       "#sk-container-id-1 div.sk-parallel-item:last-child::after {\n",
       "  align-self: flex-start;\n",
       "  width: 50%;\n",
       "}\n",
       "\n",
       "#sk-container-id-1 div.sk-parallel-item:only-child::after {\n",
       "  width: 0;\n",
       "}\n",
       "\n",
       "/* Serial-specific style estimator block */\n",
       "\n",
       "#sk-container-id-1 div.sk-serial {\n",
       "  display: flex;\n",
       "  flex-direction: column;\n",
       "  align-items: center;\n",
       "  background-color: var(--sklearn-color-background);\n",
       "  padding-right: 1em;\n",
       "  padding-left: 1em;\n",
       "}\n",
       "\n",
       "\n",
       "/* Toggleable style: style used for estimator/Pipeline/ColumnTransformer box that is\n",
       "clickable and can be expanded/collapsed.\n",
       "- Pipeline and ColumnTransformer use this feature and define the default style\n",
       "- Estimators will overwrite some part of the style using the `sk-estimator` class\n",
       "*/\n",
       "\n",
       "/* Pipeline and ColumnTransformer style (default) */\n",
       "\n",
       "#sk-container-id-1 div.sk-toggleable {\n",
       "  /* Default theme specific background. It is overwritten whether we have a\n",
       "  specific estimator or a Pipeline/ColumnTransformer */\n",
       "  background-color: var(--sklearn-color-background);\n",
       "}\n",
       "\n",
       "/* Toggleable label */\n",
       "#sk-container-id-1 label.sk-toggleable__label {\n",
       "  cursor: pointer;\n",
       "  display: block;\n",
       "  width: 100%;\n",
       "  margin-bottom: 0;\n",
       "  padding: 0.5em;\n",
       "  box-sizing: border-box;\n",
       "  text-align: center;\n",
       "}\n",
       "\n",
       "#sk-container-id-1 label.sk-toggleable__label-arrow:before {\n",
       "  /* Arrow on the left of the label */\n",
       "  content: \"▸\";\n",
       "  float: left;\n",
       "  margin-right: 0.25em;\n",
       "  color: var(--sklearn-color-icon);\n",
       "}\n",
       "\n",
       "#sk-container-id-1 label.sk-toggleable__label-arrow:hover:before {\n",
       "  color: var(--sklearn-color-text);\n",
       "}\n",
       "\n",
       "/* Toggleable content - dropdown */\n",
       "\n",
       "#sk-container-id-1 div.sk-toggleable__content {\n",
       "  max-height: 0;\n",
       "  max-width: 0;\n",
       "  overflow: hidden;\n",
       "  text-align: left;\n",
       "  /* unfitted */\n",
       "  background-color: var(--sklearn-color-unfitted-level-0);\n",
       "}\n",
       "\n",
       "#sk-container-id-1 div.sk-toggleable__content.fitted {\n",
       "  /* fitted */\n",
       "  background-color: var(--sklearn-color-fitted-level-0);\n",
       "}\n",
       "\n",
       "#sk-container-id-1 div.sk-toggleable__content pre {\n",
       "  margin: 0.2em;\n",
       "  border-radius: 0.25em;\n",
       "  color: var(--sklearn-color-text);\n",
       "  /* unfitted */\n",
       "  background-color: var(--sklearn-color-unfitted-level-0);\n",
       "}\n",
       "\n",
       "#sk-container-id-1 div.sk-toggleable__content.fitted pre {\n",
       "  /* unfitted */\n",
       "  background-color: var(--sklearn-color-fitted-level-0);\n",
       "}\n",
       "\n",
       "#sk-container-id-1 input.sk-toggleable__control:checked~div.sk-toggleable__content {\n",
       "  /* Expand drop-down */\n",
       "  max-height: 200px;\n",
       "  max-width: 100%;\n",
       "  overflow: auto;\n",
       "}\n",
       "\n",
       "#sk-container-id-1 input.sk-toggleable__control:checked~label.sk-toggleable__label-arrow:before {\n",
       "  content: \"▾\";\n",
       "}\n",
       "\n",
       "/* Pipeline/ColumnTransformer-specific style */\n",
       "\n",
       "#sk-container-id-1 div.sk-label input.sk-toggleable__control:checked~label.sk-toggleable__label {\n",
       "  color: var(--sklearn-color-text);\n",
       "  background-color: var(--sklearn-color-unfitted-level-2);\n",
       "}\n",
       "\n",
       "#sk-container-id-1 div.sk-label.fitted input.sk-toggleable__control:checked~label.sk-toggleable__label {\n",
       "  background-color: var(--sklearn-color-fitted-level-2);\n",
       "}\n",
       "\n",
       "/* Estimator-specific style */\n",
       "\n",
       "/* Colorize estimator box */\n",
       "#sk-container-id-1 div.sk-estimator input.sk-toggleable__control:checked~label.sk-toggleable__label {\n",
       "  /* unfitted */\n",
       "  background-color: var(--sklearn-color-unfitted-level-2);\n",
       "}\n",
       "\n",
       "#sk-container-id-1 div.sk-estimator.fitted input.sk-toggleable__control:checked~label.sk-toggleable__label {\n",
       "  /* fitted */\n",
       "  background-color: var(--sklearn-color-fitted-level-2);\n",
       "}\n",
       "\n",
       "#sk-container-id-1 div.sk-label label.sk-toggleable__label,\n",
       "#sk-container-id-1 div.sk-label label {\n",
       "  /* The background is the default theme color */\n",
       "  color: var(--sklearn-color-text-on-default-background);\n",
       "}\n",
       "\n",
       "/* On hover, darken the color of the background */\n",
       "#sk-container-id-1 div.sk-label:hover label.sk-toggleable__label {\n",
       "  color: var(--sklearn-color-text);\n",
       "  background-color: var(--sklearn-color-unfitted-level-2);\n",
       "}\n",
       "\n",
       "/* Label box, darken color on hover, fitted */\n",
       "#sk-container-id-1 div.sk-label.fitted:hover label.sk-toggleable__label.fitted {\n",
       "  color: var(--sklearn-color-text);\n",
       "  background-color: var(--sklearn-color-fitted-level-2);\n",
       "}\n",
       "\n",
       "/* Estimator label */\n",
       "\n",
       "#sk-container-id-1 div.sk-label label {\n",
       "  font-family: monospace;\n",
       "  font-weight: bold;\n",
       "  display: inline-block;\n",
       "  line-height: 1.2em;\n",
       "}\n",
       "\n",
       "#sk-container-id-1 div.sk-label-container {\n",
       "  text-align: center;\n",
       "}\n",
       "\n",
       "/* Estimator-specific */\n",
       "#sk-container-id-1 div.sk-estimator {\n",
       "  font-family: monospace;\n",
       "  border: 1px dotted var(--sklearn-color-border-box);\n",
       "  border-radius: 0.25em;\n",
       "  box-sizing: border-box;\n",
       "  margin-bottom: 0.5em;\n",
       "  /* unfitted */\n",
       "  background-color: var(--sklearn-color-unfitted-level-0);\n",
       "}\n",
       "\n",
       "#sk-container-id-1 div.sk-estimator.fitted {\n",
       "  /* fitted */\n",
       "  background-color: var(--sklearn-color-fitted-level-0);\n",
       "}\n",
       "\n",
       "/* on hover */\n",
       "#sk-container-id-1 div.sk-estimator:hover {\n",
       "  /* unfitted */\n",
       "  background-color: var(--sklearn-color-unfitted-level-2);\n",
       "}\n",
       "\n",
       "#sk-container-id-1 div.sk-estimator.fitted:hover {\n",
       "  /* fitted */\n",
       "  background-color: var(--sklearn-color-fitted-level-2);\n",
       "}\n",
       "\n",
       "/* Specification for estimator info (e.g. \"i\" and \"?\") */\n",
       "\n",
       "/* Common style for \"i\" and \"?\" */\n",
       "\n",
       ".sk-estimator-doc-link,\n",
       "a:link.sk-estimator-doc-link,\n",
       "a:visited.sk-estimator-doc-link {\n",
       "  float: right;\n",
       "  font-size: smaller;\n",
       "  line-height: 1em;\n",
       "  font-family: monospace;\n",
       "  background-color: var(--sklearn-color-background);\n",
       "  border-radius: 1em;\n",
       "  height: 1em;\n",
       "  width: 1em;\n",
       "  text-decoration: none !important;\n",
       "  margin-left: 1ex;\n",
       "  /* unfitted */\n",
       "  border: var(--sklearn-color-unfitted-level-1) 1pt solid;\n",
       "  color: var(--sklearn-color-unfitted-level-1);\n",
       "}\n",
       "\n",
       ".sk-estimator-doc-link.fitted,\n",
       "a:link.sk-estimator-doc-link.fitted,\n",
       "a:visited.sk-estimator-doc-link.fitted {\n",
       "  /* fitted */\n",
       "  border: var(--sklearn-color-fitted-level-1) 1pt solid;\n",
       "  color: var(--sklearn-color-fitted-level-1);\n",
       "}\n",
       "\n",
       "/* On hover */\n",
       "div.sk-estimator:hover .sk-estimator-doc-link:hover,\n",
       ".sk-estimator-doc-link:hover,\n",
       "div.sk-label-container:hover .sk-estimator-doc-link:hover,\n",
       ".sk-estimator-doc-link:hover {\n",
       "  /* unfitted */\n",
       "  background-color: var(--sklearn-color-unfitted-level-3);\n",
       "  color: var(--sklearn-color-background);\n",
       "  text-decoration: none;\n",
       "}\n",
       "\n",
       "div.sk-estimator.fitted:hover .sk-estimator-doc-link.fitted:hover,\n",
       ".sk-estimator-doc-link.fitted:hover,\n",
       "div.sk-label-container:hover .sk-estimator-doc-link.fitted:hover,\n",
       ".sk-estimator-doc-link.fitted:hover {\n",
       "  /* fitted */\n",
       "  background-color: var(--sklearn-color-fitted-level-3);\n",
       "  color: var(--sklearn-color-background);\n",
       "  text-decoration: none;\n",
       "}\n",
       "\n",
       "/* Span, style for the box shown on hovering the info icon */\n",
       ".sk-estimator-doc-link span {\n",
       "  display: none;\n",
       "  z-index: 9999;\n",
       "  position: relative;\n",
       "  font-weight: normal;\n",
       "  right: .2ex;\n",
       "  padding: .5ex;\n",
       "  margin: .5ex;\n",
       "  width: min-content;\n",
       "  min-width: 20ex;\n",
       "  max-width: 50ex;\n",
       "  color: var(--sklearn-color-text);\n",
       "  box-shadow: 2pt 2pt 4pt #999;\n",
       "  /* unfitted */\n",
       "  background: var(--sklearn-color-unfitted-level-0);\n",
       "  border: .5pt solid var(--sklearn-color-unfitted-level-3);\n",
       "}\n",
       "\n",
       ".sk-estimator-doc-link.fitted span {\n",
       "  /* fitted */\n",
       "  background: var(--sklearn-color-fitted-level-0);\n",
       "  border: var(--sklearn-color-fitted-level-3);\n",
       "}\n",
       "\n",
       ".sk-estimator-doc-link:hover span {\n",
       "  display: block;\n",
       "}\n",
       "\n",
       "/* \"?\"-specific style due to the `<a>` HTML tag */\n",
       "\n",
       "#sk-container-id-1 a.estimator_doc_link {\n",
       "  float: right;\n",
       "  font-size: 1rem;\n",
       "  line-height: 1em;\n",
       "  font-family: monospace;\n",
       "  background-color: var(--sklearn-color-background);\n",
       "  border-radius: 1rem;\n",
       "  height: 1rem;\n",
       "  width: 1rem;\n",
       "  text-decoration: none;\n",
       "  /* unfitted */\n",
       "  color: var(--sklearn-color-unfitted-level-1);\n",
       "  border: var(--sklearn-color-unfitted-level-1) 1pt solid;\n",
       "}\n",
       "\n",
       "#sk-container-id-1 a.estimator_doc_link.fitted {\n",
       "  /* fitted */\n",
       "  border: var(--sklearn-color-fitted-level-1) 1pt solid;\n",
       "  color: var(--sklearn-color-fitted-level-1);\n",
       "}\n",
       "\n",
       "/* On hover */\n",
       "#sk-container-id-1 a.estimator_doc_link:hover {\n",
       "  /* unfitted */\n",
       "  background-color: var(--sklearn-color-unfitted-level-3);\n",
       "  color: var(--sklearn-color-background);\n",
       "  text-decoration: none;\n",
       "}\n",
       "\n",
       "#sk-container-id-1 a.estimator_doc_link.fitted:hover {\n",
       "  /* fitted */\n",
       "  background-color: var(--sklearn-color-fitted-level-3);\n",
       "}\n",
       "</style><div id=\"sk-container-id-1\" class=\"sk-top-container\"><div class=\"sk-text-repr-fallback\"><pre>LogisticRegression()</pre><b>In a Jupyter environment, please rerun this cell to show the HTML representation or trust the notebook. <br />On GitHub, the HTML representation is unable to render, please try loading this page with nbviewer.org.</b></div><div class=\"sk-container\" hidden><div class=\"sk-item\"><div class=\"sk-estimator fitted sk-toggleable\"><input class=\"sk-toggleable__control sk-hidden--visually\" id=\"sk-estimator-id-1\" type=\"checkbox\" checked><label for=\"sk-estimator-id-1\" class=\"sk-toggleable__label fitted sk-toggleable__label-arrow fitted\">&nbsp;&nbsp;LogisticRegression<a class=\"sk-estimator-doc-link fitted\" rel=\"noreferrer\" target=\"_blank\" href=\"https://scikit-learn.org/1.5/modules/generated/sklearn.linear_model.LogisticRegression.html\">?<span>Documentation for LogisticRegression</span></a><span class=\"sk-estimator-doc-link fitted\">i<span>Fitted</span></span></label><div class=\"sk-toggleable__content fitted\"><pre>LogisticRegression()</pre></div> </div></div></div></div>"
      ],
      "text/plain": [
       "LogisticRegression()"
      ]
     },
     "execution_count": 30,
     "metadata": {},
     "output_type": "execute_result"
    }
   ],
   "source": [
    "regression.fit(x_lr_train, y_lr_train)"
   ]
  },
  {
   "cell_type": "code",
   "execution_count": 31,
   "id": "9b97c353-6500-49ce-b685-d9322d188878",
   "metadata": {},
   "outputs": [],
   "source": [
    "y_pred = regression.predict(x_lr_test)"
   ]
  },
  {
   "cell_type": "code",
   "execution_count": 32,
   "id": "afd4296d-59dc-448b-b3c3-27e84cba3e25",
   "metadata": {},
   "outputs": [
    {
     "name": "stdout",
     "output_type": "stream",
     "text": [
      "Precisión: 0.69\n"
     ]
    }
   ],
   "source": [
    "# Precisión del modelo\n",
    "accuracy_lr = accuracy_score(y_lr_test, y_pred)\n",
    "print(f\"Precisión: {accuracy_lr:.2f}\")"
   ]
  },
  {
   "cell_type": "code",
   "execution_count": 33,
   "id": "6826b5a5-cd23-4df3-a07c-223bdd555f82",
   "metadata": {},
   "outputs": [
    {
     "name": "stdout",
     "output_type": "stream",
     "text": [
      "\n",
      "Matriz de confusión:\n"
     ]
    },
    {
     "data": {
      "image/png": "[encoded data removed]",
      "text/plain": [
       "<Figure size 640x480 with 2 Axes>"
      ]
     },
     "metadata": {},
     "output_type": "display_data"
    }
   ],
   "source": [
    "# Matriz de confusión\n",
    "print(\"\\nMatriz de confusión:\")\n",
    "# Calcular la matriz de confusión\n",
    "conf_matrix = confusion_matrix(y_lr_test, y_pred)\n",
    "\n",
    "# Mostrar la matriz de confusión \n",
    "disp = ConfusionMatrixDisplay(conf_matrix)\n",
    "disp.plot(cmap='Blues')  \n",
    "plt.show()"
   ]
  },
  {
   "cell_type": "code",
   "execution_count": 34,
   "id": "4fa56356-87d3-4664-a6cb-000bb9278fb4",
   "metadata": {},
   "outputs": [
    {
     "name": "stdout",
     "output_type": "stream",
     "text": [
      "\n",
      "Reporte de clasificación:\n",
      "              precision    recall  f1-score   support\n",
      "\n",
      "           0       0.28      0.78      0.41       249\n",
      "           1       0.95      0.68      0.79      1569\n",
      "\n",
      "    accuracy                           0.69      1818\n",
      "   macro avg       0.61      0.73      0.60      1818\n",
      "weighted avg       0.86      0.69      0.74      1818\n",
      "\n"
     ]
    }
   ],
   "source": [
    "# Reporte de clasificación\n",
    "print(\"\\nReporte de clasificación:\")\n",
    "report = classification_report(y_lr_test, y_pred, output_dict=True)\n",
    "reportF = classification_report(y_lr_test, y_pred)\n",
    "print(reportF)\n",
    "\n",
    "precision_0 = report['0']['precision']\n",
    "recall_0 = report['0']['recall']\n",
    "f1_0 = report['0']['f1-score']\n",
    "support_0 = report['0']['support']\n",
    "\n",
    "precision_1 = report['1']['precision']\n",
    "recall_1 = report['1']['recall']\n",
    "f1_1 = report['1']['f1-score']\n",
    "support_1 = report['1']['support']\n",
    "\n",
    "accuracy = report['accuracy']\n",
    "macro_avg = report['macro avg']\n",
    "weighted_avg = report['weighted avg']"
   ]
  },
  {
   "cell_type": "code",
   "execution_count": 35,
   "id": "db61cfc1-1c46-4266-bbfd-9e73b46a012d",
   "metadata": {},
   "outputs": [],
   "source": [
    "markdown_text = f\"\"\"\n",
    "Con lo anterior, se evidencia:\n",
    "\n",
    "**Precisión**\n",
    "- Para la clase 0 (deserción), la precisión es {decimal_formatter2(precision_0)}. Esto significa que, de todas las veces que el modelo predijo que un estudiante desertaría (predicción de \"0\"), el {decimal_formatter2(precision_0 * 100)}% de esas predicciones fueron correctas.\n",
    "- Para la clase 1 (no deserción), la precisión es {decimal_formatter2(precision_1)}. Esto significa que, de todas las veces que el modelo predijo que un estudiante no desertaría (predicción de \"1\"), el {decimal_formatter2(precision_1 * 100)}% de esas predicciones fueron correctas.\n",
    "\n",
    "**Recall**\n",
    "- Para la clase 0 (deserción), el recall es {decimal_formatter2(recall_0)}. Esto indica que el modelo identificó correctamente el {decimal_formatter2(recall_0*100)}% de los estudiantes que realmente desertaron.\n",
    "- Para la clase 1 (no deserción), el recall es {decimal_formatter2(recall_1)}. Esto indica que el modelo identificó correctamente el {decimal_formatter2(recall_1*100)}% de los estudiantes que NO desertaron.\n",
    "\n",
    "**F1-Score**\n",
    "- Para la clase 0 (deserción), el F1-score es {decimal_formatter2(f1_0)}. \n",
    "- Para la clase 1 (no deserción), el F1-score es {decimal_formatter2(f1_1)}. \n",
    "\"\"\""
   ]
  },
  {
   "cell_type": "code",
   "execution_count": 36,
   "id": "50028190-3e56-4615-b351-df2d77a44f16",
   "metadata": {},
   "outputs": [
    {
     "data": {
      "text/markdown": [
       "\n",
       "Con lo anterior, se evidencia:\n",
       "\n",
       "**Precisión**\n",
       "- Para la clase 0 (deserción), la precisión es 0.28. Esto significa que, de todas las veces que el modelo predijo que un estudiante desertaría (predicción de \"0\"), el 27.73% de esas predicciones fueron correctas.\n",
       "- Para la clase 1 (no deserción), la precisión es 0.95. Esto significa que, de todas las veces que el modelo predijo que un estudiante no desertaría (predicción de \"1\"), el 95.01% de esas predicciones fueron correctas.\n",
       "\n",
       "**Recall**\n",
       "- Para la clase 0 (deserción), el recall es 0.78. Esto indica que el modelo identificó correctamente el 77.51% de los estudiantes que realmente desertaron.\n",
       "- Para la clase 1 (no deserción), el recall es 0.68. Esto indica que el modelo identificó correctamente el 67.94% de los estudiantes que NO desertaron.\n",
       "\n",
       "**F1-Score**\n",
       "- Para la clase 0 (deserción), el F1-score es 0.41. \n",
       "- Para la clase 1 (no deserción), el F1-score es 0.79. \n"
      ],
      "text/plain": [
       "<IPython.core.display.Markdown object>"
      ]
     },
     "metadata": {},
     "output_type": "display_data"
    }
   ],
   "source": [
    "display(Markdown(markdown_text))"
   ]
  },
  {
   "cell_type": "code",
   "execution_count": 37,
   "id": "7a801834-cd35-4ce4-9894-883c7c07a9ff",
   "metadata": {},
   "outputs": [
    {
     "name": "stdout",
     "output_type": "stream",
     "text": [
      "MAE\n",
      "Train: 0.25219036240541615\n",
      "Test : 0.30748074807480746\n"
     ]
    }
   ],
   "source": [
    "print('MAE')\n",
    "print(\"Train:\", mean_absolute_error(y_lr_train, regression.predict(x_lr_train)))\n",
    "print(\"Test :\", mean_absolute_error(y_lr_test, regression.predict(x_lr_test)))"
   ]
  },
  {
   "cell_type": "code",
   "execution_count": 38,
   "id": "8e5b8061-b85c-4285-885f-b359e1af3540",
   "metadata": {},
   "outputs": [
    {
     "name": "stdout",
     "output_type": "stream",
     "text": [
      "RMSE\n",
      "Train: 0.5021855856209099\n",
      "Test : 0.5545094661724067\n"
     ]
    }
   ],
   "source": [
    "print('RMSE')\n",
    "print(\"Train:\", np.sqrt(mean_squared_error(y_lr_train, regression.predict(x_lr_train))))\n",
    "print(\"Test :\", np.sqrt(mean_squared_error(y_lr_test, regression.predict(x_lr_test))))"
   ]
  },
  {
   "cell_type": "code",
   "execution_count": 39,
   "id": "9e63b372-2c7c-49c3-a952-a3c010f5c3a3",
   "metadata": {},
   "outputs": [
    {
     "name": "stdout",
     "output_type": "stream",
     "text": [
      "AUC-ROC: 0.79\n"
     ]
    },
    {
     "data": {
      "image/png": "[encoded data removed]",
      "text/plain": [
       "<Figure size 1000x600 with 1 Axes>"
      ]
     },
     "metadata": {},
     "output_type": "display_data"
    }
   ],
   "source": [
    "y_prob = regression.predict_proba(x_lr_test)[:, 1]  # Tomamos la probabilidad de la clase \"1\" (no deserción)\n",
    "# Calcular el AUC-ROC\n",
    "auc = roc_auc_score(y_lr_test, y_prob)\n",
    "print(f\"AUC-ROC: {auc:.2f}\")\n",
    "\n",
    "# Calcular los valores de la curva ROC\n",
    "fpr, tpr, thresholds = roc_curve(y_lr_test, y_prob)\n",
    "\n",
    "# Graficar la curva ROC\n",
    "plt.figure(figsize=(10, 6))\n",
    "plt.plot(fpr, tpr, color='blue', label=f'ROC curve (AUC = {auc:.2f})')\n",
    "plt.plot([0, 1], [0, 1], color='gray', linestyle='--')  # Línea de referencia\n",
    "plt.title('Curva ROC')\n",
    "plt.xlabel('Tasa de Falsos Positivos')\n",
    "plt.ylabel('Tasa de Verdaderos Positivos')\n",
    "plt.legend(loc='lower right')\n",
    "plt.grid(True)\n",
    "plt.show()\n"
   ]
  },
  {
   "cell_type": "markdown",
   "id": "975e59be-c8b7-45a0-ba52-21deb73fed2a",
   "metadata": {},
   "source": [
    "## RandomForest\n",
    "([Volver al Inicio](#Modelo))"
   ]
  },
  {
   "cell_type": "code",
   "execution_count": 41,
   "id": "1914a792-8555-4133-a913-9666a86ab512",
   "metadata": {},
   "outputs": [
    {
     "name": "stdout",
     "output_type": "stream",
     "text": [
      "Distribución en el conjunto de entrenamiento (SMOTE aplicado):\n",
      "target\n",
      "1   0.50\n",
      "0   0.50\n",
      "Name: proportion, dtype: float64\n",
      "\n",
      "Distribución en el conjunto de validación:\n",
      "target\n",
      "1   0.86\n",
      "0   0.14\n",
      "Name: proportion, dtype: float64\n",
      "\n",
      "Distribución en el conjunto de prueba:\n",
      "target\n",
      "1   0.86\n",
      "0   0.14\n",
      "Name: proportion, dtype: float64\n"
     ]
    }
   ],
   "source": [
    "# Verificar la distribución en los subconjuntos de entrenamiento, validación y prueba\n",
    "print('Distribución en el conjunto de entrenamiento (SMOTE aplicado):')\n",
    "print(y_rf_train.value_counts(normalize=True))\n",
    "\n",
    "print('\\nDistribución en el conjunto de validación:')\n",
    "print(y_rf_val.value_counts(normalize=True))\n",
    "\n",
    "print('\\nDistribución en el conjunto de prueba:')\n",
    "print(y_rf_test.value_counts(normalize=True))"
   ]
  },
  {
   "cell_type": "code",
   "execution_count": 42,
   "id": "b91b9a57-e76f-402a-8b8c-fe469774b2e0",
   "metadata": {},
   "outputs": [
    {
     "name": "stdout",
     "output_type": "stream",
     "text": [
      "Precisión general del modelo: 0.84\n"
     ]
    }
   ],
   "source": [
    "# Crear el modelo (por ejemplo, RandomForest)\n",
    "rf = RandomForestClassifier(random_state=seed_value)\n",
    "\n",
    "# Entrenar el modelo\n",
    "rf.fit(x_rf_train, y_rf_train)\n",
    "\n",
    "# Hacer predicciones en el conjunto de test\n",
    "y_pred = rf.predict(x_rf_test)\n",
    "\n",
    "# Calcular la precisión general del modelo\n",
    "accuracy_rf = accuracy_score(y_rf_test, y_pred)\n",
    "print(f\"Precisión general del modelo: {decimal_formatter2(accuracy_rf)}\")\n"
   ]
  },
  {
   "cell_type": "code",
   "execution_count": 43,
   "id": "e8f65864-8894-42b8-be39-82d3e384335e",
   "metadata": {},
   "outputs": [
    {
     "name": "stdout",
     "output_type": "stream",
     "text": [
      "\n",
      "Matriz de confusión:\n"
     ]
    },
    {
     "data": {
      "image/png": "[encoded data removed]",
      "text/plain": [
       "<Figure size 640x480 with 2 Axes>"
      ]
     },
     "metadata": {},
     "output_type": "display_data"
    }
   ],
   "source": [
    "y_rf_pred = rf.predict(x_rf_test)\n",
    "\n",
    "# Matriz de confusión\n",
    "print(\"\\nMatriz de confusión:\")\n",
    "# Calcular la matriz de confusión\n",
    "conf_matrix_rf = confusion_matrix(y_rf_test, y_rf_pred)\n",
    "\n",
    "# Mostrar la matriz de confusión \n",
    "disp = ConfusionMatrixDisplay(conf_matrix_rf)\n",
    "disp.plot(cmap='Blues')  \n",
    "plt.show()"
   ]
  },
  {
   "cell_type": "code",
   "execution_count": 44,
   "id": "ccff93c0-1b6b-44aa-b126-27a7d9c56719",
   "metadata": {},
   "outputs": [
    {
     "name": "stdout",
     "output_type": "stream",
     "text": [
      "\n",
      "Reporte de clasificación:\n",
      "              precision    recall  f1-score   support\n",
      "\n",
      "           0       0.40      0.43      0.41       249\n",
      "           1       0.91      0.90      0.90      1569\n",
      "\n",
      "    accuracy                           0.84      1818\n",
      "   macro avg       0.66      0.66      0.66      1818\n",
      "weighted avg       0.84      0.84      0.84      1818\n",
      "\n"
     ]
    }
   ],
   "source": [
    "# Reporte de clasificación\n",
    "print(\"\\nReporte de clasificación:\")\n",
    "report = classification_report(y_rf_test, y_rf_pred, output_dict=True)\n",
    "reportF = classification_report(y_rf_test, y_rf_pred)\n",
    "print(reportF)\n",
    "\n",
    "rf_precision_0 = report['0']['precision']\n",
    "rf_recall_0 = report['0']['recall']\n",
    "rf_f1_0 = report['0']['f1-score']\n",
    "rf_support_0 = report['0']['support']\n",
    "\n",
    "rf_precision_1 = report['1']['precision']\n",
    "rf_recall_1 = report['1']['recall']\n",
    "rf_f1_1 = report['1']['f1-score']\n",
    "rf_support_1 = report['1']['support']\n",
    "\n",
    "rf_accuracy = report['accuracy']\n",
    "rf_macro_avg = report['macro avg']\n",
    "rf_weighted_avg = report['weighted avg']"
   ]
  },
  {
   "cell_type": "code",
   "execution_count": 45,
   "id": "5c4dca24-bdd6-4cb0-b353-5d9b6cb8a956",
   "metadata": {},
   "outputs": [
    {
     "name": "stdout",
     "output_type": "stream",
     "text": [
      "MAE\n",
      "Train: 0.00\n",
      "Test : 0.16\n"
     ]
    }
   ],
   "source": [
    "print('MAE')\n",
    "print(\"Train:\", decimal_formatter2(mean_absolute_error(y_rf_train, rf.predict(x_rf_train))))\n",
    "print(\"Test :\", decimal_formatter2(mean_absolute_error(y_rf_test, rf.predict(x_rf_test))))"
   ]
  },
  {
   "cell_type": "code",
   "execution_count": 46,
   "id": "44219ea3-e21b-4047-a203-f65af03b18cc",
   "metadata": {},
   "outputs": [
    {
     "name": "stdout",
     "output_type": "stream",
     "text": [
      "RMSE\n",
      "Train: 0.71\n",
      "Test : 0.37\n"
     ]
    }
   ],
   "source": [
    "print('RMSE')\n",
    "print(\"Train:\", decimal_formatter2(np.sqrt(mean_squared_error(y_rf_train, regression.predict(x_rf_train)))))\n",
    "print(\"Test :\", decimal_formatter2(np.sqrt(mean_squared_error(y_rf_test , regression.predict(x_rf_test )))))"
   ]
  },
  {
   "cell_type": "markdown",
   "id": "e7950e90-d13a-4657-b6ef-5f71439f7046",
   "metadata": {},
   "source": [
    "## Justicia\n",
    "([Volver al Inicio](#Modelo))\n",
    "\n",
    "Las medidas de justicia permiten evaluar si un modelo predice un resultado para todos de manera igualitaria para todos los valores de un atributo sensible; dentro de los datos se identificarion 3 atributos para aplicar justicia (Fairness):\n",
    "- [Genero](#Genero)\n",
    "- [Ciudad Residencia](#Ciudad-Residencia)\n",
    "- [Estrato](#Estrato)"
   ]
  },
  {
   "cell_type": "markdown",
   "id": "d5a428c7-0a5f-49d4-8a0d-8264c0775c21",
   "metadata": {},
   "source": [
    "### Genero\n",
    "([Volver al Inicio](#Modelo))"
   ]
  },
  {
   "cell_type": "markdown",
   "id": "d237e978-1026-4346-a039-47e6c38444b3",
   "metadata": {},
   "source": [
    "Para el campo de GENERO los valores corresponde a:\n",
    "- `0` Femenio\n",
    "- `1` Masculino"
   ]
  },
  {
   "cell_type": "code",
   "execution_count": 50,
   "id": "f13638b1-c9a1-4347-961f-64b0e94813b6",
   "metadata": {},
   "outputs": [
    {
     "name": "stdout",
     "output_type": "stream",
     "text": [
      "Precisión para género masculino: 0.8462255358807083\n",
      "Precisión para género femenino: 0.8966442953020134\n"
     ]
    }
   ],
   "source": [
    "model = RandomForestClassifier(random_state=seed_value)\n",
    "\n",
    "# Entrenar el modelo\n",
    "model.fit(X_train, y_train)\n",
    "\n",
    "# Separamos el conjunto de test según el género\n",
    "X_test_masculino = X_test[X_test['GENERO'] == 1]\n",
    "y_test_masculino = y_test[X_test['GENERO'] == 1]\n",
    "\n",
    "X_test_femenino = X_test[X_test['GENERO'] == 0]\n",
    "y_test_femenino = y_test[X_test['GENERO'] == 0]\n",
    "\n",
    "# Realizamos las predicciones para cada grupo\n",
    "y_pred_masculino = model.predict(X_test_masculino)\n",
    "y_pred_femenino = model.predict(X_test_femenino)\n",
    "\n",
    "# Calculamos la precisión para cada grupo\n",
    "accuracy_masculino = accuracy_score(y_test_masculino, y_pred_masculino)\n",
    "accuracy_femenino = accuracy_score(y_test_femenino, y_pred_femenino)\n",
    "\n",
    "print(f\"Precisión para género masculino: {accuracy_masculino}\")\n",
    "print(f\"Precisión para género femenino: {accuracy_femenino}\")\n"
   ]
  },
  {
   "cell_type": "code",
   "execution_count": 51,
   "id": "e73b9ca8-41c5-46e2-961d-078ffe683ae8",
   "metadata": {},
   "outputs": [
    {
     "name": "stdout",
     "output_type": "stream",
     "text": [
      "Diferencia de precisión entre masculino y femenino: 0.05\n"
     ]
    }
   ],
   "source": [
    "# 3. Comparar el rendimiento entre grupos (Métrica de justicia)\n",
    "# Diferencia de precisión entre masculino y femenino\n",
    "precision_diferencia = abs(accuracy_masculino - accuracy_femenino)\n",
    "print(f\"Diferencia de precisión entre masculino y femenino: {decimal_formatter2(precision_diferencia)}\")"
   ]
  },
  {
   "cell_type": "markdown",
   "id": "7eb43cab-e7b0-4ae2-b3b7-dca422744385",
   "metadata": {},
   "source": [
    "El valor obtenido, demuestra solo existe una diferencia de 0.05 entre generos."
   ]
  },
  {
   "cell_type": "markdown",
   "id": "2c75e6d3-c36a-4ec8-9c60-ef8683a704e7",
   "metadata": {},
   "source": [
    "### Ciudad Residencia\n",
    "([Volver al Inicio](#Modelo))"
   ]
  },
  {
   "cell_type": "code",
   "execution_count": 54,
   "id": "8f7d9726-9204-4b00-bb16-9e3b1c759873",
   "metadata": {},
   "outputs": [
    {
     "name": "stdout",
     "output_type": "stream",
     "text": [
      "Precisión general del modelo: 0.8668866886688669\n"
     ]
    }
   ],
   "source": [
    "# Crear el modelo (puedes usar otro modelo si prefieres)\n",
    "model = RandomForestClassifier(random_state=seed_value)\n",
    "\n",
    "# Entrenar el modelo\n",
    "model.fit(X_train, y_train)\n",
    "\n",
    "# Hacer predicciones en el conjunto de test\n",
    "y_pred = model.predict(X_test)\n",
    "\n",
    "# Calcular la precisión general del modelo\n",
    "accuracy = accuracy_score(y_test, y_pred)\n",
    "print(f\"Precisión general del modelo: {accuracy}\")"
   ]
  },
  {
   "cell_type": "code",
   "execution_count": 55,
   "id": "304942b4-dca0-413c-9437-0c3993bef9c6",
   "metadata": {},
   "outputs": [
    {
     "name": "stdout",
     "output_type": "stream",
     "text": [
      "Index(['ESTRATO', 'SEMESTRE', 'PROMEDIOSEMESTRE', 'EDAD2', 'PROGRAMA',\n",
      "       'GENERO', 'CIUDADRESIDENCIA', 'CIUDADNACIMIENTO'],\n",
      "      dtype='object')\n",
      "Precisión para 2: 1.0\n",
      "Precisión para 23: 0.857389801210026\n",
      "Precisión para 105: 1.0\n",
      "Precisión para 70: 0.8732394366197183\n",
      "Precisión para 172: 0.9024390243902439\n",
      "Precisión para 102: 0.9560439560439561\n",
      "Precisión para 72: 0.75\n",
      "Precisión para 104: 1.0\n",
      "Precisión para 174: 0.85\n",
      "Precisión para 79: 0.875\n",
      "Precisión para 51: 0.8888888888888888\n",
      "Precisión para 58: 0.95\n",
      "Precisión para 25: 0.8571428571428571\n",
      "Precisión para 109: 1.0\n",
      "Precisión para 139: 0.8913043478260869\n",
      "Precisión para 46: 0.8333333333333334\n",
      "Precisión para 43: 1.0\n",
      "Precisión para 151: 1.0\n",
      "Precisión para 125: 0.5714285714285714\n",
      "Precisión para 19: 0.9090909090909091\n",
      "Precisión para 117: 0.8666666666666667\n",
      "Precisión para 17: 0.8666666666666667\n",
      "Precisión para 111: 0.8888888888888888\n",
      "Precisión para 54: 1.0\n",
      "Precisión para 38: 1.0\n",
      "Precisión para 26: 0.7307692307692307\n",
      "Precisión para 110: 1.0\n",
      "Precisión para 167: 0.75\n",
      "Precisión para 57: 0.8\n",
      "Precisión para 89: 0.9090909090909091\n",
      "Precisión para 114: 0.5714285714285714\n",
      "Precisión para 160: 0.9\n",
      "Precisión para 100: 1.0\n",
      "Precisión para 148: 1.0\n",
      "Precisión para 158: 0.5\n",
      "Precisión para 164: 1.0\n",
      "Precisión para 147: 1.0\n",
      "Precisión para 161: 1.0\n",
      "Precisión para 143: 1.0\n",
      "Precisión para 16: 0.8\n",
      "Precisión para 80: 1.0\n",
      "Precisión para 63: 0.6666666666666666\n",
      "Precisión para 5: 1.0\n",
      "Precisión para 98: 0.0\n",
      "Precisión para 41: 1.0\n",
      "Precisión para 34: 1.0\n",
      "Precisión para 97: 1.0\n",
      "Precisión para 145: 0.5\n",
      "Precisión para 15: 0.6666666666666666\n",
      "Precisión para 50: 1.0\n",
      "Precisión para 157: 1.0\n",
      "Precisión para 170: 0.5\n",
      "Precisión para 168: 1.0\n",
      "Precisión para 76: 0.0\n",
      "Precisión para 0: 1.0\n",
      "Precisión para 45: 1.0\n",
      "Precisión para 59: 0.8\n",
      "Precisión para 140: 1.0\n",
      "Precisión para 106: 1.0\n",
      "Precisión para 159: 1.0\n",
      "Precisión para 171: 1.0\n",
      "Precisión para 90: 0.3333333333333333\n",
      "Precisión para 11: 1.0\n",
      "Precisión para 101: 1.0\n",
      "Precisión para 61: 1.0\n",
      "Precisión para 173: 0.8333333333333334\n",
      "Precisión para 118: 1.0\n",
      "Precisión para 22: 1.0\n",
      "Precisión para 132: 1.0\n",
      "Precisión para 88: 0.5\n",
      "Precisión para 133: 1.0\n",
      "Precisión para 1: 0.0\n",
      "Precisión para 18: 1.0\n",
      "Precisión para 37: 1.0\n",
      "Precisión para 131: 1.0\n",
      "Precisión para 29: 1.0\n",
      "Precisión para 78: 1.0\n",
      "Precisión para 66: 1.0\n",
      "Precisión para 28: 0.0\n",
      "Precisión para 20: 1.0\n",
      "Precisión para 64: 1.0\n",
      "Precisión para 169: 1.0\n",
      "Precisión para 127: 1.0\n",
      "Precisión para 24: 1.0\n",
      "Precisión para 44: 1.0\n",
      "Precisión para 120: 1.0\n",
      "Precisión para 108: 1.0\n",
      "Precisión para 8: 1.0\n",
      "Precisión para 69: 1.0\n",
      "Precisión para 12: 1.0\n",
      "Precisión para 85: 1.0\n",
      "Precisión para 107: 1.0\n",
      "Precisión para 48: 1.0\n",
      "Precisión para 71: 1.0\n",
      "Precisión para 134: 1.0\n",
      "Precisión para 138: 1.0\n",
      "Precisión para 115: 0.0\n"
     ]
    }
   ],
   "source": [
    "# Verificar si la columna 'CIUDADRESIDENCIA' existe en el DataFrame\n",
    "print(X_test.columns)\n",
    "\n",
    "\n",
    "# Separar el conjunto de datos según las ciudades\n",
    "unique_cities = X_test['CIUDADRESIDENCIA'].unique()  # Obtén las ciudades únicas\n",
    "\n",
    "# Crear un diccionario para almacenar las precisiones por ciudad\n",
    "city_accuracy = {}\n",
    "\n",
    "# Evaluar el modelo para cada ciudad\n",
    "for city in unique_cities:\n",
    "    # Filtrar los datos de prueba para la ciudad actual\n",
    "    X_city = X_test[X_test['CIUDADRESIDENCIA'] == city]\n",
    "    y_city = y_test[X_test['CIUDADRESIDENCIA'] == city]\n",
    "    \n",
    "    # Hacer las predicciones para esta ciudad\n",
    "    y_pred_city = model.predict(X_city)\n",
    "    \n",
    "    # Calcular la precisión para esta ciudad\n",
    "    accuracy_city = accuracy_score(y_city, y_pred_city)\n",
    "    \n",
    "    # Almacenar la precisión por ciudad\n",
    "    city_accuracy[city] = accuracy_city\n",
    "\n",
    "# Imprimir las precisiones por ciudad\n",
    "for city, accuracy in city_accuracy.items():\n",
    "    print(f\"Precisión para {city}: {accuracy}\")\n"
   ]
  },
  {
   "cell_type": "code",
   "execution_count": 56,
   "id": "14fc2770-90fa-4a50-8465-82a02e07985c",
   "metadata": {},
   "outputs": [
    {
     "name": "stdout",
     "output_type": "stream",
     "text": [
      "Diferencia de precisión entre la mejor y la peor ciudad: 1.0\n"
     ]
    }
   ],
   "source": [
    "# Calcular la diferencia de precisión entre la ciudad con mejor y peor rendimiento\n",
    "max_accuracy = max(city_accuracy.values())  # Mejor precisión\n",
    "min_accuracy = min(city_accuracy.values())  # Peor precisión\n",
    "\n",
    "# Diferencia de precisión\n",
    "accuracy_difference = max_accuracy - min_accuracy\n",
    "print(f\"Diferencia de precisión entre la mejor y la peor ciudad: {accuracy_difference}\")\n"
   ]
  },
  {
   "cell_type": "code",
   "execution_count": 57,
   "id": "03c95700-8da7-4b3b-9071-1f37061f0ff2",
   "metadata": {},
   "outputs": [
    {
     "name": "stdout",
     "output_type": "stream",
     "text": [
      "Recall para 2: 1.0\n",
      "Recall para 23: 0.9593908629441624\n",
      "Recall para 105: 1.0\n",
      "Recall para 70: 1.0\n",
      "Recall para 172: 1.0\n",
      "Recall para 102: 1.0\n",
      "Recall para 72: 1.0\n",
      "Recall para 104: 1.0\n",
      "Recall para 174: 1.0\n",
      "Recall para 79: 1.0\n",
      "Recall para 51: 1.0\n",
      "Recall para 58: 1.0\n",
      "Recall para 25: 1.0\n",
      "Recall para 109: 1.0\n",
      "Recall para 139: 1.0\n",
      "Recall para 46: 1.0\n",
      "Recall para 43: 1.0\n",
      "Recall para 151: 1.0\n",
      "Recall para 125: 1.0\n",
      "Recall para 19: 0.967741935483871\n",
      "Recall para 117: 1.0\n",
      "Recall para 17: 1.0\n",
      "Recall para 111: 1.0\n",
      "Recall para 54: 1.0\n",
      "Recall para 38: 1.0\n",
      "Recall para 26: 0.7916666666666666\n",
      "Recall para 110: 1.0\n",
      "Recall para 167: 0.75\n",
      "Recall para 57: 1.0\n",
      "Recall para 89: 1.0\n",
      "Recall para 114: 0.8\n",
      "Recall para 160: 1.0\n",
      "Recall para 100: 1.0\n",
      "Recall para 148: 1.0\n",
      "Recall para 158: 1.0\n",
      "Recall para 164: 1.0\n",
      "Recall para 147: 1.0\n",
      "Recall para 161: 1.0\n",
      "Recall para 143: 1.0\n",
      "Recall para 16: 1.0\n",
      "Recall para 80: 0.0\n",
      "Recall para 63: 1.0\n",
      "Recall para 5: 1.0\n",
      "Recall para 98: 0.0\n",
      "Recall para 41: 1.0\n",
      "Recall para 34: 1.0\n",
      "Recall para 97: 1.0\n",
      "Recall para 145: 1.0\n",
      "Recall para 15: 0.8\n",
      "Recall para 50: 1.0\n",
      "Recall para 157: 1.0\n",
      "Recall para 170: 0.5\n",
      "Recall para 168: 1.0\n",
      "Recall para 76: 0.0\n",
      "Recall para 0: 1.0\n",
      "Recall para 45: 1.0\n",
      "Recall para 59: 1.0\n",
      "Recall para 140: 1.0\n",
      "Recall para 106: 1.0\n",
      "Recall para 159: 1.0\n",
      "Recall para 171: 1.0\n",
      "Recall para 90: 1.0\n",
      "Recall para 11: 1.0\n",
      "Recall para 101: 1.0\n",
      "Recall para 61: 1.0\n",
      "Recall para 173: 1.0\n",
      "Recall para 118: 1.0\n",
      "Recall para 22: 1.0\n",
      "Recall para 132: 1.0\n",
      "Recall para 88: 1.0\n",
      "Recall para 133: 1.0\n",
      "Recall para 1: 0.0\n",
      "Recall para 18: 1.0\n",
      "Recall para 37: 1.0\n",
      "Recall para 131: 1.0\n",
      "Recall para 29: 1.0\n",
      "Recall para 78: 1.0\n",
      "Recall para 66: 1.0\n",
      "Recall para 28: 0.0\n",
      "Recall para 20: 1.0\n",
      "Recall para 64: 1.0\n",
      "Recall para 169: 1.0\n",
      "Recall para 127: 0.0\n",
      "Recall para 24: 1.0\n",
      "Recall para 44: 1.0\n",
      "Recall para 120: 1.0\n",
      "Recall para 108: 1.0\n",
      "Recall para 8: 1.0\n",
      "Recall para 69: 1.0\n",
      "Recall para 12: 1.0\n",
      "Recall para 85: 1.0\n",
      "Recall para 107: 1.0\n",
      "Recall para 48: 0.0\n",
      "Recall para 71: 1.0\n",
      "Recall para 134: 1.0\n",
      "Recall para 138: 1.0\n",
      "Recall para 115: 0.0\n"
     ]
    }
   ],
   "source": [
    "from sklearn.metrics import recall_score\n",
    "\n",
    "# Crear un diccionario para almacenar el recall por ciudad\n",
    "city_recall = {}\n",
    "\n",
    "# Evaluar el recall para cada ciudad\n",
    "for city in unique_cities:\n",
    "    # Filtrar los datos de prueba para la ciudad actual\n",
    "    X_city = X_test[X_test['CIUDADRESIDENCIA'] == city]\n",
    "    y_city = y_test[X_test['CIUDADRESIDENCIA'] == city]\n",
    "    \n",
    "    # Hacer las predicciones para esta ciudad\n",
    "    y_pred_city = model.predict(X_city)\n",
    "    \n",
    "    # Calcular el recall para esta ciudad\n",
    "    recall_city = recall_score(y_city, y_pred_city)\n",
    "    \n",
    "    # Almacenar el recall por ciudad\n",
    "    city_recall[city] = recall_city\n",
    "\n",
    "# Imprimir los recalls por ciudad\n",
    "for city, recall in city_recall.items():\n",
    "    print(f\"Recall para {city}: {recall}\")\n"
   ]
  },
  {
   "cell_type": "markdown",
   "id": "b90499b4-3817-441f-8985-3a532d412951",
   "metadata": {},
   "source": [
    "Con lo anterior, se evidencia \"paridad\" entre los datos y no se evidencian sesgos pronunciados en la información"
   ]
  },
  {
   "cell_type": "markdown",
   "id": "8fc32931-a958-4ebb-812d-137768ea7bd9",
   "metadata": {},
   "source": [
    "### Estrato\n",
    "([Volver al Inicio](#Modelo))"
   ]
  },
  {
   "cell_type": "code",
   "execution_count": 60,
   "id": "130480bf-2181-4757-9a69-e1ba1008ee60",
   "metadata": {},
   "outputs": [
    {
     "name": "stdout",
     "output_type": "stream",
     "text": [
      "Precisión general del modelo: 0.8668866886688669\n"
     ]
    }
   ],
   "source": [
    "from sklearn.ensemble import RandomForestClassifier\n",
    "from sklearn.metrics import accuracy_score\n",
    "\n",
    "# Crear el modelo (puedes usar otro modelo si prefieres)\n",
    "model = RandomForestClassifier(random_state=seed_value)\n",
    "\n",
    "# Entrenar el modelo\n",
    "model.fit(X_train, y_train)\n",
    "\n",
    "# Hacer predicciones en el conjunto de test\n",
    "y_pred = model.predict(X_test)\n",
    "\n",
    "# Calcular la precisión general del modelo\n",
    "accuracy = accuracy_score(y_test, y_pred)\n",
    "print(f\"Precisión general del modelo: {accuracy}\")\n"
   ]
  },
  {
   "cell_type": "code",
   "execution_count": 61,
   "id": "fa4fa4b2-42bd-4f65-8dbf-69eda795f6d7",
   "metadata": {},
   "outputs": [
    {
     "name": "stdout",
     "output_type": "stream",
     "text": [
      "Index(['ESTRATO', 'SEMESTRE', 'PROMEDIOSEMESTRE', 'EDAD2', 'PROGRAMA',\n",
      "       'GENERO', 'CIUDADRESIDENCIA', 'CIUDADNACIMIENTO'],\n",
      "      dtype='object')\n",
      "Precisión para el estrato 2.0: 0.8848396501457726\n",
      "Precisión para el estrato 3.0: 0.8350694444444444\n",
      "Precisión para el estrato 1.0: 0.8877551020408163\n",
      "Precisión para el estrato 5.0: 0.7954545454545454\n",
      "Precisión para el estrato 4.0: 0.8859649122807017\n",
      "Precisión para el estrato 6.0: 0.6666666666666666\n"
     ]
    }
   ],
   "source": [
    "##2. Dividir los datos según ESTRATO\n",
    "\n",
    "# Verificar si la columna 'ESTRATO' existe en el DataFrame\n",
    "print(X_test.columns)\n",
    "\n",
    "# Suponiendo que 'ESTRATO' es una columna categórica con diferentes niveles\n",
    "# Separar el conjunto de datos según el estrato\n",
    "unique_strata = X_test['ESTRATO'].unique()  # Obtén los estratos únicos\n",
    "\n",
    "# Crear un diccionario para almacenar las precisiones por estrato\n",
    "stratum_accuracy = {}\n",
    "\n",
    "# Evaluar el modelo para cada estrato\n",
    "for stratum in unique_strata:\n",
    "    # Filtrar los datos de prueba para el estrato actual\n",
    "    X_stratum = X_test[X_test['ESTRATO'] == stratum]\n",
    "    y_stratum = y_test[X_test['ESTRATO'] == stratum]\n",
    "    \n",
    "    # Hacer las predicciones para este estrato\n",
    "    y_pred_stratum = model.predict(X_stratum)\n",
    "    \n",
    "    # Calcular la precisión para este estrato\n",
    "    accuracy_stratum = accuracy_score(y_stratum, y_pred_stratum)\n",
    "    \n",
    "    # Almacenar la precisión por estrato\n",
    "    stratum_accuracy[stratum] = accuracy_stratum\n",
    "\n",
    "# Imprimir las precisiones por estrato\n",
    "for stratum, accuracy in stratum_accuracy.items():\n",
    "    print(f\"Precisión para el estrato {stratum}: {accuracy}\")\n"
   ]
  },
  {
   "cell_type": "code",
   "execution_count": 62,
   "id": "f0140eae-9594-4175-b094-c29196344e92",
   "metadata": {},
   "outputs": [
    {
     "name": "stdout",
     "output_type": "stream",
     "text": [
      "Diferencia de precisión entre el mejor y el peor estrato: 0.22108843537414968\n"
     ]
    }
   ],
   "source": [
    "## 3. Comparar el rendimiento entre los estratos (medida de justicia)\n",
    "# Calcular la diferencia de precisión entre el estrato con mejor y peor rendimiento\n",
    "max_accuracy = max(stratum_accuracy.values())  # Mejor precisión\n",
    "min_accuracy = min(stratum_accuracy.values())  # Peor precisión\n",
    "\n",
    "# Diferencia de precisión\n",
    "accuracy_difference = max_accuracy - min_accuracy\n",
    "print(f\"Diferencia de precisión entre el mejor y el peor estrato: {accuracy_difference}\")\n"
   ]
  },
  {
   "cell_type": "code",
   "execution_count": 63,
   "id": "67ce2fe1-5058-40db-b7f1-2b993b92273e",
   "metadata": {},
   "outputs": [
    {
     "name": "stdout",
     "output_type": "stream",
     "text": [
      "Recall para el estrato 2.0: 0.9785831960461285\n",
      "Recall para el estrato 3.0: 0.94375\n",
      "Recall para el estrato 1.0: 0.985632183908046\n",
      "Recall para el estrato 5.0: 0.9166666666666666\n",
      "Recall para el estrato 4.0: 0.9789473684210527\n",
      "Recall para el estrato 6.0: 1.0\n"
     ]
    }
   ],
   "source": [
    "#4. Otras métricas de justicia\n",
    "from sklearn.metrics import recall_score\n",
    "\n",
    "# Crear un diccionario para almacenar el recall por estrato\n",
    "stratum_recall = {}\n",
    "\n",
    "# Evaluar el recall para cada estrato\n",
    "for stratum in unique_strata:\n",
    "    # Filtrar los datos de prueba para el estrato actual\n",
    "    X_stratum = X_test[X_test['ESTRATO'] == stratum]\n",
    "    y_stratum = y_test[X_test['ESTRATO'] == stratum]\n",
    "    \n",
    "    # Hacer las predicciones para este estrato\n",
    "    y_pred_stratum = model.predict(X_stratum)\n",
    "    \n",
    "    # Calcular el recall para este estrato\n",
    "    recall_stratum = recall_score(y_stratum, y_pred_stratum)\n",
    "    \n",
    "    # Almacenar el recall por estrato\n",
    "    stratum_recall[stratum] = recall_stratum\n",
    "\n",
    "# Imprimir los recalls por estrato\n",
    "for stratum, recall in stratum_recall.items():\n",
    "    print(f\"Recall para el estrato {stratum}: {recall}\")\n",
    "\n"
   ]
  },
  {
   "cell_type": "markdown",
   "id": "5c730325-0d45-4f52-89df-8381eb126511",
   "metadata": {},
   "source": [
    "## Seleccion Modelo\n",
    "([Volver al Inicio](#Modelo))"
   ]
  },
  {
   "cell_type": "markdown",
   "id": "6aa66e4b-1810-4afa-950e-943a175b4a6d",
   "metadata": {},
   "source": [
    "Con base a los datos obtenidos entre los modelos de [Regresion Logistica](#Regresion-Logistica) y [RandomForest](#RandomForest), se evidencia una RandomForest es la mejor opción debido a su rendimiento superior en términos de precisión global, MAE y RMSE"
   ]
  },
  {
   "cell_type": "markdown",
   "id": "4f1cc647-aa85-4cd0-84b2-90309b4aeb6e",
   "metadata": {},
   "source": [
    "### Generar joblib"
   ]
  },
  {
   "cell_type": "code",
   "execution_count": 67,
   "id": "9f0fafb9-b876-4fe0-b1c4-1b40dfcdcc46",
   "metadata": {},
   "outputs": [
    {
     "data": {
      "text/plain": [
       "['../../deploy/rf_model.joblib']"
      ]
     },
     "execution_count": 67,
     "metadata": {},
     "output_type": "execute_result"
    }
   ],
   "source": [
    "# Se procede a guardar el segundo modelo para su despliegue posterior\n",
    "joblib.dump(rf, '../../deploy/rf_model.joblib')"
   ]
  }
 ],
 "metadata": {
  "kernelspec": {
   "display_name": "Python 3 (ipykernel)",
   "language": "python",
   "name": "python3"
  },
  "language_info": {
   "codemirror_mode": {
    "name": "ipython",
    "version": 3
   },
   "file_extension": ".py",
   "mimetype": "text/x-python",
   "name": "python",
   "nbconvert_exporter": "python",
   "pygments_lexer": "ipython3",
   "version": "3.9.19"
  }
 },
 "nbformat": 4,
 "nbformat_minor": 5
}
