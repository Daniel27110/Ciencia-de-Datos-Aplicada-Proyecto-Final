{
 "cells": [
  {
   "cell_type": "markdown",
   "metadata": {
    "id": "5CF7qFioxhut"
   },
   "source": [
    "# ENDEPORTE_PROYECTO_FINAL\n",
    "\n",
    "### Objetivo:\n",
    "Mediante tecnicas de machine learning establecer las variables que mayor relacion tienen con la desercion e identificar los estudiantes de carreras profesionales o tecnologicas de la entidad que pueden desertar o no de sus programas.\n",
    "\n",
    "### Contexto del negocio\n",
    "Para la entidad es dificil identificar tempranamente los estudiantes que están en riesgo de abandonar sus carreras, las intervenciones son a menudo menos efectivas porque las señales de riesgo no aparecen hasta que el estudiante ya ha tomado la decisión de desertar. Se espera que mediante modelos de machine learning se identifiquen con anticipacion los estudiantes que pueden llegar a desertar con el fin de brindar a cada estudiante el tipo y nivel de apoyo que necesita para superar sus dificultades."
   ]
  },
  {
   "cell_type": "code",
   "execution_count": 2,
   "metadata": {
    "colab": {
     "base_uri": "https://localhost:8080/"
    },
    "id": "8lkgPuQxoHVm",
    "outputId": "0a64afb8-f1e4-4e64-f2ad-05d21b5dadbe"
   },
   "outputs": [
    {
     "name": "stdout",
     "output_type": "stream",
     "text": [
      "Requirement already satisfied: scikit-learn in c:\\users\\andre\\appdata\\local\\packages\\pythonsoftwarefoundation.python.3.11_qbz5n2kfra8p0\\localcache\\local-packages\\python311\\site-packages (1.5.2)\n",
      "Requirement already satisfied: numpy>=1.19.5 in c:\\users\\andre\\appdata\\local\\packages\\pythonsoftwarefoundation.python.3.11_qbz5n2kfra8p0\\localcache\\local-packages\\python311\\site-packages (from scikit-learn) (1.26.3)\n",
      "Requirement already satisfied: scipy>=1.6.0 in c:\\users\\andre\\appdata\\local\\packages\\pythonsoftwarefoundation.python.3.11_qbz5n2kfra8p0\\localcache\\local-packages\\python311\\site-packages (from scikit-learn) (1.12.0)\n",
      "Requirement already satisfied: joblib>=1.2.0 in c:\\users\\andre\\appdata\\local\\packages\\pythonsoftwarefoundation.python.3.11_qbz5n2kfra8p0\\localcache\\local-packages\\python311\\site-packages (from scikit-learn) (1.4.2)\n",
      "Requirement already satisfied: threadpoolctl>=3.1.0 in c:\\users\\andre\\appdata\\local\\packages\\pythonsoftwarefoundation.python.3.11_qbz5n2kfra8p0\\localcache\\local-packages\\python311\\site-packages (from scikit-learn) (3.5.0)\n"
     ]
    },
    {
     "name": "stderr",
     "output_type": "stream",
     "text": [
      "\n",
      "[notice] A new release of pip is available: 24.0 -> 24.3.1\n",
      "[notice] To update, run: C:\\Users\\andre\\AppData\\Local\\Microsoft\\WindowsApps\\PythonSoftwareFoundation.Python.3.11_qbz5n2kfra8p0\\python.exe -m pip install --upgrade pip\n"
     ]
    }
   ],
   "source": [
    "!pip install scikit-learn"
   ]
  },
  {
   "cell_type": "code",
   "execution_count": 3,
   "metadata": {
    "id": "dZRdaRJZxEJF"
   },
   "outputs": [],
   "source": [
    "import pandas as pd\n",
    "import matplotlib.pyplot as plt\n",
    "import seaborn as sns\n",
    "import numpy as np\n",
    "pd.set_option(\"display.max_columns\", None)\n",
    "pd.set_option(\"display.max_rows\", 100)\n",
    "from sklearn.preprocessing import LabelEncoder # Import LabelEncoder\n"
   ]
  },
  {
   "cell_type": "markdown",
   "metadata": {
    "id": "L9inYQ9o10c0"
   },
   "source": [
    "\n",
    "##**1. Entendimiento y preparación de los datos:**\n"
   ]
  },
  {
   "cell_type": "markdown",
   "metadata": {
    "id": "P4I8zwSl8qiX"
   },
   "source": [
    "### Cargue del dataset"
   ]
  },
  {
   "cell_type": "code",
   "execution_count": 4,
   "metadata": {
    "colab": {
     "base_uri": "https://localhost:8080/"
    },
    "id": "DrMcpAj42djV",
    "outputId": "9298ad56-6c0a-41ef-e44f-6fc9376f3a9d"
   },
   "outputs": [
    {
     "name": "stderr",
     "output_type": "stream",
     "text": [
      "C:\\Users\\andre\\AppData\\Local\\Temp\\ipykernel_16084\\842882547.py:5: DtypeWarning: Columns (9) have mixed types. Specify dtype option on import or set low_memory=False.\n",
      "  historicos_df=pd.read_csv(historicos_url, sep=\";\", compression=\"gzip\")\n"
     ]
    }
   ],
   "source": [
    "demograficos_url=\"https://github.com/amrios80/Endeporte/raw/refs/heads/main/data/Demograficos.csv.gz\"\n",
    "historicos_url=\"https://github.com/amrios80/Endeporte/raw/refs/heads/main/data/HistoricoNotas.csv.gz\"\n",
    "\n",
    "demograficos_df = pd.read_csv(demograficos_url, sep=\";\", compression='gzip')\n",
    "historicos_df=pd.read_csv(historicos_url, sep=\";\", compression=\"gzip\")"
   ]
  },
  {
   "cell_type": "markdown",
   "metadata": {
    "id": "nYGvkG3i9x_K"
   },
   "source": [
    "### Limpieza de datos"
   ]
  },
  {
   "cell_type": "markdown",
   "metadata": {
    "id": "454c1LdwNDEP"
   },
   "source": [
    "* ***Estandarizacion*** : Segun las reglas acordadas con ENDEPORTE, Se excluyen del estudio las ESPECIALIZACIONES:"
   ]
  },
  {
   "cell_type": "code",
   "execution_count": 5,
   "metadata": {
    "colab": {
     "base_uri": "https://localhost:8080/",
     "height": 354
    },
    "id": "3ellj_Sy44PC",
    "outputId": "568815e6-5c37-48c0-94f2-a1715271b6a1"
   },
   "outputs": [
    {
     "data": {
      "text/html": [
       "<div>\n",
       "<style scoped>\n",
       "    .dataframe tbody tr th:only-of-type {\n",
       "        vertical-align: middle;\n",
       "    }\n",
       "\n",
       "    .dataframe tbody tr th {\n",
       "        vertical-align: top;\n",
       "    }\n",
       "\n",
       "    .dataframe thead th {\n",
       "        text-align: right;\n",
       "    }\n",
       "</style>\n",
       "<table border=\"1\" class=\"dataframe\">\n",
       "  <thead>\n",
       "    <tr style=\"text-align: right;\">\n",
       "      <th></th>\n",
       "      <th>PERIODO_ACAENICO</th>\n",
       "      <th>CODIGO</th>\n",
       "      <th>UNIDAD</th>\n",
       "      <th>CODIGOPROGRAMA</th>\n",
       "      <th>PROGRAMA</th>\n",
       "      <th>SEMESTRE</th>\n",
       "      <th>PROMEDIOSEMESTRE</th>\n",
       "      <th>GENERO</th>\n",
       "      <th>FECHANACIMIENTO</th>\n",
       "      <th>ESTRATO</th>\n",
       "      <th>CIUDADRESIDENCIA</th>\n",
       "      <th>DEPARTAMENTORESICEDENCIA</th>\n",
       "      <th>ESTADOCIVIL</th>\n",
       "      <th>PROMEDIOGENERAL</th>\n",
       "      <th>SITUACION_ACTUAL</th>\n",
       "      <th>CATEGORIA_ACTUAL</th>\n",
       "      <th>SITUACION_DEL_PERIODO</th>\n",
       "      <th>CATEGORIA_DEL_PERIODO</th>\n",
       "      <th>DISCAPACIDAD</th>\n",
       "      <th>TIPO_DISCAPACIDAD</th>\n",
       "      <th>FECHA_MATRICULA</th>\n",
       "      <th>IDCIUDADNACIMIENTO</th>\n",
       "      <th>CIUDADNACIMIENTO</th>\n",
       "      <th>IDDEPARTAMENTONACIMIENTO</th>\n",
       "      <th>DEPARTAMENTONACIMIENTO</th>\n",
       "      <th>SISBEN</th>\n",
       "      <th>NIVELSISBEN</th>\n",
       "      <th>CANTIDAD</th>\n",
       "      <th>PERIODO</th>\n",
       "      <th>EDAD2</th>\n",
       "      <th>EDAD</th>\n",
       "      <th>FACULTAD</th>\n",
       "      <th>NIVEL_FORMACION</th>\n",
       "    </tr>\n",
       "  </thead>\n",
       "  <tbody>\n",
       "    <tr>\n",
       "      <th>230</th>\n",
       "      <td>2017 - 2G</td>\n",
       "      <td>7305172G010</td>\n",
       "      <td>CERES SALTO AFRO GUACHENE CAUCA</td>\n",
       "      <td>7305</td>\n",
       "      <td>TECNOLOGIA EN DEPORTE</td>\n",
       "      <td>1</td>\n",
       "      <td>4</td>\n",
       "      <td>Masculino</td>\n",
       "      <td>13-08-1996</td>\n",
       "      <td>1.0</td>\n",
       "      <td>GUACHENE</td>\n",
       "      <td>CAUCA</td>\n",
       "      <td>Soltero</td>\n",
       "      <td>4</td>\n",
       "      <td>EXCLUIDO CANCELACION SEMESTRE</td>\n",
       "      <td>REINGRESO</td>\n",
       "      <td>ACTIVO</td>\n",
       "      <td>NUEVO REGULAR</td>\n",
       "      <td>NINGUNA</td>\n",
       "      <td>NINGUNA</td>\n",
       "      <td>29/12/17</td>\n",
       "      <td>19300.0</td>\n",
       "      <td>GUACHENE</td>\n",
       "      <td>19.0</td>\n",
       "      <td>CAUCA</td>\n",
       "      <td>0.0</td>\n",
       "      <td>1.0</td>\n",
       "      <td>1</td>\n",
       "      <td>2017-II</td>\n",
       "      <td>21</td>\n",
       "      <td>Edad entre 18 y 25 años</td>\n",
       "      <td>Fac. Deporte</td>\n",
       "      <td>Tecnológico</td>\n",
       "    </tr>\n",
       "    <tr>\n",
       "      <th>15066</th>\n",
       "      <td>2019 - 1</td>\n",
       "      <td>7306191165</td>\n",
       "      <td>ESCUELA NACIONAL DEL DEPORTE</td>\n",
       "      <td>7306</td>\n",
       "      <td>FISIOTERAPIA</td>\n",
       "      <td>1</td>\n",
       "      <td>4,1</td>\n",
       "      <td>Femenino</td>\n",
       "      <td>10-03-2001</td>\n",
       "      <td>3.0</td>\n",
       "      <td>CALI</td>\n",
       "      <td>VALLE DEL CAUCA</td>\n",
       "      <td>Soltero</td>\n",
       "      <td>4,1</td>\n",
       "      <td>ACTIVO</td>\n",
       "      <td>CONTINUIDAD ACADEMICA - EGRESADO</td>\n",
       "      <td>ACTIVO</td>\n",
       "      <td>ANTIGUO</td>\n",
       "      <td>NINGUNA</td>\n",
       "      <td>NINGUNA</td>\n",
       "      <td>16/01/19</td>\n",
       "      <td>76001.0</td>\n",
       "      <td>CALI</td>\n",
       "      <td>76.0</td>\n",
       "      <td>VALLE DEL CAUCA</td>\n",
       "      <td>0.0</td>\n",
       "      <td>NaN</td>\n",
       "      <td>1</td>\n",
       "      <td>2019-I</td>\n",
       "      <td>18</td>\n",
       "      <td>Edad entre 18 y 25 años</td>\n",
       "      <td>Fac. Salud</td>\n",
       "      <td>Universitrario</td>\n",
       "    </tr>\n",
       "    <tr>\n",
       "      <th>29949</th>\n",
       "      <td>2021 - 1</td>\n",
       "      <td>53212171107</td>\n",
       "      <td>ESCUELA NACIONAL DEL DEPORTE</td>\n",
       "      <td>53212</td>\n",
       "      <td>DEPORTE</td>\n",
       "      <td>8</td>\n",
       "      <td>4,5</td>\n",
       "      <td>Masculino</td>\n",
       "      <td>20-10-1994</td>\n",
       "      <td>3.0</td>\n",
       "      <td>CALI</td>\n",
       "      <td>VALLE DEL CAUCA</td>\n",
       "      <td>Soltero</td>\n",
       "      <td>4</td>\n",
       "      <td>EXCLUIDO NO RENOVACION DE MATRICULA</td>\n",
       "      <td>CONTINUIDAD ACADEMICA - EGRESADO</td>\n",
       "      <td>ACTIVO</td>\n",
       "      <td>ANTIGUO</td>\n",
       "      <td>NINGUNA</td>\n",
       "      <td>NINGUNA</td>\n",
       "      <td>28/01/21</td>\n",
       "      <td>76001.0</td>\n",
       "      <td>CALI</td>\n",
       "      <td>76.0</td>\n",
       "      <td>VALLE DEL CAUCA</td>\n",
       "      <td>0.0</td>\n",
       "      <td>NaN</td>\n",
       "      <td>1</td>\n",
       "      <td>2021-I</td>\n",
       "      <td>27</td>\n",
       "      <td>Edad entre 26 y 33 años</td>\n",
       "      <td>Fac. Deporte</td>\n",
       "      <td>Universitrario</td>\n",
       "    </tr>\n",
       "  </tbody>\n",
       "</table>\n",
       "</div>"
      ],
      "text/plain": [
       "      PERIODO_ACAENICO       CODIGO                           UNIDAD  \\\n",
       "230          2017 - 2G  7305172G010  CERES SALTO AFRO GUACHENE CAUCA   \n",
       "15066         2019 - 1   7306191165     ESCUELA NACIONAL DEL DEPORTE   \n",
       "29949         2021 - 1  53212171107     ESCUELA NACIONAL DEL DEPORTE   \n",
       "\n",
       "       CODIGOPROGRAMA               PROGRAMA  SEMESTRE PROMEDIOSEMESTRE  \\\n",
       "230              7305  TECNOLOGIA EN DEPORTE         1                4   \n",
       "15066            7306           FISIOTERAPIA         1              4,1   \n",
       "29949           53212                DEPORTE         8              4,5   \n",
       "\n",
       "          GENERO FECHANACIMIENTO  ESTRATO CIUDADRESIDENCIA  \\\n",
       "230    Masculino      13-08-1996      1.0         GUACHENE   \n",
       "15066   Femenino      10-03-2001      3.0             CALI   \n",
       "29949  Masculino      20-10-1994      3.0             CALI   \n",
       "\n",
       "      DEPARTAMENTORESICEDENCIA ESTADOCIVIL PROMEDIOGENERAL  \\\n",
       "230                      CAUCA     Soltero               4   \n",
       "15066          VALLE DEL CAUCA     Soltero             4,1   \n",
       "29949          VALLE DEL CAUCA     Soltero               4   \n",
       "\n",
       "                          SITUACION_ACTUAL                  CATEGORIA_ACTUAL  \\\n",
       "230          EXCLUIDO CANCELACION SEMESTRE                         REINGRESO   \n",
       "15066                               ACTIVO  CONTINUIDAD ACADEMICA - EGRESADO   \n",
       "29949  EXCLUIDO NO RENOVACION DE MATRICULA  CONTINUIDAD ACADEMICA - EGRESADO   \n",
       "\n",
       "      SITUACION_DEL_PERIODO CATEGORIA_DEL_PERIODO DISCAPACIDAD  \\\n",
       "230                  ACTIVO         NUEVO REGULAR      NINGUNA   \n",
       "15066                ACTIVO               ANTIGUO      NINGUNA   \n",
       "29949                ACTIVO               ANTIGUO      NINGUNA   \n",
       "\n",
       "      TIPO_DISCAPACIDAD FECHA_MATRICULA  IDCIUDADNACIMIENTO CIUDADNACIMIENTO  \\\n",
       "230             NINGUNA        29/12/17             19300.0         GUACHENE   \n",
       "15066           NINGUNA        16/01/19             76001.0             CALI   \n",
       "29949           NINGUNA        28/01/21             76001.0             CALI   \n",
       "\n",
       "       IDDEPARTAMENTONACIMIENTO DEPARTAMENTONACIMIENTO  SISBEN  NIVELSISBEN  \\\n",
       "230                        19.0                  CAUCA     0.0          1.0   \n",
       "15066                      76.0        VALLE DEL CAUCA     0.0          NaN   \n",
       "29949                      76.0        VALLE DEL CAUCA     0.0          NaN   \n",
       "\n",
       "       CANTIDAD  PERIODO  EDAD2                     EDAD      FACULTAD  \\\n",
       "230           1  2017-II     21  Edad entre 18 y 25 años  Fac. Deporte   \n",
       "15066         1   2019-I     18  Edad entre 18 y 25 años    Fac. Salud   \n",
       "29949         1   2021-I     27  Edad entre 26 y 33 años  Fac. Deporte   \n",
       "\n",
       "      NIVEL_FORMACION  \n",
       "230       Tecnológico  \n",
       "15066  Universitrario  \n",
       "29949  Universitrario  "
      ]
     },
     "execution_count": 5,
     "metadata": {},
     "output_type": "execute_result"
    }
   ],
   "source": [
    "demograficos_df.sample(3)"
   ]
  },
  {
   "cell_type": "code",
   "execution_count": 6,
   "metadata": {
    "colab": {
     "base_uri": "https://localhost:8080/",
     "height": 229
    },
    "id": "7m5tlw2597EM",
    "outputId": "e5ebdf33-d7f2-4551-a07f-8446d3cd6a64"
   },
   "outputs": [
    {
     "data": {
      "text/plain": [
       "NIVEL_FORMACION\n",
       "Universitrario     48022\n",
       "Tecnológico         4994\n",
       "Especialización     2403\n",
       "Name: count, dtype: int64"
      ]
     },
     "execution_count": 6,
     "metadata": {},
     "output_type": "execute_result"
    }
   ],
   "source": [
    "demograficos_df[\"NIVEL_FORMACION\"].value_counts()"
   ]
  },
  {
   "cell_type": "code",
   "execution_count": 7,
   "metadata": {
    "id": "eylsXlK__zjz"
   },
   "outputs": [],
   "source": [
    "demograficos_df=demograficos_df[(demograficos_df[\"NIVEL_FORMACION\"] != \"Especialización\")]"
   ]
  },
  {
   "cell_type": "markdown",
   "metadata": {
    "id": "kbtYFvHrNpCl"
   },
   "source": [
    "\n",
    "\n",
    "*  ***Eliminacion de codigos de estudiantes duplicados*** : La informacion demografica debe estar a nivel de estudiante, segun lo definido con la entidad, se valida que no haya duplicidad a nivel de codigo del estudiante.\n",
    "\n"
   ]
  },
  {
   "cell_type": "code",
   "execution_count": 8,
   "metadata": {
    "colab": {
     "base_uri": "https://localhost:8080/"
    },
    "id": "zvxGGpBuCJbU",
    "outputId": "060ca2fe-92a4-4b0e-96b2-00dea0c8accd"
   },
   "outputs": [
    {
     "data": {
      "text/plain": [
       "53016"
      ]
     },
     "execution_count": 8,
     "metadata": {},
     "output_type": "execute_result"
    }
   ],
   "source": [
    "total_rows = demograficos_df.shape[0]\n",
    "total_rows"
   ]
  },
  {
   "cell_type": "code",
   "execution_count": 9,
   "metadata": {
    "colab": {
     "base_uri": "https://localhost:8080/",
     "height": 371
    },
    "id": "VKIvpvArCM-6",
    "outputId": "0ad98a4f-5112-456e-853b-8849c491ce9d"
   },
   "outputs": [
    {
     "data": {
      "text/html": [
       "<div>\n",
       "<style scoped>\n",
       "    .dataframe tbody tr th:only-of-type {\n",
       "        vertical-align: middle;\n",
       "    }\n",
       "\n",
       "    .dataframe tbody tr th {\n",
       "        vertical-align: top;\n",
       "    }\n",
       "\n",
       "    .dataframe thead th {\n",
       "        text-align: right;\n",
       "    }\n",
       "</style>\n",
       "<table border=\"1\" class=\"dataframe\">\n",
       "  <thead>\n",
       "    <tr style=\"text-align: right;\">\n",
       "      <th></th>\n",
       "      <th>PERIODO_ACAENICO</th>\n",
       "      <th>CODIGO</th>\n",
       "      <th>UNIDAD</th>\n",
       "      <th>CODIGOPROGRAMA</th>\n",
       "      <th>PROGRAMA</th>\n",
       "      <th>SEMESTRE</th>\n",
       "      <th>PROMEDIOSEMESTRE</th>\n",
       "      <th>GENERO</th>\n",
       "      <th>FECHANACIMIENTO</th>\n",
       "      <th>ESTRATO</th>\n",
       "      <th>CIUDADRESIDENCIA</th>\n",
       "      <th>DEPARTAMENTORESICEDENCIA</th>\n",
       "      <th>ESTADOCIVIL</th>\n",
       "      <th>PROMEDIOGENERAL</th>\n",
       "      <th>SITUACION_ACTUAL</th>\n",
       "      <th>CATEGORIA_ACTUAL</th>\n",
       "      <th>SITUACION_DEL_PERIODO</th>\n",
       "      <th>CATEGORIA_DEL_PERIODO</th>\n",
       "      <th>DISCAPACIDAD</th>\n",
       "      <th>TIPO_DISCAPACIDAD</th>\n",
       "      <th>FECHA_MATRICULA</th>\n",
       "      <th>IDCIUDADNACIMIENTO</th>\n",
       "      <th>CIUDADNACIMIENTO</th>\n",
       "      <th>IDDEPARTAMENTONACIMIENTO</th>\n",
       "      <th>DEPARTAMENTONACIMIENTO</th>\n",
       "      <th>SISBEN</th>\n",
       "      <th>NIVELSISBEN</th>\n",
       "      <th>CANTIDAD</th>\n",
       "      <th>PERIODO</th>\n",
       "      <th>EDAD2</th>\n",
       "      <th>EDAD</th>\n",
       "      <th>FACULTAD</th>\n",
       "      <th>NIVEL_FORMACION</th>\n",
       "    </tr>\n",
       "  </thead>\n",
       "  <tbody>\n",
       "    <tr>\n",
       "      <th>33301</th>\n",
       "      <td>2021 - 2</td>\n",
       "      <td>53212172308</td>\n",
       "      <td>ESCUELA NACIONAL DEL DEPORTE</td>\n",
       "      <td>53212</td>\n",
       "      <td>DEPORTE</td>\n",
       "      <td>4</td>\n",
       "      <td>3,8</td>\n",
       "      <td>Masculino</td>\n",
       "      <td>10-12-1996</td>\n",
       "      <td>2.0</td>\n",
       "      <td>PASTO</td>\n",
       "      <td>NARIÑO</td>\n",
       "      <td>Soltero</td>\n",
       "      <td>3,1</td>\n",
       "      <td>ACTIVO</td>\n",
       "      <td>ANTIGUO</td>\n",
       "      <td>ACTIVO</td>\n",
       "      <td>REINGRESO</td>\n",
       "      <td>NINGUNA</td>\n",
       "      <td>NINGUNA</td>\n",
       "      <td>23/07/21</td>\n",
       "      <td>52001.0</td>\n",
       "      <td>PASTO</td>\n",
       "      <td>52.0</td>\n",
       "      <td>NARIÑO</td>\n",
       "      <td>0.0</td>\n",
       "      <td>NaN</td>\n",
       "      <td>1</td>\n",
       "      <td>2021-II</td>\n",
       "      <td>25</td>\n",
       "      <td>Edad entre 18 y 25 años</td>\n",
       "      <td>Fac. Deporte</td>\n",
       "      <td>Universitrario</td>\n",
       "    </tr>\n",
       "    <tr>\n",
       "      <th>46870</th>\n",
       "      <td>2023 - 1</td>\n",
       "      <td>104024231098</td>\n",
       "      <td>ESCUELA NACIONAL DEL DEPORTE</td>\n",
       "      <td>104024</td>\n",
       "      <td>TERAPIA OCUPACIONAL</td>\n",
       "      <td>1</td>\n",
       "      <td>3,8</td>\n",
       "      <td>Femenino</td>\n",
       "      <td>28-08-2004</td>\n",
       "      <td>2.0</td>\n",
       "      <td>CALI</td>\n",
       "      <td>VALLE DEL CAUCA</td>\n",
       "      <td>Soltero</td>\n",
       "      <td>3,8</td>\n",
       "      <td>ACTIVO</td>\n",
       "      <td>ANTIGUO</td>\n",
       "      <td>ACTIVO</td>\n",
       "      <td>NUEVO REGULAR</td>\n",
       "      <td>NINGUNA</td>\n",
       "      <td>NINGUNA</td>\n",
       "      <td>20/01/23</td>\n",
       "      <td>76001.0</td>\n",
       "      <td>CALI</td>\n",
       "      <td>76.0</td>\n",
       "      <td>VALLE DEL CAUCA</td>\n",
       "      <td>0.0</td>\n",
       "      <td>NaN</td>\n",
       "      <td>1</td>\n",
       "      <td>2023-I</td>\n",
       "      <td>19</td>\n",
       "      <td>Edad entre 18 y 25 años</td>\n",
       "      <td>Fac. Salud</td>\n",
       "      <td>Universitrario</td>\n",
       "    </tr>\n",
       "    <tr>\n",
       "      <th>54917</th>\n",
       "      <td>2020 - 1</td>\n",
       "      <td>7306182036</td>\n",
       "      <td>ESCUELA NACIONAL DEL DEPORTE</td>\n",
       "      <td>7306</td>\n",
       "      <td>FISIOTERAPIA</td>\n",
       "      <td>4</td>\n",
       "      <td>4,1</td>\n",
       "      <td>Femenino</td>\n",
       "      <td>15-10-2001</td>\n",
       "      <td>3.0</td>\n",
       "      <td>CALI</td>\n",
       "      <td>VALLE DEL CAUCA</td>\n",
       "      <td>Soltero</td>\n",
       "      <td>3,7</td>\n",
       "      <td>ACTIVO</td>\n",
       "      <td>ANTIGUO</td>\n",
       "      <td>ACTIVO</td>\n",
       "      <td>ANTIGUO</td>\n",
       "      <td>NINGUNA</td>\n",
       "      <td>NINGUNA</td>\n",
       "      <td>27/12/19</td>\n",
       "      <td>76001.0</td>\n",
       "      <td>CALI</td>\n",
       "      <td>76.0</td>\n",
       "      <td>VALLE DEL CAUCA</td>\n",
       "      <td>0.0</td>\n",
       "      <td>NaN</td>\n",
       "      <td>1</td>\n",
       "      <td>2020-I</td>\n",
       "      <td>18</td>\n",
       "      <td>Edad entre 18 y 25 años</td>\n",
       "      <td>Fac. Salud</td>\n",
       "      <td>Universitrario</td>\n",
       "    </tr>\n",
       "  </tbody>\n",
       "</table>\n",
       "</div>"
      ],
      "text/plain": [
       "      PERIODO_ACAENICO        CODIGO                        UNIDAD  \\\n",
       "33301         2021 - 2   53212172308  ESCUELA NACIONAL DEL DEPORTE   \n",
       "46870         2023 - 1  104024231098  ESCUELA NACIONAL DEL DEPORTE   \n",
       "54917         2020 - 1    7306182036  ESCUELA NACIONAL DEL DEPORTE   \n",
       "\n",
       "       CODIGOPROGRAMA             PROGRAMA  SEMESTRE PROMEDIOSEMESTRE  \\\n",
       "33301           53212              DEPORTE         4              3,8   \n",
       "46870          104024  TERAPIA OCUPACIONAL         1              3,8   \n",
       "54917            7306         FISIOTERAPIA         4              4,1   \n",
       "\n",
       "          GENERO FECHANACIMIENTO  ESTRATO CIUDADRESIDENCIA  \\\n",
       "33301  Masculino      10-12-1996      2.0            PASTO   \n",
       "46870   Femenino      28-08-2004      2.0             CALI   \n",
       "54917   Femenino      15-10-2001      3.0             CALI   \n",
       "\n",
       "      DEPARTAMENTORESICEDENCIA ESTADOCIVIL PROMEDIOGENERAL SITUACION_ACTUAL  \\\n",
       "33301                   NARIÑO     Soltero             3,1           ACTIVO   \n",
       "46870          VALLE DEL CAUCA     Soltero             3,8           ACTIVO   \n",
       "54917          VALLE DEL CAUCA     Soltero             3,7           ACTIVO   \n",
       "\n",
       "      CATEGORIA_ACTUAL SITUACION_DEL_PERIODO CATEGORIA_DEL_PERIODO  \\\n",
       "33301          ANTIGUO                ACTIVO             REINGRESO   \n",
       "46870          ANTIGUO                ACTIVO         NUEVO REGULAR   \n",
       "54917          ANTIGUO                ACTIVO               ANTIGUO   \n",
       "\n",
       "      DISCAPACIDAD TIPO_DISCAPACIDAD FECHA_MATRICULA  IDCIUDADNACIMIENTO  \\\n",
       "33301      NINGUNA           NINGUNA        23/07/21             52001.0   \n",
       "46870      NINGUNA           NINGUNA        20/01/23             76001.0   \n",
       "54917      NINGUNA           NINGUNA        27/12/19             76001.0   \n",
       "\n",
       "      CIUDADNACIMIENTO  IDDEPARTAMENTONACIMIENTO DEPARTAMENTONACIMIENTO  \\\n",
       "33301            PASTO                      52.0                 NARIÑO   \n",
       "46870             CALI                      76.0        VALLE DEL CAUCA   \n",
       "54917             CALI                      76.0        VALLE DEL CAUCA   \n",
       "\n",
       "       SISBEN  NIVELSISBEN  CANTIDAD  PERIODO  EDAD2                     EDAD  \\\n",
       "33301     0.0          NaN         1  2021-II     25  Edad entre 18 y 25 años   \n",
       "46870     0.0          NaN         1   2023-I     19  Edad entre 18 y 25 años   \n",
       "54917     0.0          NaN         1   2020-I     18  Edad entre 18 y 25 años   \n",
       "\n",
       "           FACULTAD NIVEL_FORMACION  \n",
       "33301  Fac. Deporte  Universitrario  \n",
       "46870    Fac. Salud  Universitrario  \n",
       "54917    Fac. Salud  Universitrario  "
      ]
     },
     "execution_count": 9,
     "metadata": {},
     "output_type": "execute_result"
    }
   ],
   "source": [
    "demograficos_df.loc[demograficos_df.duplicated(subset=[\"CODIGO\"], keep=False)].sample(3)"
   ]
  },
  {
   "cell_type": "code",
   "execution_count": 10,
   "metadata": {
    "colab": {
     "base_uri": "https://localhost:8080/",
     "height": 371
    },
    "id": "HFHjk56dFOd-",
    "outputId": "a28937c2-5a21-4ff3-f995-cf971e578e96"
   },
   "outputs": [
    {
     "data": {
      "text/html": [
       "<div>\n",
       "<style scoped>\n",
       "    .dataframe tbody tr th:only-of-type {\n",
       "        vertical-align: middle;\n",
       "    }\n",
       "\n",
       "    .dataframe tbody tr th {\n",
       "        vertical-align: top;\n",
       "    }\n",
       "\n",
       "    .dataframe thead th {\n",
       "        text-align: right;\n",
       "    }\n",
       "</style>\n",
       "<table border=\"1\" class=\"dataframe\">\n",
       "  <thead>\n",
       "    <tr style=\"text-align: right;\">\n",
       "      <th></th>\n",
       "      <th>PERIODO_ACAENICO</th>\n",
       "      <th>CODIGO</th>\n",
       "      <th>UNIDAD</th>\n",
       "      <th>CODIGOPROGRAMA</th>\n",
       "      <th>PROGRAMA</th>\n",
       "      <th>SEMESTRE</th>\n",
       "      <th>PROMEDIOSEMESTRE</th>\n",
       "      <th>GENERO</th>\n",
       "      <th>FECHANACIMIENTO</th>\n",
       "      <th>ESTRATO</th>\n",
       "      <th>CIUDADRESIDENCIA</th>\n",
       "      <th>DEPARTAMENTORESICEDENCIA</th>\n",
       "      <th>ESTADOCIVIL</th>\n",
       "      <th>PROMEDIOGENERAL</th>\n",
       "      <th>SITUACION_ACTUAL</th>\n",
       "      <th>CATEGORIA_ACTUAL</th>\n",
       "      <th>SITUACION_DEL_PERIODO</th>\n",
       "      <th>CATEGORIA_DEL_PERIODO</th>\n",
       "      <th>DISCAPACIDAD</th>\n",
       "      <th>TIPO_DISCAPACIDAD</th>\n",
       "      <th>FECHA_MATRICULA</th>\n",
       "      <th>IDCIUDADNACIMIENTO</th>\n",
       "      <th>CIUDADNACIMIENTO</th>\n",
       "      <th>IDDEPARTAMENTONACIMIENTO</th>\n",
       "      <th>DEPARTAMENTONACIMIENTO</th>\n",
       "      <th>SISBEN</th>\n",
       "      <th>NIVELSISBEN</th>\n",
       "      <th>CANTIDAD</th>\n",
       "      <th>PERIODO</th>\n",
       "      <th>EDAD2</th>\n",
       "      <th>EDAD</th>\n",
       "      <th>FACULTAD</th>\n",
       "      <th>NIVEL_FORMACION</th>\n",
       "    </tr>\n",
       "  </thead>\n",
       "  <tbody>\n",
       "    <tr>\n",
       "      <th>38163</th>\n",
       "      <td>2022 - 1</td>\n",
       "      <td>102383181022</td>\n",
       "      <td>ESCUELA NACIONAL DEL DEPORTE</td>\n",
       "      <td>102383</td>\n",
       "      <td>NUTRICION Y DIETETICA</td>\n",
       "      <td>7</td>\n",
       "      <td>4,6</td>\n",
       "      <td>Femenino</td>\n",
       "      <td>06-04-2000</td>\n",
       "      <td>3.0</td>\n",
       "      <td>CALI</td>\n",
       "      <td>VALLE DEL CAUCA</td>\n",
       "      <td>Soltero</td>\n",
       "      <td>4,2</td>\n",
       "      <td>EXCLUIDO NO RENOVACION DE MATRICULA</td>\n",
       "      <td>CONTINUIDAD ACADEMICA - EGRESADO</td>\n",
       "      <td>ACTIVO</td>\n",
       "      <td>ANTIGUO</td>\n",
       "      <td>NINGUNA</td>\n",
       "      <td>NINGUNA</td>\n",
       "      <td>16/02/22</td>\n",
       "      <td>76001.0</td>\n",
       "      <td>CALI</td>\n",
       "      <td>76.0</td>\n",
       "      <td>VALLE DEL CAUCA</td>\n",
       "      <td>0.0</td>\n",
       "      <td>NaN</td>\n",
       "      <td>1</td>\n",
       "      <td>2022-I</td>\n",
       "      <td>22</td>\n",
       "      <td>Edad entre 18 y 25 años</td>\n",
       "      <td>Fac. Salud</td>\n",
       "      <td>Universitrario</td>\n",
       "    </tr>\n",
       "    <tr>\n",
       "      <th>34325</th>\n",
       "      <td>2021 - 2</td>\n",
       "      <td>102383181022</td>\n",
       "      <td>ESCUELA NACIONAL DEL DEPORTE</td>\n",
       "      <td>102383</td>\n",
       "      <td>NUTRICION Y DIETETICA</td>\n",
       "      <td>8</td>\n",
       "      <td>4,2</td>\n",
       "      <td>Femenino</td>\n",
       "      <td>06-04-2000</td>\n",
       "      <td>3.0</td>\n",
       "      <td>CALI</td>\n",
       "      <td>VALLE DEL CAUCA</td>\n",
       "      <td>Soltero</td>\n",
       "      <td>4,1</td>\n",
       "      <td>EXCLUIDO NO RENOVACION DE MATRICULA</td>\n",
       "      <td>CONTINUIDAD ACADEMICA - EGRESADO</td>\n",
       "      <td>ACTIVO</td>\n",
       "      <td>ANTIGUO</td>\n",
       "      <td>NINGUNA</td>\n",
       "      <td>NINGUNA</td>\n",
       "      <td>30/07/21</td>\n",
       "      <td>76001.0</td>\n",
       "      <td>CALI</td>\n",
       "      <td>76.0</td>\n",
       "      <td>VALLE DEL CAUCA</td>\n",
       "      <td>0.0</td>\n",
       "      <td>NaN</td>\n",
       "      <td>1</td>\n",
       "      <td>2021-II</td>\n",
       "      <td>21</td>\n",
       "      <td>Edad entre 18 y 25 años</td>\n",
       "      <td>Fac. Salud</td>\n",
       "      <td>Universitrario</td>\n",
       "    </tr>\n",
       "    <tr>\n",
       "      <th>30500</th>\n",
       "      <td>2021 - 1</td>\n",
       "      <td>102383181022</td>\n",
       "      <td>ESCUELA NACIONAL DEL DEPORTE</td>\n",
       "      <td>102383</td>\n",
       "      <td>NUTRICION Y DIETETICA</td>\n",
       "      <td>7</td>\n",
       "      <td>4,4</td>\n",
       "      <td>Femenino</td>\n",
       "      <td>06-04-2000</td>\n",
       "      <td>3.0</td>\n",
       "      <td>CALI</td>\n",
       "      <td>VALLE DEL CAUCA</td>\n",
       "      <td>Soltero</td>\n",
       "      <td>3,9</td>\n",
       "      <td>EXCLUIDO NO RENOVACION DE MATRICULA</td>\n",
       "      <td>CONTINUIDAD ACADEMICA - EGRESADO</td>\n",
       "      <td>ACTIVO</td>\n",
       "      <td>ANTIGUO</td>\n",
       "      <td>NINGUNA</td>\n",
       "      <td>NINGUNA</td>\n",
       "      <td>12/01/21</td>\n",
       "      <td>76001.0</td>\n",
       "      <td>CALI</td>\n",
       "      <td>76.0</td>\n",
       "      <td>VALLE DEL CAUCA</td>\n",
       "      <td>0.0</td>\n",
       "      <td>NaN</td>\n",
       "      <td>1</td>\n",
       "      <td>2021-I</td>\n",
       "      <td>21</td>\n",
       "      <td>Edad entre 18 y 25 años</td>\n",
       "      <td>Fac. Salud</td>\n",
       "      <td>Universitrario</td>\n",
       "    </tr>\n",
       "  </tbody>\n",
       "</table>\n",
       "</div>"
      ],
      "text/plain": [
       "      PERIODO_ACAENICO        CODIGO                        UNIDAD  \\\n",
       "38163         2022 - 1  102383181022  ESCUELA NACIONAL DEL DEPORTE   \n",
       "34325         2021 - 2  102383181022  ESCUELA NACIONAL DEL DEPORTE   \n",
       "30500         2021 - 1  102383181022  ESCUELA NACIONAL DEL DEPORTE   \n",
       "\n",
       "       CODIGOPROGRAMA               PROGRAMA  SEMESTRE PROMEDIOSEMESTRE  \\\n",
       "38163          102383  NUTRICION Y DIETETICA         7              4,6   \n",
       "34325          102383  NUTRICION Y DIETETICA         8              4,2   \n",
       "30500          102383  NUTRICION Y DIETETICA         7              4,4   \n",
       "\n",
       "         GENERO FECHANACIMIENTO  ESTRATO CIUDADRESIDENCIA  \\\n",
       "38163  Femenino      06-04-2000      3.0             CALI   \n",
       "34325  Femenino      06-04-2000      3.0             CALI   \n",
       "30500  Femenino      06-04-2000      3.0             CALI   \n",
       "\n",
       "      DEPARTAMENTORESICEDENCIA ESTADOCIVIL PROMEDIOGENERAL  \\\n",
       "38163          VALLE DEL CAUCA     Soltero             4,2   \n",
       "34325          VALLE DEL CAUCA     Soltero             4,1   \n",
       "30500          VALLE DEL CAUCA     Soltero             3,9   \n",
       "\n",
       "                          SITUACION_ACTUAL                  CATEGORIA_ACTUAL  \\\n",
       "38163  EXCLUIDO NO RENOVACION DE MATRICULA  CONTINUIDAD ACADEMICA - EGRESADO   \n",
       "34325  EXCLUIDO NO RENOVACION DE MATRICULA  CONTINUIDAD ACADEMICA - EGRESADO   \n",
       "30500  EXCLUIDO NO RENOVACION DE MATRICULA  CONTINUIDAD ACADEMICA - EGRESADO   \n",
       "\n",
       "      SITUACION_DEL_PERIODO CATEGORIA_DEL_PERIODO DISCAPACIDAD  \\\n",
       "38163                ACTIVO               ANTIGUO      NINGUNA   \n",
       "34325                ACTIVO               ANTIGUO      NINGUNA   \n",
       "30500                ACTIVO               ANTIGUO      NINGUNA   \n",
       "\n",
       "      TIPO_DISCAPACIDAD FECHA_MATRICULA  IDCIUDADNACIMIENTO CIUDADNACIMIENTO  \\\n",
       "38163           NINGUNA        16/02/22             76001.0             CALI   \n",
       "34325           NINGUNA        30/07/21             76001.0             CALI   \n",
       "30500           NINGUNA        12/01/21             76001.0             CALI   \n",
       "\n",
       "       IDDEPARTAMENTONACIMIENTO DEPARTAMENTONACIMIENTO  SISBEN  NIVELSISBEN  \\\n",
       "38163                      76.0        VALLE DEL CAUCA     0.0          NaN   \n",
       "34325                      76.0        VALLE DEL CAUCA     0.0          NaN   \n",
       "30500                      76.0        VALLE DEL CAUCA     0.0          NaN   \n",
       "\n",
       "       CANTIDAD  PERIODO  EDAD2                     EDAD    FACULTAD  \\\n",
       "38163         1   2022-I     22  Edad entre 18 y 25 años  Fac. Salud   \n",
       "34325         1  2021-II     21  Edad entre 18 y 25 años  Fac. Salud   \n",
       "30500         1   2021-I     21  Edad entre 18 y 25 años  Fac. Salud   \n",
       "\n",
       "      NIVEL_FORMACION  \n",
       "38163  Universitrario  \n",
       "34325  Universitrario  \n",
       "30500  Universitrario  "
      ]
     },
     "execution_count": 10,
     "metadata": {},
     "output_type": "execute_result"
    }
   ],
   "source": [
    "demograficos_df[demograficos_df[\"CODIGO\"]==\"102383181022\"].sort_values(by=\"PERIODO_ACAENICO\",ascending=False).head(3)"
   ]
  },
  {
   "cell_type": "markdown",
   "metadata": {
    "id": "zLAneuohQe3b"
   },
   "source": [
    "Se observa que el codigo de estudiante se repite tantas veces como periodos académicos haya cursado y las variables de semestre, promediosemestre, promediogeneral y fecha_matricula son las correspondientes al periodo academico, las demas variables demograficas son las mismas para todos los periodos academicos. Por lo anterior, se tomara la informacion demografica correspondiente al ultimo periodo academico."
   ]
  },
  {
   "cell_type": "code",
   "execution_count": 11,
   "metadata": {
    "id": "AFw8vdFVJizR"
   },
   "outputs": [],
   "source": [
    "idx = demograficos_df.groupby('CODIGO')['PERIODO_ACAENICO'].idxmax()"
   ]
  },
  {
   "cell_type": "code",
   "execution_count": 12,
   "metadata": {
    "id": "r48BX4u7Jz4R"
   },
   "outputs": [],
   "source": [
    "max_periodo_rows = demograficos_df.loc[idx]"
   ]
  },
  {
   "cell_type": "code",
   "execution_count": 13,
   "metadata": {
    "id": "P97kJPX1KzQ7"
   },
   "outputs": [],
   "source": [
    "demograficos_df_uniq=max_periodo_rows.copy()"
   ]
  },
  {
   "cell_type": "code",
   "execution_count": 14,
   "metadata": {
    "colab": {
     "base_uri": "https://localhost:8080/"
    },
    "id": "GHThrmm7LMgF",
    "outputId": "504ee68d-29d4-469a-8968-845c165aa974"
   },
   "outputs": [
    {
     "data": {
      "text/plain": [
       "10021"
      ]
     },
     "execution_count": 14,
     "metadata": {},
     "output_type": "execute_result"
    }
   ],
   "source": [
    "total_rows_uniq = demograficos_df_uniq.shape[0]\n",
    "total_rows_uniq"
   ]
  },
  {
   "cell_type": "markdown",
   "metadata": {
    "id": "MCefkub2Uhws"
   },
   "source": [
    "El estudio se realizara con la informacion demografica correspondiente al ultimo periodo academico de 10.021 estudiantes unicos."
   ]
  },
  {
   "cell_type": "markdown",
   "metadata": {
    "id": "M-oQ907lt2ao"
   },
   "source": [
    "*  ***Calculo de la variable objetivo (Desercion)*** : Si la variable denominada “situación actual” contiene cumple las siguientes condiciones “excluido cancelación semestre” o “excluido no renovación matricula” o “retiro definitivo” y la variable denominada “categoría actual” el valor es diferente de “continuidad académica - egresado” se considera “Deserción”."
   ]
  },
  {
   "cell_type": "code",
   "execution_count": 15,
   "metadata": {
    "id": "nkqSBc5XvFvO"
   },
   "outputs": [],
   "source": [
    "def calculate_target(row):\n",
    "    if (row['SITUACION_ACTUAL'] == 'EXCLUIDO NO RENOVACION DE MATRICULA' or row[\"SITUACION_ACTUAL\"]=='RETIRO DEFINITIVO' or row[\"SITUACION_ACTUAL\"]=='EXCLUIDO CANCELACION SEMESTRE' ) and  (row['CATEGORIA_ACTUAL'] != \"CONTINUIDAD ACADEMICA - EGRESADO\") :\n",
    "        return 0\n",
    "    else:\n",
    "        return 1"
   ]
  },
  {
   "cell_type": "code",
   "execution_count": 16,
   "metadata": {
    "id": "kw0krzUdvIHS"
   },
   "outputs": [],
   "source": [
    "demograficos_df_uniq[\"target\"]=demograficos_df_uniq.apply(calculate_target, axis=1)"
   ]
  },
  {
   "cell_type": "code",
   "execution_count": 17,
   "metadata": {
    "colab": {
     "base_uri": "https://localhost:8080/",
     "height": 198
    },
    "id": "2G6ngO1dw_kx",
    "outputId": "38b7ada1-558c-4de0-be9e-fccd4b7339d8"
   },
   "outputs": [
    {
     "data": {
      "text/plain": [
       "target\n",
       "1    8760\n",
       "0    1261\n",
       "Name: count, dtype: int64"
      ]
     },
     "execution_count": 17,
     "metadata": {},
     "output_type": "execute_result"
    }
   ],
   "source": [
    "demograficos_df_uniq[\"target\"].value_counts()"
   ]
  },
  {
   "cell_type": "markdown",
   "metadata": {
    "id": "4ultfpszxini"
   },
   "source": [
    "Se observa que 1.261 estudiantes de 10.021 desertan, es decir la tasa de desercion de la poblacion estudiada es de 12,6% valor que coincide con las cifras de desercion reportadas por la entidad."
   ]
  },
  {
   "cell_type": "markdown",
   "metadata": {
    "id": "jzMk7_7fK0An"
   },
   "source": [
    "* ***Creacion del dataset (features + target) :*** De acuerdo al analisis exploratorio desarrollado para la primera entrega, se tendran en cuenta para el estudio las siguientes variables, dada su relacion directa con la desercion (target): ESTRATO, SEMESTRE, PROMEDIOSEMESTRE, EDAD2, PROGRAMA, GENERO, CIUDADRESIDENCIA, CIUDADNACIMIENTO. Con base en estas variables de entrada se creara el dataset previa conversion numerica de las variables: ESTRATO, SEMESTRE, PROMEDIOSEMESTRE, EDAD2 y codificacion de las variables categoricas: PROGRAMA, GENERO, CIUDADRESIDENCIA, CIUDADNACIMIENTO."
   ]
  },
  {
   "cell_type": "markdown",
   "metadata": {
    "id": "Pz-5RP-6XeQ2"
   },
   "source": [
    "Conversion a valor numerico del ESTRATO, SEMESTRE, PROMEDIOSEMESTRE Y EDAD2"
   ]
  },
  {
   "cell_type": "code",
   "execution_count": 18,
   "metadata": {
    "id": "INRSIYB8Z9OV"
   },
   "outputs": [],
   "source": [
    "field=\"ESTRATO\"\n",
    "demograficos_df_uniq[field] = pd.to_numeric(demograficos_df_uniq[field], errors='coerce')\n",
    "field=\"SEMESTRE\"\n",
    "demograficos_df_uniq[field] = pd.to_numeric(demograficos_df_uniq[field], errors='coerce')\n",
    "field=\"PROMEDIOSEMESTRE\"\n",
    "demograficos_df_uniq[field] = demograficos_df_uniq[field].astype(str).str.replace(',', '.', regex=False)\n",
    "demograficos_df_uniq[field] = pd.to_numeric(demograficos_df_uniq[field], errors='coerce')\n",
    "field=\"EDAD2\"\n",
    "demograficos_df_uniq[field] = pd.to_numeric(demograficos_df_uniq[field], errors='coerce')"
   ]
  },
  {
   "cell_type": "code",
   "execution_count": 19,
   "metadata": {
    "id": "86qQCnbvGKFJ"
   },
   "outputs": [],
   "source": [
    "numeric_vars = [\"ESTRATO\", \"SEMESTRE\", \"PROMEDIOSEMESTRE\", \"EDAD2\"]\n",
    "category_vars = [\"PROGRAMA\", \"GENERO\", \"CIUDADRESIDENCIA\",\"CIUDADNACIMIENTO\"]\n",
    "target_var=\"target\"\n",
    "features=numeric_vars + category_vars"
   ]
  },
  {
   "cell_type": "markdown",
   "metadata": {
    "id": "LXug_Y83P2lh"
   },
   "source": [
    "Conversion de las variables categoricas a numericas utilizando codificacion, para asegurar que todas las variables de entrada al modelo sean numericas."
   ]
  },
  {
   "cell_type": "code",
   "execution_count": 20,
   "metadata": {
    "id": "xAeZ3wzVHmsu"
   },
   "outputs": [],
   "source": [
    "def get_df(df, target_var=\"target\", numeric_vars=[], category_vars=[]):\n",
    "  df = df.copy()\n",
    "  label_encoder = LabelEncoder()\n",
    "  for col in category_vars:\n",
    "      df[col] = label_encoder.fit_transform(df[col].astype(str))\n",
    "  df=df[ numeric_vars + category_vars+ [target_var]]\n",
    "  return df"
   ]
  },
  {
   "cell_type": "code",
   "execution_count": 21,
   "metadata": {
    "colab": {
     "base_uri": "https://localhost:8080/",
     "height": 163
    },
    "id": "irY3ZyURNeEC",
    "outputId": "b945e05a-b6d8-4b02-8c61-f4591b6374db"
   },
   "outputs": [
    {
     "data": {
      "text/html": [
       "<div>\n",
       "<style scoped>\n",
       "    .dataframe tbody tr th:only-of-type {\n",
       "        vertical-align: middle;\n",
       "    }\n",
       "\n",
       "    .dataframe tbody tr th {\n",
       "        vertical-align: top;\n",
       "    }\n",
       "\n",
       "    .dataframe thead th {\n",
       "        text-align: right;\n",
       "    }\n",
       "</style>\n",
       "<table border=\"1\" class=\"dataframe\">\n",
       "  <thead>\n",
       "    <tr style=\"text-align: right;\">\n",
       "      <th></th>\n",
       "      <th>ESTRATO</th>\n",
       "      <th>SEMESTRE</th>\n",
       "      <th>PROMEDIOSEMESTRE</th>\n",
       "      <th>EDAD2</th>\n",
       "      <th>PROGRAMA</th>\n",
       "      <th>GENERO</th>\n",
       "      <th>CIUDADRESIDENCIA</th>\n",
       "      <th>CIUDADNACIMIENTO</th>\n",
       "      <th>target</th>\n",
       "    </tr>\n",
       "  </thead>\n",
       "  <tbody>\n",
       "    <tr>\n",
       "      <th>10877</th>\n",
       "      <td>2.0</td>\n",
       "      <td>8</td>\n",
       "      <td>4.7</td>\n",
       "      <td>22</td>\n",
       "      <td>1</td>\n",
       "      <td>0</td>\n",
       "      <td>102</td>\n",
       "      <td>179</td>\n",
       "      <td>1</td>\n",
       "    </tr>\n",
       "    <tr>\n",
       "      <th>54132</th>\n",
       "      <td>2.0</td>\n",
       "      <td>5</td>\n",
       "      <td>3.0</td>\n",
       "      <td>20</td>\n",
       "      <td>1</td>\n",
       "      <td>1</td>\n",
       "      <td>23</td>\n",
       "      <td>47</td>\n",
       "      <td>1</td>\n",
       "    </tr>\n",
       "    <tr>\n",
       "      <th>14924</th>\n",
       "      <td>3.0</td>\n",
       "      <td>8</td>\n",
       "      <td>4.3</td>\n",
       "      <td>23</td>\n",
       "      <td>4</td>\n",
       "      <td>1</td>\n",
       "      <td>23</td>\n",
       "      <td>47</td>\n",
       "      <td>1</td>\n",
       "    </tr>\n",
       "  </tbody>\n",
       "</table>\n",
       "</div>"
      ],
      "text/plain": [
       "       ESTRATO  SEMESTRE  PROMEDIOSEMESTRE  EDAD2  PROGRAMA  GENERO  \\\n",
       "10877      2.0         8               4.7     22         1       0   \n",
       "54132      2.0         5               3.0     20         1       1   \n",
       "14924      3.0         8               4.3     23         4       1   \n",
       "\n",
       "       CIUDADRESIDENCIA  CIUDADNACIMIENTO  target  \n",
       "10877               102               179       1  \n",
       "54132                23                47       1  \n",
       "14924                23                47       1  "
      ]
     },
     "execution_count": 21,
     "metadata": {},
     "output_type": "execute_result"
    }
   ],
   "source": [
    "df=demograficos_df_uniq\n",
    "df=get_df(df, target_var, numeric_vars, category_vars)\n",
    "df.sample(3)"
   ]
  },
  {
   "cell_type": "markdown",
   "metadata": {
    "id": "lpqpw2unSd5_"
   },
   "source": [
    "* ***Identificacion valores nulos en las variables de entrada:***"
   ]
  },
  {
   "cell_type": "code",
   "execution_count": 22,
   "metadata": {
    "colab": {
     "base_uri": "https://localhost:8080/",
     "height": 386
    },
    "id": "e4KWrQ_GQpQ7",
    "outputId": "47aa8d50-4953-49fd-8410-3bae8da148c3"
   },
   "outputs": [
    {
     "data": {
      "text/plain": [
       "target              0.000000\n",
       "ESTRATO             0.000599\n",
       "SEMESTRE            0.000000\n",
       "PROMEDIOSEMESTRE    0.000000\n",
       "EDAD2               0.000000\n",
       "PROGRAMA            0.000000\n",
       "GENERO              0.000000\n",
       "CIUDADRESIDENCIA    0.000000\n",
       "CIUDADNACIMIENTO    0.000000\n",
       "dtype: float64"
      ]
     },
     "execution_count": 22,
     "metadata": {},
     "output_type": "execute_result"
    }
   ],
   "source": [
    "df[[target_var]+features].isnull().sum() / df.shape[0]"
   ]
  },
  {
   "cell_type": "markdown",
   "metadata": {
    "id": "7k_AtswyU2Cm"
   },
   "source": [
    "Se observa que solo 1 columna del dataset tiene valores nulos, sin embargo representan un porcentaje minimo, por lo anterior decidimos conservar todas las variables de entrada."
   ]
  },
  {
   "cell_type": "code",
   "execution_count": 23,
   "metadata": {
    "colab": {
     "base_uri": "https://localhost:8080/"
    },
    "id": "gPUSOC-SRF5I",
    "outputId": "27798147-10c2-448e-a14e-e6e2c79c50f4"
   },
   "outputs": [
    {
     "data": {
      "text/plain": [
       "1462"
      ]
     },
     "execution_count": 23,
     "metadata": {},
     "output_type": "execute_result"
    }
   ],
   "source": [
    "duplicated_rows = df.loc[df.duplicated(subset=features, keep=False)].shape[0]\n",
    "duplicated_rows"
   ]
  },
  {
   "cell_type": "code",
   "execution_count": 24,
   "metadata": {
    "colab": {
     "base_uri": "https://localhost:8080/"
    },
    "id": "cNu07LUbRN1x",
    "outputId": "bfd821ac-10d7-420a-cb6e-9226b7ed0cd8"
   },
   "outputs": [
    {
     "name": "stdout",
     "output_type": "stream",
     "text": [
      "Duplicates: 2.7577%\n"
     ]
    }
   ],
   "source": [
    "print(f\"Duplicates: {(duplicated_rows/total_rows)*100:.4f}%\")"
   ]
  },
  {
   "cell_type": "code",
   "execution_count": 25,
   "metadata": {
    "colab": {
     "base_uri": "https://localhost:8080/"
    },
    "id": "WzALOOhDRcPT",
    "outputId": "4d7e1fcd-e5b5-4066-9110-b2da68f5dfc5"
   },
   "outputs": [
    {
     "data": {
      "text/plain": [
       "1385"
      ]
     },
     "execution_count": 25,
     "metadata": {},
     "output_type": "execute_result"
    }
   ],
   "source": [
    "duplicated_rows = df.loc[df.duplicated(subset=features+[\"target\"], keep=False)].shape[0]\n",
    "duplicated_rows"
   ]
  },
  {
   "cell_type": "code",
   "execution_count": 26,
   "metadata": {
    "colab": {
     "base_uri": "https://localhost:8080/"
    },
    "id": "9DMPgKVQT7Au",
    "outputId": "d7b89b2b-f94e-4c08-dbd2-3ca5b6659e36"
   },
   "outputs": [
    {
     "name": "stdout",
     "output_type": "stream",
     "text": [
      "Duplicates: 2.6124%\n"
     ]
    }
   ],
   "source": [
    "print(f\"Duplicates: {(duplicated_rows/total_rows)*100:.4f}%\")"
   ]
  },
  {
   "cell_type": "markdown",
   "metadata": {
    "id": "RsYDiwxrTye7"
   },
   "source": [
    "\n",
    "\n",
    "Existe un ~2.75% de registros con variables de entrada duplicadas, incluso con variable objetivo diferente. Al incluir la variable objetivo dentro del análisis de duplicados, se obtiene el ~2.61% registros duplicados adicionales. Para un porcentaje total de 5,36%, se decide eliminar los datos duplicados con el fin de no afectar en la funcion de estimacion.\n"
   ]
  },
  {
   "cell_type": "code",
   "execution_count": 27,
   "metadata": {
    "id": "hBTIRDc6Ufd3"
   },
   "outputs": [],
   "source": [
    "df.drop_duplicates(subset=features, inplace=True)\n",
    "df.drop_duplicates(subset=features+[\"target\"], inplace=True)"
   ]
  },
  {
   "cell_type": "code",
   "execution_count": 28,
   "metadata": {
    "colab": {
     "base_uri": "https://localhost:8080/"
    },
    "id": "uEhEtiypUooQ",
    "outputId": "c6a92da6-1e2d-4ed1-d05b-f5161c6e82ae"
   },
   "outputs": [
    {
     "data": {
      "text/plain": [
       "(9096, 9)"
      ]
     },
     "execution_count": 28,
     "metadata": {},
     "output_type": "execute_result"
    }
   ],
   "source": [
    "df.shape"
   ]
  },
  {
   "cell_type": "code",
   "execution_count": 30,
   "metadata": {},
   "outputs": [],
   "source": [
    "df.to_csv('./data/clean.csv', index=False)"
   ]
  }
 ],
 "metadata": {
  "colab": {
   "provenance": []
  },
  "kernelspec": {
   "display_name": "Python 3",
   "name": "python3"
  },
  "language_info": {
   "codemirror_mode": {
    "name": "ipython",
    "version": 3
   },
   "file_extension": ".py",
   "mimetype": "text/x-python",
   "name": "python",
   "nbconvert_exporter": "python",
   "pygments_lexer": "ipython3",
   "version": "3.11.7"
  }
 },
 "nbformat": 4,
 "nbformat_minor": 0
}
