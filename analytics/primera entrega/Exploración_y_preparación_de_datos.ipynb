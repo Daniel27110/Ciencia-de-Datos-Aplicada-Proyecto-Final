{
  "nbformat": 4,
  "nbformat_minor": 0,
  "metadata": {
    "colab": {
      "provenance": [],
      "toc_visible": true
    },
    "kernelspec": {
      "name": "python3",
      "display_name": "Python 3"
    },
    "language_info": {
      "name": "python"
    }
  },
  "cells": [
    {
      "cell_type": "markdown",
      "source": [
        "# **1. Preparación**"
      ],
      "metadata": {
        "id": "K9yHTTxGCdsi"
      }
    },
    {
      "cell_type": "code",
      "execution_count": null,
      "metadata": {
        "id": "CrbxiE0MpMoz"
      },
      "outputs": [],
      "source": [
        "# Importar librerias\n",
        "import pandas as pd\n",
        "import seaborn as sns\n",
        "import matplotlib.pyplot as plt\n",
        "from scipy import stats\n",
        "import numpy as np\n",
        "\n",
        "from sklearn.preprocessing import StandardScaler\n",
        "from sklearn.model_selection import train_test_split\n",
        "from sklearn.linear_model import LogisticRegression\n",
        "from sklearn.metrics import accuracy_score, classification_report\n"
      ]
    },
    {
      "cell_type": "code",
      "source": [
        "# Cargar los archivos .xlsx\n",
        "path_demograficos = 'data/Demograficos.xlsx'\n",
        "path_historico = 'data/HistoricoNotas.xlsx'\n",
        "\n",
        "\n",
        "# Leer los archivos en dataframes\n",
        "df_demograficos = pd.read_excel(path_demograficos)\n",
        "df_historico = pd.read_excel(path_historico)"
      ],
      "metadata": {
        "id": "9jBogkVLCm_b"
      },
      "execution_count": null,
      "outputs": []
    },
    {
      "cell_type": "markdown",
      "source": [
        "# **2. Entendimiento de los conjuntos de datos**"
      ],
      "metadata": {
        "id": "SRBxgdFzCteA"
      }
    },
    {
      "cell_type": "code",
      "source": [
        "# Mostrar las primeras filas de cada dataframe para revisar los datos\n",
        "print(\"Primeras filas de Demograficos:\")\n",
        "print(df_demograficos.head())"
      ],
      "metadata": {
        "colab": {
          "base_uri": "https://localhost:8080/"
        },
        "id": "vZ7JofgLC4Na",
        "outputId": "bb35fbfe-b68e-43c1-8b8e-036a479aaacf"
      },
      "execution_count": null,
      "outputs": [
        {
          "output_type": "stream",
          "name": "stdout",
          "text": [
            "Primeras filas de Demograficos:\n",
            "  PERIODO_ACAENICO       CODIGO                        UNIDAD  CODIGOPROGRAMA  \\\n",
            "0         2017 - 2  53212132001  ESCUELA NACIONAL DEL DEPORTE           53212   \n",
            "1         2017 - 2   7306132001  ESCUELA NACIONAL DEL DEPORTE            7306   \n",
            "2         2017 - 2   7306131002  ESCUELA NACIONAL DEL DEPORTE            7306   \n",
            "3         2017 - 2  53212162577  ESCUELA NACIONAL DEL DEPORTE           53212   \n",
            "4         2017 - 2  53212171151  ESCUELA NACIONAL DEL DEPORTE           53212   \n",
            "\n",
            "       PROGRAMA  SEMESTRE  PROMEDIOSEMESTRE     GENERO FECHANACIMIENTO  \\\n",
            "0       DEPORTE         8               4.4  Masculino      02-04-1996   \n",
            "1  FISIOTERAPIA         8               3.3   Femenino      01-08-1990   \n",
            "2  FISIOTERAPIA        10               4.5   Femenino      14-08-1994   \n",
            "3       DEPORTE         3               3.4  Masculino      15-07-1997   \n",
            "4       DEPORTE         2               3.6  Masculino      24-03-1999   \n",
            "\n",
            "   ESTRATO  ... IDDEPARTAMENTONACIMIENTO DEPARTAMENTONACIMIENTO SISBEN  \\\n",
            "0      3.0  ...                     76.0        VALLE DEL CAUCA    0.0   \n",
            "1      2.0  ...                     76.0        VALLE DEL CAUCA    0.0   \n",
            "2      2.0  ...                     76.0        VALLE DEL CAUCA    0.0   \n",
            "3      3.0  ...                     76.0        VALLE DEL CAUCA    0.0   \n",
            "4      3.0  ...                     76.0        VALLE DEL CAUCA    0.0   \n",
            "\n",
            "   NIVELSISBEN CANTIDAD  PERIODO EDAD2                     EDAD      FACULTAD  \\\n",
            "0          NaN        1  2017-II    21  Edad entre 18 y 25 años  Fac. Deporte   \n",
            "1          NaN        1  2017-II    27  Edad entre 26 y 33 años    Fac. Salud   \n",
            "2          NaN        1  2017-II    23  Edad entre 18 y 25 años    Fac. Salud   \n",
            "3          NaN        1  2017-II    20  Edad entre 18 y 25 años  Fac. Deporte   \n",
            "4          NaN        1  2017-II    18  Edad entre 18 y 25 años  Fac. Deporte   \n",
            "\n",
            "  NIVEL_FORMACION  \n",
            "0  Universitrario  \n",
            "1  Universitrario  \n",
            "2  Universitrario  \n",
            "3  Universitrario  \n",
            "4  Universitrario  \n",
            "\n",
            "[5 rows x 33 columns]\n"
          ]
        }
      ]
    },
    {
      "cell_type": "code",
      "source": [
        "print(\"\\nPrimeras filas de HistoricoNotas:\")\n",
        "print(df_historico.head())"
      ],
      "metadata": {
        "colab": {
          "base_uri": "https://localhost:8080/"
        },
        "id": "YvrusOnEDPBA",
        "outputId": "ce8c3eeb-6487-4e7f-ad7e-e50faceab5ab"
      },
      "execution_count": null,
      "outputs": [
        {
          "output_type": "stream",
          "name": "stdout",
          "text": [
            "\n",
            "Primeras filas de HistoricoNotas:\n",
            "    CODIGO                                       CURSO    Nota_Definitiva  \\\n",
            "0  9010602  E.C I (NEGOCIACIÓN Y MANEJO DE CONFLICTOS)                  A   \n",
            "1    90106                   ELECTIVA COMPLEMENTARIA I  5.0 - CINCO. CERO   \n",
            "2  9020601    E.C. II (LIDERAZGO Y TOMA DE DECISIONES)                  A   \n",
            "3  9020601    E.C. II (LIDERAZGO Y TOMA DE DECISIONES)                  A   \n",
            "4  9020601    E.C. II (LIDERAZGO Y TOMA DE DECISIONES)                  A   \n",
            "\n",
            "  Aprobado  Creditos Periodo  Semestre Cuenta para Promedio        TIPO  \\\n",
            "0       SI         2  2018-2         1                   NO      NORMAL   \n",
            "1       SI         2  2018-2         1                   NO      NORMAL   \n",
            "2       SI         2  2019-1         2                   NO      NORMAL   \n",
            "3       SI         2  2020-1         2                   NO      NORMAL   \n",
            "4       SI         2  2020-1         2                   NO  VALIDACIÓN   \n",
            "\n",
            "  CODIGOMATRICULA              PENSUM                    PROGRAMA  \n",
            "0     90555141017  ADM 20112 PENSUM A  ADMINISTRACION DE EMPRESAS  \n",
            "1     90555141017  ADM 20112 PENSUM A  ADMINISTRACION DE EMPRESAS  \n",
            "2     90555122002  ADM 20112 PENSUM A  ADMINISTRACION DE EMPRESAS  \n",
            "3     90555151012  ADM 20112 PENSUM A  ADMINISTRACION DE EMPRESAS  \n",
            "4     90555151024  ADM 20112 PENSUM A  ADMINISTRACION DE EMPRESAS  \n"
          ]
        }
      ]
    },
    {
      "cell_type": "code",
      "source": [
        "# Analizar las columnas y tamaños de los datasets\n",
        "print(\"\\nColumnas de Demograficos:\", df_demograficos.columns)\n",
        "print(\"Tamaño de Demograficos:\", df_demograficos.shape)"
      ],
      "metadata": {
        "colab": {
          "base_uri": "https://localhost:8080/"
        },
        "id": "5Oik7v9vH_p8",
        "outputId": "935a7cbf-599c-41b6-80a8-3881a112b65c"
      },
      "execution_count": null,
      "outputs": [
        {
          "output_type": "stream",
          "name": "stdout",
          "text": [
            "\n",
            "Columnas de Demograficos: Index(['PERIODO_ACAENICO', 'CODIGO', 'UNIDAD', 'CODIGOPROGRAMA', 'PROGRAMA',\n",
            "       'SEMESTRE', 'PROMEDIOSEMESTRE', 'GENERO', 'FECHANACIMIENTO', 'ESTRATO',\n",
            "       'CIUDADRESIDENCIA', 'DEPARTAMENTORESICEDENCIA', 'ESTADOCIVIL',\n",
            "       'PROMEDIOGENERAL', 'SITUACION_ACTUAL', 'CATEGORIA_ACTUAL',\n",
            "       'SITUACION_DEL_PERIODO', 'CATEGORIA_DEL_PERIODO', 'DISCAPACIDAD',\n",
            "       'TIPO_DISCAPACIDAD', 'FECHA_MATRICULA', 'IDCIUDADNACIMIENTO',\n",
            "       'CIUDADNACIMIENTO', 'IDDEPARTAMENTONACIMIENTO',\n",
            "       'DEPARTAMENTONACIMIENTO', 'SISBEN', 'NIVELSISBEN', 'CANTIDAD',\n",
            "       'PERIODO', 'EDAD2', 'EDAD', 'FACULTAD', 'NIVEL_FORMACION'],\n",
            "      dtype='object')\n",
            "Tamaño de Demograficos: (55419, 33)\n"
          ]
        }
      ]
    },
    {
      "cell_type": "code",
      "source": [
        "print(\"\\nColumnas de HistoricoNotas:\", df_historico.columns)\n",
        "print(\"Tamaño de HistoricoNotas:\", df_historico.shape)"
      ],
      "metadata": {
        "colab": {
          "base_uri": "https://localhost:8080/"
        },
        "id": "VisgENo8IEu7",
        "outputId": "88b53099-394e-4b36-d2a5-e88f75201206"
      },
      "execution_count": null,
      "outputs": [
        {
          "output_type": "stream",
          "name": "stdout",
          "text": [
            "\n",
            "Columnas de HistoricoNotas: Index(['CODIGO', 'CURSO', 'Nota_Definitiva', 'Aprobado', 'Creditos', 'Periodo',\n",
            "       'Semestre', 'Cuenta para Promedio', 'TIPO', 'CODIGOMATRICULA', 'PENSUM',\n",
            "       'PROGRAMA'],\n",
            "      dtype='object')\n",
            "Tamaño de HistoricoNotas: (418031, 12)\n"
          ]
        }
      ]
    },
    {
      "cell_type": "code",
      "source": [
        "# Identificar columnas en común para realizar el join\n",
        "columnas_comunes = df_demograficos.columns.intersection(df_historico.columns)\n",
        "print(\"\\nColumnas comunes entre los dos datasets:\", columnas_comunes)"
      ],
      "metadata": {
        "colab": {
          "base_uri": "https://localhost:8080/"
        },
        "id": "jMsUXy_zIGku",
        "outputId": "e89ac80b-cea2-4c94-a960-64951fea0666"
      },
      "execution_count": null,
      "outputs": [
        {
          "output_type": "stream",
          "name": "stdout",
          "text": [
            "\n",
            "Columnas comunes entre los dos datasets: Index(['CODIGO', 'PROGRAMA'], dtype='object')\n"
          ]
        }
      ]
    },
    {
      "cell_type": "markdown",
      "source": [
        "Podemos realizar un análisis inicial para verificar qué porcentaje de los estudiantes presentes en el conjunto de datos de Demograficos también se encuentran en el conjunto de HistoricoNotas, utilizando la columna común CODIGO"
      ],
      "metadata": {
        "id": "5JjKiDzsIlfx"
      }
    },
    {
      "cell_type": "code",
      "source": [
        "# Calcular que pocentaje de los estudiantes estan tanto en Demograficos como HistoricoNotas de acuerdo a su codigo\n",
        "\n",
        "codigos_demograficos = set(df_demograficos['CODIGO'])\n",
        "codigos_historico = set(df_historico['CODIGO'])\n",
        "\n",
        "codigos_comunes = codigos_demograficos.intersection(codigos_historico)\n",
        "\n",
        "porcentaje_comunes = (len(codigos_comunes) / len(codigos_demograficos)) * 100\n",
        "\n",
        "print(f\"El porcentaje de estudiantes presentes tanto en Demograficos como en HistoricoNotas es: {porcentaje_comunes:.2f}%\")\n"
      ],
      "metadata": {
        "colab": {
          "base_uri": "https://localhost:8080/"
        },
        "id": "jTOsbeO7Im1G",
        "outputId": "bb01ab6a-293f-4795-e060-5a8aeb5bd57f"
      },
      "execution_count": null,
      "outputs": [
        {
          "output_type": "stream",
          "name": "stdout",
          "text": [
            "El porcentaje de estudiantes presentes tanto en Demograficos como en HistoricoNotas es: 0.00%\n"
          ]
        }
      ]
    },
    {
      "cell_type": "markdown",
      "source": [
        "El análisis inicial muestra que el porcentaje de estudiantes presentes tanto en el dataset de Demograficos como en el de HistoricoNotas es 0.00%. Esto sugiere que el dataframe de HistoricoNotas no incluye el ID del estudiante (CODIGO) en los resultados de notas, lo cual complica significativamente el análisis. Sin esta información, no es posible vincular el historial académico de los estudiantes con sus datos demográficos, lo que habría sido fundamental para analizar la progresión de sus notas a lo largo del tiempo. Este tipo de análisis habría permitido identificar posibles patrones de riesgo de deserción académica, observando si un estudiante muestra un descenso continuo en su rendimiento.\n",
        "\n"
      ],
      "metadata": {
        "id": "by6zke3eMi89"
      }
    },
    {
      "cell_type": "markdown",
      "source": [
        "Para visualizar cómo los CODIGOS de ambos datasets pertenecen a rangos completamente diferentes, podemos graficar la distribución de los CODIGOS (excluyendo aquellos que contienen caracteres no numéricos, como letras) para resaltar las discrepancias."
      ],
      "metadata": {
        "id": "KlaB6gGdMljY"
      }
    },
    {
      "cell_type": "code",
      "source": [
        "# Filtrar los CODIGOS que solo son numéricos para ambos dataframes\n",
        "df_demograficos_filtrado = df_demograficos[df_demograficos['CODIGO'].apply(lambda x: str(x).isdigit())]\n",
        "df_historico_filtrado = df_historico[df_historico['CODIGO'].apply(lambda x: str(x).isdigit())]\n",
        "\n",
        "# Convertir a numérico para facilidad de manejo\n",
        "df_demograficos_filtrado['CODIGO'] = df_demograficos_filtrado['CODIGO'].astype(int)\n",
        "df_historico_filtrado['CODIGO'] = df_historico_filtrado['CODIGO'].astype(int)\n",
        "\n",
        "# Crear un nuevo DataFrame que combine los datos para el boxplot\n",
        "df_combined = pd.DataFrame({\n",
        "    'CODIGO': pd.concat([df_demograficos_filtrado['CODIGO'], df_historico_filtrado['CODIGO']]),\n",
        "    'Fuente': ['Demograficos'] * len(df_demograficos_filtrado) + ['HistoricoNotas'] * len(df_historico_filtrado)\n",
        "})\n",
        "\n",
        "# Crear el diagrama de cajas\n",
        "plt.figure(figsize=(10, 6))\n",
        "sns.boxplot(x='Fuente', y='CODIGO', data=df_combined, palette='Set2')\n",
        "\n",
        "# Personalizar el gráfico\n",
        "plt.title('Diagrama de Cajas de CODIGOS en Demograficos vs HistoricoNotas', fontsize=14)\n",
        "plt.xlabel('Fuente', fontsize=12)\n",
        "plt.ylabel('CODIGO', fontsize=12)\n",
        "plt.yscale('log')  # Usar escala logarítmica en el eje Y\n",
        "plt.grid(True, which=\"both\", ls=\"--\")\n",
        "\n",
        "# Mostrar el gráfico\n",
        "plt.tight_layout()\n",
        "plt.show()"
      ],
      "metadata": {
        "colab": {
          "base_uri": "https://localhost:8080/",
          "height": 1000
        },
        "id": "YTg8nkVOMnlJ",
        "outputId": "91f34492-ce18-4055-db18-f5fb6b3fc0ff"
      },
      "execution_count": null,
      "outputs": [
        {
          "output_type": "stream",
          "name": "stderr",
          "text": [
            "<ipython-input-99-b287d1f0894f>:6: SettingWithCopyWarning: \n",
            "A value is trying to be set on a copy of a slice from a DataFrame.\n",
            "Try using .loc[row_indexer,col_indexer] = value instead\n",
            "\n",
            "See the caveats in the documentation: https://pandas.pydata.org/pandas-docs/stable/user_guide/indexing.html#returning-a-view-versus-a-copy\n",
            "  df_demograficos_filtrado['CODIGO'] = df_demograficos_filtrado['CODIGO'].astype(int)\n",
            "<ipython-input-99-b287d1f0894f>:7: SettingWithCopyWarning: \n",
            "A value is trying to be set on a copy of a slice from a DataFrame.\n",
            "Try using .loc[row_indexer,col_indexer] = value instead\n",
            "\n",
            "See the caveats in the documentation: https://pandas.pydata.org/pandas-docs/stable/user_guide/indexing.html#returning-a-view-versus-a-copy\n",
            "  df_historico_filtrado['CODIGO'] = df_historico_filtrado['CODIGO'].astype(int)\n",
            "<ipython-input-99-b287d1f0894f>:17: FutureWarning: \n",
            "\n",
            "Passing `palette` without assigning `hue` is deprecated and will be removed in v0.14.0. Assign the `x` variable to `hue` and set `legend=False` for the same effect.\n",
            "\n",
            "  sns.boxplot(x='Fuente', y='CODIGO', data=df_combined, palette='Set2')\n",
            "/usr/local/lib/python3.10/dist-packages/seaborn/_base.py:949: FutureWarning: When grouping with a length-1 list-like, you will need to pass a length-1 tuple to get_group in a future version of pandas. Pass `(name,)` instead of `name` to silence this warning.\n",
            "  data_subset = grouped_data.get_group(pd_key)\n",
            "/usr/local/lib/python3.10/dist-packages/seaborn/categorical.py:640: FutureWarning: SeriesGroupBy.grouper is deprecated and will be removed in a future version of pandas.\n",
            "  positions = grouped.grouper.result_index.to_numpy(dtype=float)\n",
            "/usr/local/lib/python3.10/dist-packages/seaborn/_base.py:949: FutureWarning: When grouping with a length-1 list-like, you will need to pass a length-1 tuple to get_group in a future version of pandas. Pass `(name,)` instead of `name` to silence this warning.\n",
            "  data_subset = grouped_data.get_group(pd_key)\n",
            "/usr/local/lib/python3.10/dist-packages/seaborn/categorical.py:640: FutureWarning: SeriesGroupBy.grouper is deprecated and will be removed in a future version of pandas.\n",
            "  positions = grouped.grouper.result_index.to_numpy(dtype=float)\n"
          ]
        },
        {
          "output_type": "display_data",
          "data": {
            "text/plain": [
              "<Figure size 1000x600 with 1 Axes>"
            ],
            "image/png": "[encoded data removed]"
          },
          "metadata": {}
        }
      ]
    },
    {
      "cell_type": "markdown",
      "source": [
        "En el análisis de los datos, se prestará especial atención al dataframe de Demográficos, ya que contiene información esencial del estudiante, como el programa académico, el promedio, la situación académica, la situación social y el lugar de residencia. Esta información es fundamental para desarrollar un modelo de predicción que identifique a los estudiantes con mayor riesgo de deserción.\n",
        "\n",
        "Aunque hubiera sido valioso contar con el historial de notas de cada estudiante, ya que un descenso constante en el promedio podría ser una fuerte señal de alerta para identificar un estudiante cerca a desertar, aún existe la posibilidad de integrar estos datos en el futuro. Si se obtiene información sobre cómo relacionar el código del estudiante con el código de matrícula de cada curso, se podría acceder al historial de notas, lo que enriquecería aún más el análisis y las predicciones."
      ],
      "metadata": {
        "id": "jO94a5_9P6L-"
      }
    },
    {
      "cell_type": "markdown",
      "source": [
        "# **3. Exploración Dataset Demografico**"
      ],
      "metadata": {
        "id": "OUciIISAQXzP"
      }
    },
    {
      "cell_type": "markdown",
      "source": [
        "## **3.1. Análisis de Calidad de Datos**"
      ],
      "metadata": {
        "id": "jabFttFWQi4-"
      }
    },
    {
      "cell_type": "markdown",
      "source": [
        "### **3.1.1. Completitud**"
      ],
      "metadata": {
        "id": "tTXScKgHSe57"
      }
    },
    {
      "cell_type": "markdown",
      "source": [
        "La completitud se refiere a la proporción de valores faltantes en cada columna del dataframe. Se calculará el porcentaje de valores faltantes en cada columna y se sugerirán estrategias de imputación."
      ],
      "metadata": {
        "id": "grKdZKDYSnSv"
      }
    },
    {
      "cell_type": "code",
      "source": [
        "# Completitud\n",
        "missing_data = df_demograficos.isnull().mean() * 100\n",
        "missing_data_summary = missing_data[missing_data >= 0].sort_values(ascending=False)\n",
        "\n",
        "# Formatea los valores como un porcentaje\n",
        "missing_data_summary = missing_data_summary.apply(lambda x: f'{x:.2f}%')\n",
        "\n",
        "# Imprimir resumen de valores faltantes\n",
        "print(\"Porcentaje de valores faltantes en cada columna:\")\n",
        "print(missing_data_summary)\n"
      ],
      "metadata": {
        "colab": {
          "base_uri": "https://localhost:8080/"
        },
        "id": "jmznvQCxSmLU",
        "outputId": "222eda0a-be68-4973-eb24-5440a3317c25"
      },
      "execution_count": null,
      "outputs": [
        {
          "output_type": "stream",
          "name": "stdout",
          "text": [
            "Porcentaje de valores faltantes en cada columna:\n",
            "NIVELSISBEN                 76.97%\n",
            "CIUDADRESIDENCIA             1.68%\n",
            "DEPARTAMENTORESICEDENCIA     1.68%\n",
            "IDCIUDADNACIMIENTO           0.49%\n",
            "CIUDADNACIMIENTO             0.49%\n",
            "IDDEPARTAMENTONACIMIENTO     0.49%\n",
            "DEPARTAMENTONACIMIENTO       0.49%\n",
            "ESTADOCIVIL                  0.19%\n",
            "SISBEN                       0.07%\n",
            "ESTRATO                      0.03%\n",
            "DISCAPACIDAD                 0.01%\n",
            "FECHANACIMIENTO              0.00%\n",
            "TIPO_DISCAPACIDAD            0.00%\n",
            "FECHA_MATRICULA              0.00%\n",
            "CANTIDAD                     0.00%\n",
            "PERIODO                      0.00%\n",
            "EDAD2                        0.00%\n",
            "EDAD                         0.00%\n",
            "FACULTAD                     0.00%\n",
            "PERIODO_ACAENICO             0.00%\n",
            "SITUACION_DEL_PERIODO        0.00%\n",
            "CATEGORIA_DEL_PERIODO        0.00%\n",
            "CODIGO                       0.00%\n",
            "CATEGORIA_ACTUAL             0.00%\n",
            "SITUACION_ACTUAL             0.00%\n",
            "PROMEDIOGENERAL              0.00%\n",
            "GENERO                       0.00%\n",
            "PROMEDIOSEMESTRE             0.00%\n",
            "SEMESTRE                     0.00%\n",
            "PROGRAMA                     0.00%\n",
            "CODIGOPROGRAMA               0.00%\n",
            "UNIDAD                       0.00%\n",
            "NIVEL_FORMACION              0.00%\n",
            "dtype: object\n"
          ]
        }
      ]
    },
    {
      "cell_type": "markdown",
      "source": [
        "En general, la completitud del dataframe es aceptable para la mayoría de las columnas, ya que se observan porcentajes de valores faltantes relativamente bajos en varias de ellas. Sin embargo, se destaca que la columna NIVELSISBEN tiene un 76.97% de valores faltantes, lo que implica que solo está registrada para un cuarto de los estudiantes. Dada esta alta tasa de ausencia, sería prudente no incluir esta columna en el análisis, ya que podría sesgar los resultados."
      ],
      "metadata": {
        "id": "EB2X8NGaTI6D"
      }
    },
    {
      "cell_type": "markdown",
      "source": [
        "Para las demás columnas, donde los porcentajes de valores faltantes son relativamente bajos, se sugieren las siguientes estrategias de imputación:\n",
        "\n",
        "  * Columnas numéricas (ej. ESTRATO,): Se recomienda la imputación con la media o mediana, dependiendo de la distribución de los datos. La media es adecuada si los datos no tienen outliers, mientras que la mediana es preferible si los datos son sesgados.\n",
        "\n",
        "  * Columnas categóricas (ej. ESTADOCIVIL, DISCAPACIDAD): Se sugiere imputar con la moda, que representa el valor más común en la columna.\n",
        "\n",
        "  * Fechas (ej. FECHANACIMIENTO): Se podrían imputar con una fecha promedio o con la fecha más común, pero en muchos casos, puede ser mejor dejarlas como están."
      ],
      "metadata": {
        "id": "NDF_HSTEUGcK"
      }
    },
    {
      "cell_type": "code",
      "source": [
        "# Imputar columnas numéricas con la media o mediana\n",
        "numerical_columns = ['ESTRATO']\n",
        "for col in numerical_columns:\n",
        "    if df_demograficos[col].isnull().mean() < 0.5:  # Solo si hay menos del 50% de datos faltantes\n",
        "        mean_value = df_demograficos[col].mean()  # Calcular la media\n",
        "        df_demograficos[col].fillna(mean_value, inplace=True)  # Imputar con la media\n",
        "\n",
        "# Imputar columnas categóricas con la moda\n",
        "categorical_columns = ['ESTADOCIVIL', 'DISCAPACIDAD', 'TIPO_DISCAPACIDAD', 'CIUDADRESIDENCIA', 'DEPARTAMENTORESICEDENCIA']\n",
        "for col in categorical_columns:\n",
        "    if df_demograficos[col].isnull().mean() < 0.05:  # Solo si hay menos del 5% de datos faltantes\n",
        "        mode_value = df_demograficos[col].mode()[0]  # Calcular la moda\n",
        "        df_demograficos[col].fillna(mode_value, inplace=True)  # Imputar con la moda\n",
        "\n",
        "# Mostrar el porcentaje de valores faltantes después de la imputación\n",
        "missing_data_after_imputation = df_demograficos.isnull().mean() * 100\n",
        "\n",
        "# Formatear el porcentaje\n",
        "missing_data_after_imputation = missing_data_after_imputation.apply(lambda x: f'{x:.2f}%')\n",
        "\n",
        "print(\"\\nPorcentaje de valores faltantes después de la imputación:\")\n",
        "print(missing_data_after_imputation)\n"
      ],
      "metadata": {
        "colab": {
          "base_uri": "https://localhost:8080/"
        },
        "id": "RIm2T_DVUGQN",
        "outputId": "27090084-74e8-4a1b-8b88-c15507fb0da9"
      },
      "execution_count": null,
      "outputs": [
        {
          "output_type": "stream",
          "name": "stdout",
          "text": [
            "\n",
            "Porcentaje de valores faltantes después de la imputación:\n",
            "PERIODO_ACAENICO             0.00%\n",
            "CODIGO                       0.00%\n",
            "UNIDAD                       0.00%\n",
            "CODIGOPROGRAMA               0.00%\n",
            "PROGRAMA                     0.00%\n",
            "SEMESTRE                     0.00%\n",
            "PROMEDIOSEMESTRE             0.00%\n",
            "GENERO                       0.00%\n",
            "FECHANACIMIENTO              0.00%\n",
            "ESTRATO                      0.00%\n",
            "CIUDADRESIDENCIA             0.00%\n",
            "DEPARTAMENTORESICEDENCIA     0.00%\n",
            "ESTADOCIVIL                  0.00%\n",
            "PROMEDIOGENERAL              0.00%\n",
            "SITUACION_ACTUAL             0.00%\n",
            "CATEGORIA_ACTUAL             0.00%\n",
            "SITUACION_DEL_PERIODO        0.00%\n",
            "CATEGORIA_DEL_PERIODO        0.00%\n",
            "DISCAPACIDAD                 0.00%\n",
            "TIPO_DISCAPACIDAD            0.00%\n",
            "FECHA_MATRICULA              0.00%\n",
            "IDCIUDADNACIMIENTO           0.49%\n",
            "CIUDADNACIMIENTO             0.49%\n",
            "IDDEPARTAMENTONACIMIENTO     0.49%\n",
            "DEPARTAMENTONACIMIENTO       0.49%\n",
            "SISBEN                       0.07%\n",
            "NIVELSISBEN                 76.97%\n",
            "CANTIDAD                     0.00%\n",
            "PERIODO                      0.00%\n",
            "EDAD2                        0.00%\n",
            "EDAD                         0.00%\n",
            "FACULTAD                     0.00%\n",
            "NIVEL_FORMACION              0.00%\n",
            "dtype: object\n"
          ]
        },
        {
          "output_type": "stream",
          "name": "stderr",
          "text": [
            "<ipython-input-101-9236bd01c43f>:6: FutureWarning: A value is trying to be set on a copy of a DataFrame or Series through chained assignment using an inplace method.\n",
            "The behavior will change in pandas 3.0. This inplace method will never work because the intermediate object on which we are setting values always behaves as a copy.\n",
            "\n",
            "For example, when doing 'df[col].method(value, inplace=True)', try using 'df.method({col: value}, inplace=True)' or df[col] = df[col].method(value) instead, to perform the operation inplace on the original object.\n",
            "\n",
            "\n",
            "  df_demograficos[col].fillna(mean_value, inplace=True)  # Imputar con la media\n",
            "<ipython-input-101-9236bd01c43f>:13: FutureWarning: A value is trying to be set on a copy of a DataFrame or Series through chained assignment using an inplace method.\n",
            "The behavior will change in pandas 3.0. This inplace method will never work because the intermediate object on which we are setting values always behaves as a copy.\n",
            "\n",
            "For example, when doing 'df[col].method(value, inplace=True)', try using 'df.method({col: value}, inplace=True)' or df[col] = df[col].method(value) instead, to perform the operation inplace on the original object.\n",
            "\n",
            "\n",
            "  df_demograficos[col].fillna(mode_value, inplace=True)  # Imputar con la moda\n"
          ]
        }
      ]
    },
    {
      "cell_type": "markdown",
      "source": [
        "### **3.1.2. Precisión**"
      ],
      "metadata": {
        "id": "5pPRqRqZVwac"
      }
    },
    {
      "cell_type": "markdown",
      "source": [
        "La precisión se refiere a la exactitud y especificidad de los datos. En este caso, compararemos la columna edad, que contiene rangos, con la columna edad2, que tiene valores numéricos claros."
      ],
      "metadata": {
        "id": "u9ok8iD5Vxmh"
      }
    },
    {
      "cell_type": "code",
      "source": [
        "# Muestra los valores que toman las columanas  EDAD y EDAD 2\n",
        "\n",
        "print(\"Valores únicos de la columna EDAD:\")\n",
        "print(df_demograficos['EDAD'].unique())\n",
        "\n",
        "print(\"\\nValores únicos de la columna EDAD2:\")\n",
        "print(df_demograficos['EDAD2'].unique())\n"
      ],
      "metadata": {
        "colab": {
          "base_uri": "https://localhost:8080/"
        },
        "id": "7BEAEE0xVuMa",
        "outputId": "5fcf72ad-9b7b-4627-f752-a5754f01c405"
      },
      "execution_count": null,
      "outputs": [
        {
          "output_type": "stream",
          "name": "stdout",
          "text": [
            "Valores únicos de la columna EDAD:\n",
            "['Edad entre 18 y 25 años' 'Edad entre 26 y 33 años'\n",
            " 'Edad entre 15 y 17 años' 'Edad mayor a 34 años']\n",
            "\n",
            "Valores únicos de la columna EDAD2:\n",
            "[ 21  27  23  20  18  22  28  19  17  24  30  25  26  36  40  33  48  57\n",
            "  31  39  42  34  29  38  45  41  32  35  55  37  64  44  46  52  49  47\n",
            "  16  53  54  43  50  67  65  58  15  51  56  68  62  69  63  59 119  60\n",
            " 120  66  61]\n"
          ]
        }
      ]
    },
    {
      "cell_type": "markdown",
      "source": [
        "Análisis:\n",
        "\n",
        "  * La columna edad presenta datos como rangos (ej. \"18-25\"), lo que reduce la precisión y la capacidad de análisis.\n",
        "  * La columna edad2 proporciona valores numéricos claros, lo que permite realizar cálculos precisos y análisis más detallados (Tambien podemos ver que hay edades de 120 y 119, lo cual no es muy realista y tendrá que ser tratado al analizar datos anomalos)"
      ],
      "metadata": {
        "id": "DwHuKT9aWCxV"
      }
    },
    {
      "cell_type": "markdown",
      "source": [
        "### **3.1.3. integridad**"
      ],
      "metadata": {
        "id": "S7E96attXth8"
      }
    },
    {
      "cell_type": "markdown",
      "source": [
        "La integridad se refiere a la coherencia y validez de los datos. Se revisará si las columnas contienen tipos de datos apropiados y si las relaciones entre las columnas son consistentes."
      ],
      "metadata": {
        "id": "2KDugdlDXv9w"
      }
    },
    {
      "cell_type": "markdown",
      "source": [
        "* Fechas: Se verificará que las columnas de fechas (si existen) estén en un formato de fecha adecuado.\n",
        "\n",
        "* Promedios: Se comprobará que los promedios estén en un rango lógico (0 a 100, por ejemplo)."
      ],
      "metadata": {
        "id": "rwi_U8r7Xx-p"
      }
    },
    {
      "cell_type": "code",
      "source": [
        "# Verifica que todos los PROMEDIOSEMESTRE y PROMEDIOGENERAL esten en eun rango de promedio entre 0,0 y 5,0 después de ser convertidos a números\n",
        "\n",
        "def is_valid_average(value):\n",
        "  \"\"\"Verifica si un valor de promedio es válido (entre 0.0 y 5.0).\"\"\"\n",
        "  try:\n",
        "    numeric_value = float(value)\n",
        "    return 0.0 <= numeric_value <= 5.0\n",
        "  except (ValueError, TypeError):\n",
        "    return False\n",
        "\n",
        "# Filtra el DataFrame para incluir solo las filas donde PROMEDIOSEMESTRE\n",
        "# y PROMEDIOGENERAL sean números válidos dentro del rango especificado.\n",
        "\n",
        "df_demograficos_filtered = df_demograficos[\n",
        "    df_demograficos['PROMEDIOSEMESTRE'].apply(is_valid_average) &\n",
        "    df_demograficos['PROMEDIOGENERAL'].apply(is_valid_average)\n",
        "]\n",
        "\n",
        "# Imprimir los resultados\n",
        "print(f\"Número de filas con promedios válidos: {len(df_demograficos_filtered)}\")\n",
        "\n",
        "# Si el número de filas con promedios válidos es menor que el número total de filas\n",
        "# en el DataFrame original, entonces hay filas con promedios inválidos.\n",
        "\n",
        "if len(df_demograficos_filtered) < len(df_demograficos):\n",
        "  print(\"Hay filas con promedios inválidos en el DataFrame.\")\n",
        "  # Puedes imprimir las filas con promedios inválidos si es necesario:\n",
        "  # invalid_rows = df_demograficos[\n",
        "  #     ~df_demograficos['PROMEDIOSEMESTRE'].apply(is_valid_average) |\n",
        "  #     ~df_demograficos['PROMEDIOGENERAL'].apply(is_valid_average)\n",
        "  # ]\n",
        "  # print(\"Filas con promedios inválidos:\\n\", invalid_rows)\n",
        "else:\n",
        "  print(\"Todos los promedios son válidos.\")\n"
      ],
      "metadata": {
        "colab": {
          "base_uri": "https://localhost:8080/"
        },
        "id": "7hzJFQdVX1tR",
        "outputId": "c32c9ddd-fb77-47dd-c654-17add40fca8f"
      },
      "execution_count": null,
      "outputs": [
        {
          "output_type": "stream",
          "name": "stdout",
          "text": [
            "Número de filas con promedios válidos: 55419\n",
            "Todos los promedios son válidos.\n"
          ]
        }
      ]
    },
    {
      "cell_type": "markdown",
      "source": [
        "### **3.1.4. Consistencia**"
      ],
      "metadata": {
        "id": "Ci3G3yjibr5U"
      }
    },
    {
      "cell_type": "markdown",
      "source": [
        "La consistencia se refiere a la uniformidad de los datos en todo el dataframe. Se verificará si hay datos contradictorios o inconsistentes, como un estudiante que tiene una edad en el rango \"18-25\" y una edad2 de 30."
      ],
      "metadata": {
        "id": "drSQfuuYbuiM"
      }
    },
    {
      "cell_type": "code",
      "source": [
        "# Verifica que la EDAD2 en efecto este en los rangos reportaods por la columna edad que son ['Edad entre 18 y 25 años' 'Edad entre 26 y 33 años'\n",
        "#  'Edad entre 15 y 17 años' 'Edad mayor a 34 años']\n",
        "\n",
        "import numpy as np\n",
        "\n",
        "def check_age_consistency(row):\n",
        "  \"\"\"Verifica la consistencia entre EDAD y EDAD2.\"\"\"\n",
        "  edad = row['EDAD']\n",
        "  edad2 = row['EDAD2']\n",
        "\n",
        "  if edad == 'Edad entre 18 y 25 años':\n",
        "    return 18 <= edad2 <= 25\n",
        "  elif edad == 'Edad entre 26 y 33 años':\n",
        "    return 26 <= edad2 <= 33\n",
        "  elif edad == 'Edad entre 15 y 17 años':\n",
        "    return 15 <= edad2 <= 17\n",
        "  elif edad == 'Edad mayor a 34 años':\n",
        "    return edad2 >= 34\n",
        "  else:\n",
        "    return True  # Si EDAD no es uno de los rangos definidos, se considera consistente\n",
        "\n",
        "\n",
        "# Aplica la función a cada fila del DataFrame\n",
        "df_demograficos['Edad Consistente'] = df_demograficos.apply(check_age_consistency, axis=1)\n",
        "\n",
        "\n",
        "# Cuenta el número de filas donde EDAD y EDAD2 son consistentes\n",
        "num_consistent_rows = df_demograficos['Edad Consistente'].sum()\n",
        "total_rows = len(df_demograficos)\n",
        "\n",
        "# Calcula el porcentaje de filas inconsistentes\n",
        "percentage_inconsistent = (1 - (num_consistent_rows / total_rows)) * 100\n",
        "\n",
        "# Imprime el porcentaje de filas inconsistentes\n",
        "print(f\"Porcentaje de filas con inconsistencia entre EDAD y EDAD2: {percentage_inconsistent:.2f}%\")\n",
        "\n",
        "\n",
        "# Puedes imprimir las filas inconsistentes para analizarlas más a fondo:\n",
        "inconsistent_rows = df_demograficos[~df_demograficos['Edad Consistente']]\n",
        "print(\"\\nFilas con inconsistencia entre EDAD y EDAD2:\")\n",
        "print(inconsistent_rows[['EDAD', 'EDAD2']])\n"
      ],
      "metadata": {
        "colab": {
          "base_uri": "https://localhost:8080/"
        },
        "id": "wDRaLPXJcx0x",
        "outputId": "28b897d9-40db-4524-af32-4bd1fd2b0238"
      },
      "execution_count": null,
      "outputs": [
        {
          "output_type": "stream",
          "name": "stdout",
          "text": [
            "Porcentaje de filas con inconsistencia entre EDAD y EDAD2: 0.00%\n",
            "\n",
            "Filas con inconsistencia entre EDAD y EDAD2:\n",
            "Empty DataFrame\n",
            "Columns: [EDAD, EDAD2]\n",
            "Index: []\n"
          ]
        }
      ]
    },
    {
      "cell_type": "code",
      "source": [
        "# Verifica la consistencia entre las filas EDAD y FECHANACIMIENTO, revisando que la edad sea 2024 menos el año de nacimiento, excluyendo las fechas nan\n",
        "\n",
        "import pandas as pd\n",
        "import numpy as np\n",
        "\n",
        "# Asegúrate de que la columna FECHANACIMIENTO sea de tipo datetime\n",
        "df_demograficos['FECHANACIMIENTO'] = pd.to_datetime(df_demograficos['FECHANACIMIENTO'], errors='coerce')\n",
        "\n",
        "# Filtra las filas que tengan valores válidos en ambas columnas\n",
        "df_consistencia = df_demograficos.dropna(subset=['FECHANACIMIENTO', 'EDAD2'])\n",
        "\n",
        "# Calcula la edad a partir de la fecha de nacimiento\n",
        "df_consistencia['EdadCalculada'] = (pd.to_datetime('2024-01-01') - df_consistencia['FECHANACIMIENTO']).dt.days // 365\n",
        "\n",
        "# Encuentra las filas donde la edad calculada difiere de la edad en la columna EDAD2\n",
        "filas_inconsistentes = df_consistencia[df_consistencia['EdadCalculada'] != df_consistencia['EDAD2']]\n",
        "\n",
        "# Imprime las filas inconsistentes\n",
        "print(\"Filas inconsistentes entre EDAD2 y FECHANACIMIENTO:\")\n",
        "print(filas_inconsistentes[['FECHANACIMIENTO', 'EDAD2', 'EdadCalculada']])\n",
        "\n",
        "# Puedes analizar las filas inconsistentes para determinar si hay errores en la columna EDAD2 o FECHANACIMIENTO.\n",
        "# Por ejemplo, puedes decidir si actualizar la columna EDAD2 con la edad calculada o investigar la fuente de los datos.\n"
      ],
      "metadata": {
        "colab": {
          "base_uri": "https://localhost:8080/"
        },
        "id": "mGLkjtRIbuC5",
        "outputId": "0f697bc0-49b6-42c2-abc7-bf51608f1e17"
      },
      "execution_count": null,
      "outputs": [
        {
          "output_type": "stream",
          "name": "stdout",
          "text": [
            "Filas inconsistentes entre EDAD2 y FECHANACIMIENTO:\n",
            "      FECHANACIMIENTO  EDAD2  EdadCalculada\n",
            "0          1996-02-04     21             27\n",
            "1          1990-01-08     27             34\n",
            "5          1996-12-10     21             27\n",
            "6          1995-12-01     22             28\n",
            "7          1997-12-08     20             26\n",
            "...               ...    ...            ...\n",
            "55413      2001-09-09     18             22\n",
            "55415      1999-11-10     21             24\n",
            "55416      2000-02-03     20             23\n",
            "55417      2001-01-09     18             22\n",
            "55418      1998-03-03     22             25\n",
            "\n",
            "[19340 rows x 3 columns]\n"
          ]
        },
        {
          "output_type": "stream",
          "name": "stderr",
          "text": [
            "<ipython-input-105-503f8595aad0>:13: SettingWithCopyWarning: \n",
            "A value is trying to be set on a copy of a slice from a DataFrame.\n",
            "Try using .loc[row_indexer,col_indexer] = value instead\n",
            "\n",
            "See the caveats in the documentation: https://pandas.pydata.org/pandas-docs/stable/user_guide/indexing.html#returning-a-view-versus-a-copy\n",
            "  df_consistencia['EdadCalculada'] = (pd.to_datetime('2024-01-01') - df_consistencia['FECHANACIMIENTO']).dt.days // 365\n"
          ]
        }
      ]
    },
    {
      "cell_type": "markdown",
      "source": [
        "A primera vista parece haber un fuerte problema de consistencia entre la fecha de nacimiento y la edad actual. No obstante, debemos recordar que estos se tratan de datos historicos, y en muchos de los casos se tienen registros de estudiantes ya retirados que not tiene sentido seguir actualizando, por lo que no se pondrá mucha atención a corregir este problema, y se seguirá trabajando con la edad reportada por el df."
      ],
      "metadata": {
        "id": "za2taAdHcVFm"
      }
    },
    {
      "cell_type": "markdown",
      "source": [
        "## **3.2. Preparación de Datos**"
      ],
      "metadata": {
        "id": "k05tp6xViX1a"
      }
    },
    {
      "cell_type": "markdown",
      "source": [
        "Para desarrollar un modelo que pueda predecir si un estudiante está en riesgo de desertar, se han seleccionado las siguientes columnas como las más relevantes:\n",
        "\n",
        "  1. SITUACION_ACTUAL: Esta variable es crucial ya que proporciona información directa sobre el estado del estudiante en relación con su desempeño académico. Un estudiante en riesgo podría estar en una situación académica desfavorable.\n",
        "\n",
        "  2. PROGRAMA: Diferentes programas académicos pueden tener tasas de deserción variables. Comprender el programa al que pertenece un estudiante puede ofrecer información sobre su posible riesgo de deserción.\n",
        "\n",
        "  3. PROMEDIO: Este es un indicador directo del rendimiento académico del estudiante. Un promedio bajo puede ser una señal de alerta para la deserción.\n",
        "\n",
        "  4. ESTADOCIVIL: La situación personal de un estudiante puede influir en su capacidad para completar su educación. Por ejemplo, los estudiantes casados pueden tener diferentes responsabilidades que afectan su rendimiento académico.\n",
        "\n",
        "  5. CIUDADRESIDENCIA: La ubicación geográfica del estudiante puede impactar su acceso a recursos educativos y apoyo, lo que a su vez puede influir en su tasa de deserción.\n",
        "\n",
        "  6. SEMESTRE: El semestre actual puede ser un indicador del progreso académico del estudiante. Los estudiantes que están más avanzados en su educación podrían tener un menor riesgo de deserción.\n",
        "\n",
        "  7. ESTRATO: Este indicador socioeconómico puede reflejar las dificultades financieras que un estudiante podría enfrentar, lo que puede influir en su decisión de continuar su educación.\n",
        "\n",
        "  8. SITUACION_DEL_PERIODO: Conocer si un estudiante está en rendimiento académico o no es fundamental para evaluar su riesgo de deserción.\n",
        "\n",
        "  9. EDAD2: La edad puede influir en la madurez y la capacidad del estudiante para manejar las exigencias académicas y personales, lo que puede afectar su tasa de deserción."
      ],
      "metadata": {
        "id": "vVolfBRdibhz"
      }
    },
    {
      "cell_type": "markdown",
      "source": [
        "A continuación, se llevará a cabo un proceso de preparación de datos que incluye la selección de columnas, la limpieza de datos, la conversión de variables categóricas en numéricas y la identificación de valores anómalos."
      ],
      "metadata": {
        "id": "x8ihV4qKinck"
      }
    },
    {
      "cell_type": "markdown",
      "source": [
        "### **3.1.1. Selección de Variables**"
      ],
      "metadata": {
        "id": "Zr6AKHHuirEm"
      }
    },
    {
      "cell_type": "markdown",
      "source": [
        "Primero, seleccionaremos las columnas que hemos considerado relevantes para nuestro análisis."
      ],
      "metadata": {
        "id": "-h31I9YAitq8"
      }
    },
    {
      "cell_type": "code",
      "source": [
        "# Selección de columnas relevantes\n",
        "selected_columns = [\n",
        "    'SITUACION_ACTUAL',\n",
        "    'PROGRAMA',\n",
        "    'PROMEDIOSEMESTRE',\n",
        "    'PROMEDIOGENERAL',\n",
        "    'ESTADOCIVIL',\n",
        "    'CIUDADRESIDENCIA',\n",
        "    'SEMESTRE',\n",
        "    'ESTRATO',\n",
        "    'SITUACION_DEL_PERIODO',\n",
        "    'EDAD2'\n",
        "]\n",
        "\n",
        "# Crear un nuevo DataFrame con las columnas seleccionadas\n",
        "df_prepared = df_demograficos[selected_columns].copy()\n"
      ],
      "metadata": {
        "id": "3koZysWqisRg"
      },
      "execution_count": null,
      "outputs": []
    },
    {
      "cell_type": "markdown",
      "source": [
        "### **3.1.2. Análisis de Valores Anómalos**"
      ],
      "metadata": {
        "id": "YRuuuaMei5C9"
      }
    },
    {
      "cell_type": "markdown",
      "source": [
        "Realizaremos un análisis de valores anómalos en las variables numéricas, especialmente en PROMEDIO y  EDAD2."
      ],
      "metadata": {
        "id": "u-TnTgAVi9At"
      }
    },
    {
      "cell_type": "code",
      "source": [
        "# Anlisis de valores anomalos para la columna EDAD2\n",
        "\n",
        "# Crear un boxplot para visualizar los valores anómalos en EDAD2\n",
        "plt.figure(figsize=(8, 6))\n",
        "sns.boxplot(x=df_prepared['EDAD2'])\n",
        "plt.title('Boxplot de EDAD2')\n",
        "plt.show()\n",
        "\n",
        "# Calcular el rango intercuartílico (IQR)\n",
        "Q1 = df_prepared['EDAD2'].quantile(0.25)\n",
        "Q3 = df_prepared['EDAD2'].quantile(0.75)\n",
        "IQR = Q3 - Q1\n",
        "\n",
        "# Definir los límites superior e inferior para identificar valores atípicos\n",
        "lower_bound = Q1 - 1.5 * IQR\n",
        "upper_bound = Q3 + 1.5 * IQR\n",
        "\n",
        "# Identificar los valores atípicos\n",
        "outliers_edad2 = df_prepared[(df_prepared['EDAD2'] < lower_bound) | (df_prepared['EDAD2'] > upper_bound)]\n",
        "\n",
        "# Imprimir el número de valores atípicos\n",
        "print(f\"Número de valores atípicos en EDAD2: {len(outliers_edad2)}\")\n"
      ],
      "metadata": {
        "colab": {
          "base_uri": "https://localhost:8080/",
          "height": 616
        },
        "id": "uMrpg1cOi8bP",
        "outputId": "d67f3ae4-7d56-49e6-a072-77b23bf7cb12"
      },
      "execution_count": null,
      "outputs": [
        {
          "output_type": "stream",
          "name": "stderr",
          "text": [
            "/usr/local/lib/python3.10/dist-packages/seaborn/categorical.py:640: FutureWarning: SeriesGroupBy.grouper is deprecated and will be removed in a future version of pandas.\n",
            "  positions = grouped.grouper.result_index.to_numpy(dtype=float)\n"
          ]
        },
        {
          "output_type": "display_data",
          "data": {
            "text/plain": [
              "<Figure size 800x600 with 1 Axes>"
            ],
            "image/png": "[encoded data removed]"
          },
          "metadata": {}
        },
        {
          "output_type": "stream",
          "name": "stdout",
          "text": [
            "Número de valores atípicos en EDAD2: 4481\n"
          ]
        }
      ]
    },
    {
      "cell_type": "markdown",
      "source": [
        "Si bien el numero de estudiantes parecen ser en su mayoria jovenes de 20-25 años, tambien hay un gran grupode estudiantes alrededor de los 35-40 años, que realmente dado su gran numero, no seria correcto consideralos anomalos, por lo que seria mejor analizar estos dos grupos de edad por separado\n",
        "\n",
        "Aun asi existen edades por encima de los 100 años, valores que claramente son anomalos y rompen con la integridad del dataset."
      ],
      "metadata": {
        "id": "OqajmriwjaUj"
      }
    },
    {
      "cell_type": "code",
      "source": [
        "# Elimina filas con edades por encima de los 100 años\n",
        "\n",
        "df_prepared = df_prepared[df_prepared['EDAD2'] <= 100]\n"
      ],
      "metadata": {
        "id": "OorTScbajyAo"
      },
      "execution_count": null,
      "outputs": []
    },
    {
      "cell_type": "code",
      "source": [
        "# 1. Dividir los datos en dos grupos\n",
        "grupo_joven = df_prepared[df_prepared['EDAD2'] <= 25]\n",
        "grupo_mayor = df_prepared[df_prepared['EDAD2'] > 25]\n",
        "\n",
        "# 2. Cálculo de la media de cada grupo\n",
        "media_joven = grupo_joven['EDAD2'].mean()\n",
        "media_mayor = grupo_mayor['EDAD2'].mean()\n",
        "\n",
        "print(f'Media del grupo joven (18-25 años): {media_joven}')\n",
        "print(f'Media del grupo mayor (más de 25 años): {media_mayor}')\n",
        "\n",
        "# 3. Realizar la prueba T para muestras independientes\n",
        "t_statistic, p_value = stats.ttest_ind(grupo_joven['EDAD2'], grupo_mayor['EDAD2'], equal_var=False)\n",
        "\n",
        "print(f'Estadística T: {t_statistic}, Valor P: {p_value}')\n",
        "\n",
        "# 4. Interpretar el resultado\n",
        "alpha = 0.05\n",
        "if p_value < alpha:\n",
        "    print(\"Se rechaza la hipótesis nula: hay una diferencia significativa entre los grupos.\")\n",
        "else:\n",
        "    print(\"No se rechaza la hipótesis nula: no hay una diferencia significativa entre los grupos.\")\n"
      ],
      "metadata": {
        "colab": {
          "base_uri": "https://localhost:8080/"
        },
        "id": "uG0R0LPHj23Y",
        "outputId": "50f81d7b-3c76-4600-9ffc-987b6517a44d"
      },
      "execution_count": null,
      "outputs": [
        {
          "output_type": "stream",
          "name": "stdout",
          "text": [
            "Media del grupo joven (18-25 años): 20.889163213120536\n",
            "Media del grupo mayor (más de 25 años): 32.21446334427534\n",
            "Estadística T: -158.85862900060937, Valor P: 0.0\n",
            "Se rechaza la hipótesis nula: hay una diferencia significativa entre los grupos.\n"
          ]
        }
      ]
    },
    {
      "cell_type": "code",
      "source": [
        "# Agregamos una columna 'Grupo' al DataFrame para diferenciarlos\n",
        "df_prepared['Grupo'] = np.where(df_prepared['EDAD2'] <= 25, 'Jovenes', 'Mayores')\n",
        "\n",
        "# Gráfico de violín\n",
        "plt.figure(figsize=(10, 6))\n",
        "sns.violinplot(x='Grupo', y='EDAD2', data=df_prepared, palette='pastel')\n",
        "\n",
        "# Configuración del gráfico\n",
        "plt.title('Distribución de Edades por Grupo', fontsize=16)\n",
        "plt.xlabel('Grupo de Edad', fontsize=14)\n",
        "plt.ylabel('Edad (años)', fontsize=14)\n",
        "plt.xticks(fontsize=12)\n",
        "plt.yticks(fontsize=12)\n",
        "\n",
        "# Mostrar el gráfico\n",
        "plt.grid()\n",
        "plt.show()"
      ],
      "metadata": {
        "colab": {
          "base_uri": "https://localhost:8080/",
          "height": 768
        },
        "id": "16e1CLvIk48q",
        "outputId": "fdfdc02e-f72a-4625-82de-001e45108b3e"
      },
      "execution_count": null,
      "outputs": [
        {
          "output_type": "stream",
          "name": "stderr",
          "text": [
            "<ipython-input-110-7ef285df6388>:2: SettingWithCopyWarning: \n",
            "A value is trying to be set on a copy of a slice from a DataFrame.\n",
            "Try using .loc[row_indexer,col_indexer] = value instead\n",
            "\n",
            "See the caveats in the documentation: https://pandas.pydata.org/pandas-docs/stable/user_guide/indexing.html#returning-a-view-versus-a-copy\n",
            "  df_prepared['Grupo'] = np.where(df_prepared['EDAD2'] <= 25, 'Jovenes', 'Mayores')\n",
            "<ipython-input-110-7ef285df6388>:6: FutureWarning: \n",
            "\n",
            "Passing `palette` without assigning `hue` is deprecated and will be removed in v0.14.0. Assign the `x` variable to `hue` and set `legend=False` for the same effect.\n",
            "\n",
            "  sns.violinplot(x='Grupo', y='EDAD2', data=df_prepared, palette='pastel')\n"
          ]
        },
        {
          "output_type": "display_data",
          "data": {
            "text/plain": [
              "<Figure size 1000x600 with 1 Axes>"
            ],
            "image/png": "[encoded data removed]"
          },
          "metadata": {}
        }
      ]
    },
    {
      "cell_type": "markdown",
      "source": [
        "Dividir a los estudiantes en los grupos de 18 a 25 años y aquellos mayores de 25 años permite analizar conjuntos más uniformes y homogéneos. Esta segmentación facilita la identificación de patrones y tendencias específicas dentro de cada grupo, lo que resulta en un análisis más claro y efectivo"
      ],
      "metadata": {
        "id": "eylImGG6l-Ye"
      }
    },
    {
      "cell_type": "code",
      "source": [
        "# Anlisis de valores anomalos para la columna PROMEDIO general como un histograma con lineas en los quartiles e improme la cantidad de anomalos\n",
        "\n",
        "# Analisis de valores anomalos para la columna PROMEDIOGENERAL\n",
        "plt.figure(figsize=(8, 6))\n",
        "sns.histplot(df_prepared['PROMEDIOGENERAL'], kde=True)\n",
        "plt.title('Histograma de PROMEDIOGENERAL')\n",
        "plt.xlabel('Promedio')\n",
        "plt.ylabel('Frecuencia')\n",
        "\n",
        "# Calcular quartiles\n",
        "Q1 = df_prepared['PROMEDIOGENERAL'].quantile(0.25)\n",
        "Q3 = df_prepared['PROMEDIOGENERAL'].quantile(0.75)\n",
        "IQR = Q3 - Q1\n",
        "\n",
        "# Límites para valores atípicos\n",
        "lower_bound = Q1 - 1.5 * IQR\n",
        "upper_bound = Q3 + 1.5 * IQR\n",
        "\n",
        "# Agregar líneas verticales en los quartiles\n",
        "plt.axvline(Q1, color='red', linestyle='--', label='Q1')\n",
        "plt.axvline(Q3, color='red', linestyle='--', label='Q3')\n",
        "plt.axvline(lower_bound, color='green', linestyle='--', label='Límite Inferior')\n",
        "plt.axvline(upper_bound, color='green', linestyle='--', label='Límite Superior')\n",
        "plt.legend()\n",
        "\n",
        "plt.show()\n",
        "\n",
        "\n",
        "# Identificar valores atípicos\n",
        "outliers_promediogeneral = df_prepared[(df_prepared['PROMEDIOGENERAL'] < lower_bound) | (df_prepared['PROMEDIOGENERAL'] > upper_bound)]\n",
        "\n",
        "# Imprimir el número de valores atípicos\n",
        "print(f\"Número de valores atípicos en PROMEDIOGENERAL: {len(outliers_promediogeneral)}\")\n"
      ],
      "metadata": {
        "colab": {
          "base_uri": "https://localhost:8080/",
          "height": 581
        },
        "id": "SjiiDLglm9KQ",
        "outputId": "4fa572b8-0fa4-455e-fa9a-28174e676bcd"
      },
      "execution_count": null,
      "outputs": [
        {
          "output_type": "display_data",
          "data": {
            "text/plain": [
              "<Figure size 800x600 with 1 Axes>"
            ],
            "image/png": "[encoded data removed]"
          },
          "metadata": {}
        },
        {
          "output_type": "stream",
          "name": "stdout",
          "text": [
            "Número de valores atípicos en PROMEDIOGENERAL: 974\n"
          ]
        }
      ]
    },
    {
      "cell_type": "markdown",
      "source": [
        "## **3.1.3. Conversión de Variables Categóricas a Numéricas**"
      ],
      "metadata": {
        "id": "Asdpw0J6qeB1"
      }
    },
    {
      "cell_type": "markdown",
      "source": [
        "Las variables categóricas se convertirán en numéricas utilizando la codificación ordinal o dummy, según corresponda."
      ],
      "metadata": {
        "id": "RIPEAEThq9ab"
      }
    },
    {
      "cell_type": "code",
      "source": [
        "# Conversión de variables categóricas a numéricas\n",
        "df_prepared['PROGRAMA'] = df_prepared['PROGRAMA'].astype('category').cat.codes\n",
        "df_prepared['ESTADOCIVIL'] = df_prepared['ESTADOCIVIL'].astype('category').cat.codes\n",
        "df_prepared['CIUDADRESIDENCIA'] = df_prepared['CIUDADRESIDENCIA'].astype('category').cat.codes\n",
        "df_prepared['SITUACION_DEL_PERIODO'] = df_prepared['SITUACION_DEL_PERIODO'].astype('category').cat.codes\n",
        "df_prepared['Grupo'] = df_prepared['Grupo'].astype('category').cat.codes\n",
        "\n",
        "# Separar situacion actual dependiendo de si tiene \"EXCLUIDO\" en el nombre (Desertado por alguna razón) o no lo tiene\n",
        "df_prepared['SITUACION_ACTUAL'] = df_prepared['SITUACION_ACTUAL'].apply(lambda x: 1 if \"EXCLUIDO\" in x else 0)"
      ],
      "metadata": {
        "id": "iU5F-NfTqg9m"
      },
      "execution_count": null,
      "outputs": []
    },
    {
      "cell_type": "markdown",
      "source": [
        "## **3.1.4. Normalización de Datos**"
      ],
      "metadata": {
        "id": "IfVlspUgrEDh"
      }
    },
    {
      "cell_type": "markdown",
      "source": [
        "Finalmente, se normalizarán las variables numéricas para que todas estén en la misma escala."
      ],
      "metadata": {
        "id": "1nvdpUcTrH_K"
      }
    },
    {
      "cell_type": "code",
      "source": [
        "scaler = StandardScaler()\n",
        "numerical_columns = ['PROMEDIOGENERAL', 'PROMEDIOSEMESTRE', 'EDAD2', 'ESTRATO', 'SEMESTRE']\n",
        "df_prepared[numerical_columns] = scaler.fit_transform(df_prepared[numerical_columns])\n"
      ],
      "metadata": {
        "id": "J5VSgKxsrHBQ"
      },
      "execution_count": null,
      "outputs": []
    },
    {
      "cell_type": "markdown",
      "source": [
        "# **4. Primera prueba modeo de predicción**"
      ],
      "metadata": {
        "id": "MTeuW55ps-Wq"
      }
    },
    {
      "cell_type": "markdown",
      "source": [
        "Se realizará una primera versión simple de un modelo de predicciń para ver cuales variables de las seleccionadas influyen mas en la situacion actual del estudiante (desertado por algun motivo o activo)"
      ],
      "metadata": {
        "id": "th4q8X-ktF7N"
      }
    },
    {
      "cell_type": "code",
      "source": [
        "# Definir las variables predictoras (X) y la variable objetivo (y)\n",
        "X = df_prepared.drop('SITUACION_ACTUAL', axis=1)\n",
        "y = df_prepared['SITUACION_ACTUAL']\n",
        "\n",
        "# Dividir los datos en conjuntos de entrenamiento y prueba\n",
        "X_train, X_test, y_train, y_test = train_test_split(X, y, test_size=0.2, random_state=42)\n",
        "\n",
        "# Crear un modelo de regresión logística\n",
        "model = LogisticRegression()\n",
        "\n",
        "# Entrenar el modelo\n",
        "model.fit(X_train, y_train)\n",
        "\n",
        "# Realizar predicciones en el conjunto de prueba\n",
        "y_pred = model.predict(X_test)\n",
        "\n",
        "# Evaluar el modelo\n",
        "accuracy = accuracy_score(y_test, y_pred)\n",
        "print(f\"Precisión del modelo: {accuracy}\")\n",
        "\n",
        "# Mostrar el informe de clasificación\n",
        "print(classification_report(y_test, y_pred))\n",
        "\n",
        "# Obtener la importancia de las variables\n",
        "importance = model.coef_[0]\n",
        "\n",
        "# Crear un DataFrame con la importancia de las variables\n",
        "feature_importance = pd.DataFrame({'Variable': X.columns, 'Importancia': importance})\n",
        "\n",
        "# Ordenar el DataFrame por importancia\n",
        "feature_importance = feature_importance.sort_values('Importancia', ascending=False)\n",
        "\n",
        "# Mostrar la importancia de las variables\n",
        "print(\"\\nImportancia de las variables:\")\n",
        "print(feature_importance)\n"
      ],
      "metadata": {
        "colab": {
          "base_uri": "https://localhost:8080/"
        },
        "id": "6uWQcI29rmnf",
        "outputId": "20c17b93-ff16-4924-ae1f-c4065da5c1e5"
      },
      "execution_count": null,
      "outputs": [
        {
          "output_type": "stream",
          "name": "stdout",
          "text": [
            "Precisión del modelo: 0.6753879465896788\n",
            "              precision    recall  f1-score   support\n",
            "\n",
            "           0       0.62      0.46      0.53      4352\n",
            "           1       0.70      0.81      0.75      6732\n",
            "\n",
            "    accuracy                           0.68     11084\n",
            "   macro avg       0.66      0.64      0.64     11084\n",
            "weighted avg       0.67      0.68      0.66     11084\n",
            "\n",
            "\n",
            "Importancia de las variables:\n",
            "                Variable  Importancia\n",
            "5               SEMESTRE     0.540240\n",
            "1       PROMEDIOSEMESTRE     0.446433\n",
            "9                  Grupo     0.249379\n",
            "6                ESTRATO     0.243583\n",
            "8                  EDAD2     0.167139\n",
            "4       CIUDADRESIDENCIA     0.000614\n",
            "0               PROGRAMA    -0.016486\n",
            "3            ESTADOCIVIL    -0.051546\n",
            "2        PROMEDIOGENERAL    -0.305593\n",
            "7  SITUACION_DEL_PERIODO    -0.818600\n"
          ]
        },
        {
          "output_type": "stream",
          "name": "stderr",
          "text": [
            "/usr/local/lib/python3.10/dist-packages/sklearn/linear_model/_logistic.py:469: ConvergenceWarning: lbfgs failed to converge (status=1):\n",
            "STOP: TOTAL NO. of ITERATIONS REACHED LIMIT.\n",
            "\n",
            "Increase the number of iterations (max_iter) or scale the data as shown in:\n",
            "    https://scikit-learn.org/stable/modules/preprocessing.html\n",
            "Please also refer to the documentation for alternative solver options:\n",
            "    https://scikit-learn.org/stable/modules/linear_model.html#logistic-regression\n",
            "  n_iter_i = _check_optimize_result(\n"
          ]
        }
      ]
    },
    {
      "cell_type": "markdown",
      "source": [
        "Podemos ver que la Situación del periodo (Estar o no en prueba academica), el semestre en el cual se encuentra el estudiante, y su promedio del ultimo semestre y promedio general son los factores que se correlacionan mas fuertemente con la decision de desertar o no de los estudiantes."
      ],
      "metadata": {
        "id": "F92v9lHItTWf"
      }
    }
  ]
}