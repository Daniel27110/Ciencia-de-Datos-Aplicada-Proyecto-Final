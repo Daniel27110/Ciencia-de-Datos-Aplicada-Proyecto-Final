{
 "cells": [
  {
   "cell_type": "markdown",
   "metadata": {},
   "source": [
    "# Construcción de Pipeline del Modelo"
   ]
  },
  {
   "cell_type": "markdown",
   "metadata": {},
   "source": [
    "## Importaciones"
   ]
  },
  {
   "cell_type": "code",
   "execution_count": 1,
   "metadata": {},
   "outputs": [],
   "source": [
    "# Manejo de datos y operaciones\n",
    "import numpy as np\n",
    "import pandas as pd\n",
    "\n",
    "# Visualización\n",
    "import matplotlib.pyplot as plt\n",
    "import seaborn as sns\n",
    "\n",
    "# Preprocesamiento de datos\n",
    "from sklearn.model_selection import train_test_split\n",
    "from sklearn.preprocessing import LabelEncoder\n",
    "from sklearn.pipeline import Pipeline\n",
    "import joblib\n",
    "from sklearn.base import BaseEstimator, TransformerMixin\n",
    "from sklearn.compose import ColumnTransformer\n",
    "from imblearn.over_sampling import SMOTE\n",
    "\n",
    "\n",
    "# Modelos de machine learning\n",
    "from sklearn.ensemble import RandomForestClassifier\n",
    "\n",
    "# Métricas\n",
    "from sklearn.metrics import classification_report, accuracy_score, confusion_matrix\n",
    "\n",
    "# Manejo de archivos\n",
    "import os\n",
    "from pathlib import Path\n",
    "\n",
    "# Miscellaneous\n",
    "import warnings\n",
    "warnings.filterwarnings('ignore') \n",
    "\n"
   ]
  },
  {
   "cell_type": "markdown",
   "metadata": {},
   "source": [
    "## Lectura de los Datos"
   ]
  },
  {
   "cell_type": "code",
   "execution_count": 2,
   "metadata": {},
   "outputs": [],
   "source": [
    "#Cargar los datos despues  \n",
    "\n",
    "df = pd.read_csv(\"../stage/train.csv\")"
   ]
  },
  {
   "cell_type": "code",
   "execution_count": 3,
   "metadata": {},
   "outputs": [],
   "source": [
    "# Separar las características (X) y la variable objetivo (y)\n",
    "X = df.drop(columns=['target'])  # Excluir la columna target\n",
    "y = df['target']  # Variable objetivo\n",
    "\n",
    "# Dividir el conjunto en train + validation (80%) y test (20%)\n",
    "X_train, X_test, y_train, y_test = train_test_split(X, y, test_size=0.2, random_state=42, stratify=y)\n",
    "\n",
    "# Dividir el conjunto de train en train (80% de train) y validation (20% de train)\n",
    "X_train, X_val, y_train, y_val = train_test_split(X_train, y_train, test_size=0.2, random_state=42, stratify=y_train)"
   ]
  },
  {
   "cell_type": "code",
   "execution_count": 4,
   "metadata": {},
   "outputs": [],
   "source": [
    "smote = SMOTE(random_state=42)\n",
    "\n",
    "# --- Random Forest (sin escalado, pero con SMOTE) ---\n",
    "x_rf_train, y_rf_train = smote.fit_resample(X_train, y_train)\n",
    "x_rf_val, y_rf_val = X_val, y_val  # Sin escalado\n",
    "x_rf_test, y_rf_test = X_test, y_test  # Sin escalado"
   ]
  },
  {
   "cell_type": "markdown",
   "metadata": {},
   "source": [
    "## Construcción del Pipeline"
   ]
  },
  {
   "cell_type": "code",
   "execution_count": 5,
   "metadata": {},
   "outputs": [],
   "source": [
    "class LabelEncoderWrapper(BaseEstimator, TransformerMixin):\n",
    "    def __init__(self):\n",
    "        self.encoders = {}\n",
    "    \n",
    "    def fit(self, X, y=None):\n",
    "        for col in X.columns:\n",
    "            self.encoders[col] = LabelEncoder()\n",
    "            self.encoders[col].fit(X[col])\n",
    "        return self\n",
    "    \n",
    "    def transform(self, X):\n",
    "        X_copy = X.copy()\n",
    "        for col in X.columns:\n",
    "            X_copy[col] = self.encoders[col].transform(X[col])\n",
    "        return X_copy"
   ]
  },
  {
   "cell_type": "code",
   "execution_count": 6,
   "metadata": {},
   "outputs": [
    {
     "name": "stdout",
     "output_type": "stream",
     "text": [
      "Accuracy: 0.8433001107419712\n",
      "Classification Report:\n",
      "               precision    recall  f1-score   support\n",
      "\n",
      "           0       0.43      0.50      0.46       246\n",
      "           1       0.92      0.90      0.91      1560\n",
      "\n",
      "    accuracy                           0.84      1806\n",
      "   macro avg       0.68      0.70      0.69      1806\n",
      "weighted avg       0.85      0.84      0.85      1806\n",
      "\n"
     ]
    }
   ],
   "source": [
    "# Identificar columnas categóricas y numéricas\n",
    "categorical_features = X.select_dtypes(include=['object']).columns\n",
    "numerical_features = X.select_dtypes(exclude=['object']).columns\n",
    "\n",
    "# Paso 1: Transformador para columnas categóricas\n",
    "categorical_transformer = Pipeline(steps=[\n",
    "    ('label_encoder', LabelEncoderWrapper())  # Wrapper para usar LabelEncoder en pipelines\n",
    "])\n",
    "\n",
    "# Paso 2: Combinación de transformadores con ColumnTransformer\n",
    "preprocessor = ColumnTransformer(\n",
    "    transformers=[\n",
    "        ('cat', categorical_transformer, categorical_features)\n",
    "    ],\n",
    "    remainder='passthrough'  # Las columnas numéricas se quedan igual\n",
    ")\n",
    "\n",
    "# Paso 3: Definir el pipeline completo\n",
    "pipeline = Pipeline(steps=[\n",
    "    ('preprocessor', preprocessor),\n",
    "    ('classifier', RandomForestClassifier(random_state=42))\n",
    "])\n",
    "\n",
    "# Entrenar el pipeline\n",
    "pipeline.fit(x_rf_train, y_rf_train)\n",
    "\n",
    "# Predecir y evaluar\n",
    "y_pred = pipeline.predict(X_test)\n",
    "print(\"Accuracy:\", accuracy_score(y_test, y_pred))\n",
    "print(\"Classification Report:\\n\", classification_report(y_test, y_pred))"
   ]
  },
  {
   "cell_type": "code",
   "execution_count": 7,
   "metadata": {},
   "outputs": [
    {
     "data": {
      "text/plain": [
       "['../../deploy/rf_pipeline.joblib']"
      ]
     },
     "execution_count": 7,
     "metadata": {},
     "output_type": "execute_result"
    }
   ],
   "source": [
    "# Se procede a guardar el segundo modelo para su despliegue posterior\n",
    "joblib.dump(pipeline, '../../deploy/rf_pipeline.joblib')"
   ]
  }
 ],
 "metadata": {
  "kernelspec": {
   "display_name": "Python 3",
   "language": "python",
   "name": "python3"
  },
  "language_info": {
   "codemirror_mode": {
    "name": "ipython",
    "version": 3
   },
   "file_extension": ".py",
   "mimetype": "text/x-python",
   "name": "python",
   "nbconvert_exporter": "python",
   "pygments_lexer": "ipython3",
   "version": "3.11.7"
  }
 },
 "nbformat": 4,
 "nbformat_minor": 2
}
